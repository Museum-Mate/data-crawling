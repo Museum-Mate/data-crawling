{
 "cells": [
  {
   "attachments": {},
   "cell_type": "markdown",
   "metadata": {},
   "source": [
    "### Import"
   ]
  },
  {
   "cell_type": "code",
   "execution_count": 1,
   "metadata": {},
   "outputs": [],
   "source": [
    "import os\n",
    "import time\n",
    "import datetime\n",
    "import numpy as np\n",
    "import pandas as pd\n",
    "import requests\n",
    "import json\n",
    "import csv\n",
    "\n",
    "import pymysql\n",
    "\n",
    "from tqdm import tqdm\n",
    "from bs4 import BeautifulSoup\n",
    "from selenium import webdriver\n",
    "from urllib.parse import quote\n",
    "from urllib.request import urlretrieve\n",
    "from collections import Counter"
   ]
  },
  {
   "attachments": {},
   "cell_type": "markdown",
   "metadata": {},
   "source": [
    "### ENV"
   ]
  },
  {
   "cell_type": "code",
   "execution_count": 2,
   "metadata": {},
   "outputs": [],
   "source": [
    "# Load secrets.json\n",
    "with open('../src/secrets.json') as f:\n",
    "\n",
    "    json_data = json.load(f)\n",
    "\n",
    "#####################################################\n",
    "BUCKET_NAME = json_data['BUCKET_NAME']\n",
    "REGION_NAME = json_data['BUCKET_REGION']\n",
    "ACCESS_KEY = json_data['AWS_ACCESS_KEY']\n",
    "SECRET_KEY = json_data['AWS_SECRET_KEY']\n",
    "#####################################################\n",
    "DB_USER_NAME = json_data['MYSQL_USERNAME']\n",
    "DB_USER_PASSWORD= json_data['MYSQL_PASSWORD']\n",
    "DB_HOST = json_data['MYSQL_HOST']\n",
    "DB_TABLE_NAME = json_data['MYSQL_DB_NAME']\n",
    "#####################################################"
   ]
  },
  {
   "cell_type": "code",
   "execution_count": 3,
   "metadata": {},
   "outputs": [],
   "source": [
    "def get_exhibition_url(main_url):\n",
    "    print(f'url : {main_url} 을 크롤링 합니다.')\n",
    "        \n",
    "    resp = requests.get(main_url)\n",
    "\n",
    "    driver.get (main_url)\n",
    "\n",
    "    # 접근한 페이지의 소스코드를 텍스트로 저장 (Str)\n",
    "    page_text = driver.page_source\n",
    "\n",
    "    # page_text를 html list로 변환 \n",
    "    html = BeautifulSoup(page_text, 'html.parser')\n",
    "\n",
    "    global url_list\n",
    "    \n",
    "    url_list=[]\n",
    "\n",
    "    total_page_num = int(html.select_one('div.cm_paging_area._page > div > span > span._total').text)\n",
    "    \n",
    "    print(f\"총 {total_page_num} 페이지가 있습니다.\")\n",
    "\n",
    "    for i in tqdm(range(total_page_num)):\n",
    "        page_text = driver.page_source\n",
    "        html = BeautifulSoup(page_text, 'html.parser')\n",
    "\n",
    "        for i in html.select('div.area_text_box > strong.this_text > a'):\n",
    "            urls = i.attrs['href']\n",
    "            url_list.append('https://search.naver.com/search.naver' + urls)\n",
    "\n",
    "        driver.find_element_by_xpath('//*[@id=\"main_pack\"]/div[2]/div[2]/div/div/div[3]/div/a[2]').click()\n",
    "        time.sleep(1)\n",
    "\n",
    "    print(f\"전시회{len(url_list)}개의 주소를 수집했습니다.\")\n",
    "    \n",
    "    # print(url_list)"
   ]
  },
  {
   "cell_type": "code",
   "execution_count": 4,
   "metadata": {},
   "outputs": [],
   "source": [
    "def get_exhibition_info(element):\n",
    "    \n",
    "  # print(f'url : {url}')\n",
    "    \n",
    "  resp = requests.get(element)\n",
    "    \n",
    "  # print(f'resp : {resp}')\n",
    "    \n",
    "  driver.get(element)\n",
    "\n",
    "  page_text = driver.page_source\n",
    "\n",
    "  html = BeautifulSoup(page_text, 'html.parser')\n",
    "\n",
    "  # get title\n",
    "  title = html.select_one('div.title_area._title_area > h2 > span.area_text_title > strong > a').text\n",
    "  \n",
    "  # get place\n",
    "  try:\n",
    "    place = html.select_one('div.sc_new.cs_common_module.case_normal.color_23._kgs_art_exhibition > div.cm_content_wrap > div > div > div.detail_info > dl > div:nth-child(4) > dd > a').text\n",
    "    \n",
    "  except:\n",
    "    place = html.select_one('div.sc_new.cs_common_module.case_normal.color_23._kgs_art_exhibition > div.cm_content_wrap > div > div > div.detail_info > dl > div:nth-child(3) > dd > a').text\n",
    "\n",
    "  # get starting date, ending date\n",
    "  try:\n",
    "    date = html.select_one('div.detail_info > dl.info > div:nth-child(2) > dd').text\n",
    "    startAt = date.split(' ~')[0]\n",
    "    endAt = date.split(' ~')[1]\n",
    "  except:\n",
    "    startAt = '정보 없음'  \n",
    "    endAt = '정보 없음'\n",
    "\n",
    "  # get detail information url\n",
    "  try: \n",
    "    detail_info_url = html.select_one('span.area_text_title > strong > a').attrs['href']\n",
    "  except: \n",
    "    detail_info_url = '정보 없음'\n",
    "  \n",
    "  # ----------------------------------------------------------------------------------\n",
    "  # append\n",
    "  title_list.append(title)\n",
    "  place_list.append(place)\n",
    "  startAt_list.append(startAt)\n",
    "  endAt_list.append(endAt)\n",
    "  detail_info_url_list.append(detail_info_url)"
   ]
  },
  {
   "cell_type": "code",
   "execution_count": 7,
   "metadata": {},
   "outputs": [],
   "source": [
    "def get_DataFrame():\n",
    "\n",
    "  data = {\n",
    "    'name': title_list,\n",
    "    'start_at': startAt_list,\n",
    "    'end_at': endAt_list,\n",
    "    'price' : '무료',\n",
    "    'gallery_location': place_list,\n",
    "    'detail_info_url': detail_info_url_list \n",
    "  }\n",
    "\n",
    "  global df\n",
    "\n",
    "  df = pd.DataFrame(data)"
   ]
  },
  {
   "cell_type": "code",
   "execution_count": 5,
   "metadata": {},
   "outputs": [],
   "source": [
    "def save_csv() :\n",
    "    # 현재 시간 기준 폴더 생성\n",
    "    # NOW = datetime.datetime.now().strftime('%Y-%m-%d/%H:%M:%S')\n",
    "    global NOW\n",
    "    NOW = datetime.datetime.now().strftime('%Y-%m-%d') + '/csv'\n",
    "    # RECORD_IMG_PATH = os.path.join(f'../../data/img', NOW)\n",
    "    RECORD_CSV_PATH = os.path.join('../../data', NOW)\n",
    "    os.makedirs(RECORD_CSV_PATH, exist_ok=True)\n",
    "    \n",
    "    # df.to_csv(f'{RECORD_CSV_PATH}/exhibition.csv', index=False, encoding='utf-8-sig')\n",
    "    \n",
    "    # header 없이 저장\n",
    "    df.to_csv(f'{RECORD_CSV_PATH}/free_exhibition.csv', index=False, encoding='utf-8-sig', header=False)"
   ]
  },
  {
   "attachments": {},
   "cell_type": "markdown",
   "metadata": {},
   "source": [
    "### RUN"
   ]
  },
  {
   "cell_type": "code",
   "execution_count": 8,
   "metadata": {},
   "outputs": [
    {
     "name": "stdout",
     "output_type": "stream",
     "text": [
      "url : https://search.naver.com/search.naver?where=nexearch&sm=tab_etc&mra=bjBC&qvt=0&query=무료%20전시회 을 크롤링 합니다.\n",
      "총 14 페이지가 있습니다.\n"
     ]
    },
    {
     "name": "stderr",
     "output_type": "stream",
     "text": [
      "100%|██████████| 14/14 [00:23<00:00,  1.70s/it]\n"
     ]
    },
    {
     "name": "stdout",
     "output_type": "stream",
     "text": [
      "전시회53개의 주소를 수집했습니다.\n",
      "53 개의 전시회 세부 정보를 수집합니다.\n"
     ]
    },
    {
     "name": "stderr",
     "output_type": "stream",
     "text": [
      "100%|██████████| 53/53 [00:58<00:00,  1.11s/it]\n"
     ]
    }
   ],
   "source": [
    "# 크롬 드라이버 생성\n",
    "driver = webdriver.Chrome(executable_path = '../chromedriver')\n",
    "\n",
    "# 크롤링 웹사이트 url 설정\n",
    "main_url = 'https://search.naver.com/search.naver?where=nexearch&sm=tab_etc&mra=bjBC&qvt=0&query=무료%20전시회'\n",
    "\n",
    "try:\n",
    "    get_exhibition_url(main_url)\n",
    "\n",
    "    # title\n",
    "    title_list = []\n",
    "\n",
    "    # place\n",
    "    place_list = []\n",
    "\n",
    "    # date\n",
    "    startAt_list = []\n",
    "    endAt_list = []\n",
    "\n",
    "    # detail_info_url_list\n",
    "    detail_info_url_list = []\n",
    "\n",
    "    print(f'{len(url_list)} 개의 전시회 세부 정보를 수집합니다.')\n",
    "    for element in tqdm(url_list) :\n",
    "        get_exhibition_info(element)\n",
    "    time.sleep(1)\n",
    "    \n",
    "    driver.close()\n",
    "    \n",
    "    get_DataFrame()\n",
    "    \n",
    "    save_csv()\n",
    "    \n",
    "except Exception as e:\n",
    "    print(e)\n",
    "    print('Error Accured')\n",
    "    driver.close()"
   ]
  },
  {
   "attachments": {},
   "cell_type": "markdown",
   "metadata": {},
   "source": [
    "### Insert Data to DB"
   ]
  },
  {
   "cell_type": "code",
   "execution_count": 9,
   "metadata": {},
   "outputs": [],
   "source": [
    "# DB 연결\n",
    "connection = pymysql.connect(\n",
    "    user = DB_USER_NAME,\n",
    "    password = DB_USER_PASSWORD,\n",
    "    host = DB_HOST,\n",
    "    db = DB_TABLE_NAME,\n",
    "    charset = 'utf8',\n",
    ")"
   ]
  },
  {
   "cell_type": "code",
   "execution_count": 10,
   "metadata": {},
   "outputs": [],
   "source": [
    "# 커서 획득\n",
    "cursor = connection.cursor(pymysql.cursors.DictCursor)"
   ]
  },
  {
   "cell_type": "code",
   "execution_count": 12,
   "metadata": {},
   "outputs": [
    {
     "data": {
      "text/plain": [
       "'2023-01-28'"
      ]
     },
     "execution_count": 12,
     "metadata": {},
     "output_type": "execute_result"
    }
   ],
   "source": [
    "NOW_DATE = datetime.datetime.now().strftime('%Y-%m-%d')\n",
    "\n",
    "NOW_DATE"
   ]
  },
  {
   "cell_type": "code",
   "execution_count": 14,
   "metadata": {},
   "outputs": [],
   "source": [
    "# CSV\n",
    "\n",
    "NOW_DATE = datetime.datetime.now().strftime('%Y-%m-%d')\n",
    "\n",
    "f = open(f'../../data/{NOW_DATE}/csv/free_exhibition.csv', 'r', encoding='utf-8-sig')\n",
    "\n",
    "csvReader = csv.reader(f)"
   ]
  },
  {
   "cell_type": "code",
   "execution_count": 15,
   "metadata": {},
   "outputs": [
    {
     "ename": "DataError",
     "evalue": "(1406, \"Data too long for column 'start_at' at row 1\")",
     "output_type": "error",
     "traceback": [
      "\u001b[0;31m---------------------------------------------------------------------------\u001b[0m",
      "\u001b[0;31mDataError\u001b[0m                                 Traceback (most recent call last)",
      "Cell \u001b[0;32mIn[15], line 13\u001b[0m\n\u001b[1;32m      9\u001b[0m detail_info \u001b[39m=\u001b[39m (row[\u001b[39m5\u001b[39m])\n\u001b[1;32m     11\u001b[0m insert_sql \u001b[39m=\u001b[39m \u001b[39m\"\u001b[39m\u001b[39mINSERT INTO exhibition (name, start_at, end_at, price, detail_info, gallery_location) VALUES (\u001b[39m\u001b[39m%s\u001b[39;00m\u001b[39m, \u001b[39m\u001b[39m%s\u001b[39;00m\u001b[39m, \u001b[39m\u001b[39m%s\u001b[39;00m\u001b[39m, \u001b[39m\u001b[39m%s\u001b[39;00m\u001b[39m, \u001b[39m\u001b[39m%s\u001b[39;00m\u001b[39m, \u001b[39m\u001b[39m%s\u001b[39;00m\u001b[39m)\u001b[39m\u001b[39m\"\u001b[39m\n\u001b[0;32m---> 13\u001b[0m cursor\u001b[39m.\u001b[39;49mexecute(insert_sql, (name, start_at, end_at, price, detail_info, gallery_location))\n",
      "File \u001b[0;32m~/opt/anaconda3/envs/mume/lib/python3.8/site-packages/pymysql/cursors.py:148\u001b[0m, in \u001b[0;36mCursor.execute\u001b[0;34m(self, query, args)\u001b[0m\n\u001b[1;32m    144\u001b[0m     \u001b[39mpass\u001b[39;00m\n\u001b[1;32m    146\u001b[0m query \u001b[39m=\u001b[39m \u001b[39mself\u001b[39m\u001b[39m.\u001b[39mmogrify(query, args)\n\u001b[0;32m--> 148\u001b[0m result \u001b[39m=\u001b[39m \u001b[39mself\u001b[39;49m\u001b[39m.\u001b[39;49m_query(query)\n\u001b[1;32m    149\u001b[0m \u001b[39mself\u001b[39m\u001b[39m.\u001b[39m_executed \u001b[39m=\u001b[39m query\n\u001b[1;32m    150\u001b[0m \u001b[39mreturn\u001b[39;00m result\n",
      "File \u001b[0;32m~/opt/anaconda3/envs/mume/lib/python3.8/site-packages/pymysql/cursors.py:310\u001b[0m, in \u001b[0;36mCursor._query\u001b[0;34m(self, q)\u001b[0m\n\u001b[1;32m    308\u001b[0m \u001b[39mself\u001b[39m\u001b[39m.\u001b[39m_last_executed \u001b[39m=\u001b[39m q\n\u001b[1;32m    309\u001b[0m \u001b[39mself\u001b[39m\u001b[39m.\u001b[39m_clear_result()\n\u001b[0;32m--> 310\u001b[0m conn\u001b[39m.\u001b[39;49mquery(q)\n\u001b[1;32m    311\u001b[0m \u001b[39mself\u001b[39m\u001b[39m.\u001b[39m_do_get_result()\n\u001b[1;32m    312\u001b[0m \u001b[39mreturn\u001b[39;00m \u001b[39mself\u001b[39m\u001b[39m.\u001b[39mrowcount\n",
      "File \u001b[0;32m~/opt/anaconda3/envs/mume/lib/python3.8/site-packages/pymysql/connections.py:548\u001b[0m, in \u001b[0;36mConnection.query\u001b[0;34m(self, sql, unbuffered)\u001b[0m\n\u001b[1;32m    546\u001b[0m     sql \u001b[39m=\u001b[39m sql\u001b[39m.\u001b[39mencode(\u001b[39mself\u001b[39m\u001b[39m.\u001b[39mencoding, \u001b[39m\"\u001b[39m\u001b[39msurrogateescape\u001b[39m\u001b[39m\"\u001b[39m)\n\u001b[1;32m    547\u001b[0m \u001b[39mself\u001b[39m\u001b[39m.\u001b[39m_execute_command(COMMAND\u001b[39m.\u001b[39mCOM_QUERY, sql)\n\u001b[0;32m--> 548\u001b[0m \u001b[39mself\u001b[39m\u001b[39m.\u001b[39m_affected_rows \u001b[39m=\u001b[39m \u001b[39mself\u001b[39;49m\u001b[39m.\u001b[39;49m_read_query_result(unbuffered\u001b[39m=\u001b[39;49munbuffered)\n\u001b[1;32m    549\u001b[0m \u001b[39mreturn\u001b[39;00m \u001b[39mself\u001b[39m\u001b[39m.\u001b[39m_affected_rows\n",
      "File \u001b[0;32m~/opt/anaconda3/envs/mume/lib/python3.8/site-packages/pymysql/connections.py:775\u001b[0m, in \u001b[0;36mConnection._read_query_result\u001b[0;34m(self, unbuffered)\u001b[0m\n\u001b[1;32m    773\u001b[0m \u001b[39melse\u001b[39;00m:\n\u001b[1;32m    774\u001b[0m     result \u001b[39m=\u001b[39m MySQLResult(\u001b[39mself\u001b[39m)\n\u001b[0;32m--> 775\u001b[0m     result\u001b[39m.\u001b[39;49mread()\n\u001b[1;32m    776\u001b[0m \u001b[39mself\u001b[39m\u001b[39m.\u001b[39m_result \u001b[39m=\u001b[39m result\n\u001b[1;32m    777\u001b[0m \u001b[39mif\u001b[39;00m result\u001b[39m.\u001b[39mserver_status \u001b[39mis\u001b[39;00m \u001b[39mnot\u001b[39;00m \u001b[39mNone\u001b[39;00m:\n",
      "File \u001b[0;32m~/opt/anaconda3/envs/mume/lib/python3.8/site-packages/pymysql/connections.py:1156\u001b[0m, in \u001b[0;36mMySQLResult.read\u001b[0;34m(self)\u001b[0m\n\u001b[1;32m   1154\u001b[0m \u001b[39mdef\u001b[39;00m \u001b[39mread\u001b[39m(\u001b[39mself\u001b[39m):\n\u001b[1;32m   1155\u001b[0m     \u001b[39mtry\u001b[39;00m:\n\u001b[0;32m-> 1156\u001b[0m         first_packet \u001b[39m=\u001b[39m \u001b[39mself\u001b[39;49m\u001b[39m.\u001b[39;49mconnection\u001b[39m.\u001b[39;49m_read_packet()\n\u001b[1;32m   1158\u001b[0m         \u001b[39mif\u001b[39;00m first_packet\u001b[39m.\u001b[39mis_ok_packet():\n\u001b[1;32m   1159\u001b[0m             \u001b[39mself\u001b[39m\u001b[39m.\u001b[39m_read_ok_packet(first_packet)\n",
      "File \u001b[0;32m~/opt/anaconda3/envs/mume/lib/python3.8/site-packages/pymysql/connections.py:725\u001b[0m, in \u001b[0;36mConnection._read_packet\u001b[0;34m(self, packet_type)\u001b[0m\n\u001b[1;32m    723\u001b[0m     \u001b[39mif\u001b[39;00m \u001b[39mself\u001b[39m\u001b[39m.\u001b[39m_result \u001b[39mis\u001b[39;00m \u001b[39mnot\u001b[39;00m \u001b[39mNone\u001b[39;00m \u001b[39mand\u001b[39;00m \u001b[39mself\u001b[39m\u001b[39m.\u001b[39m_result\u001b[39m.\u001b[39munbuffered_active \u001b[39mis\u001b[39;00m \u001b[39mTrue\u001b[39;00m:\n\u001b[1;32m    724\u001b[0m         \u001b[39mself\u001b[39m\u001b[39m.\u001b[39m_result\u001b[39m.\u001b[39munbuffered_active \u001b[39m=\u001b[39m \u001b[39mFalse\u001b[39;00m\n\u001b[0;32m--> 725\u001b[0m     packet\u001b[39m.\u001b[39;49mraise_for_error()\n\u001b[1;32m    726\u001b[0m \u001b[39mreturn\u001b[39;00m packet\n",
      "File \u001b[0;32m~/opt/anaconda3/envs/mume/lib/python3.8/site-packages/pymysql/protocol.py:221\u001b[0m, in \u001b[0;36mMysqlPacket.raise_for_error\u001b[0;34m(self)\u001b[0m\n\u001b[1;32m    219\u001b[0m \u001b[39mif\u001b[39;00m DEBUG:\n\u001b[1;32m    220\u001b[0m     \u001b[39mprint\u001b[39m(\u001b[39m\"\u001b[39m\u001b[39merrno =\u001b[39m\u001b[39m\"\u001b[39m, errno)\n\u001b[0;32m--> 221\u001b[0m err\u001b[39m.\u001b[39;49mraise_mysql_exception(\u001b[39mself\u001b[39;49m\u001b[39m.\u001b[39;49m_data)\n",
      "File \u001b[0;32m~/opt/anaconda3/envs/mume/lib/python3.8/site-packages/pymysql/err.py:143\u001b[0m, in \u001b[0;36mraise_mysql_exception\u001b[0;34m(data)\u001b[0m\n\u001b[1;32m    141\u001b[0m \u001b[39mif\u001b[39;00m errorclass \u001b[39mis\u001b[39;00m \u001b[39mNone\u001b[39;00m:\n\u001b[1;32m    142\u001b[0m     errorclass \u001b[39m=\u001b[39m InternalError \u001b[39mif\u001b[39;00m errno \u001b[39m<\u001b[39m \u001b[39m1000\u001b[39m \u001b[39melse\u001b[39;00m OperationalError\n\u001b[0;32m--> 143\u001b[0m \u001b[39mraise\u001b[39;00m errorclass(errno, errval)\n",
      "\u001b[0;31mDataError\u001b[0m: (1406, \"Data too long for column 'start_at' at row 1\")"
     ]
    }
   ],
   "source": [
    "# 컬럼 매핑\n",
    "\n",
    "for row in csvReader:\n",
    "    name = (row[0])\n",
    "    start_at = (row[1])\n",
    "    end_at = (row[2])\n",
    "    price = (row[3])\n",
    "    gallery_location = (row[4])\n",
    "    detail_info = (row[5])\n",
    "    \n",
    "    insert_sql = \"INSERT INTO exhibition (name, start_at, end_at, price, detail_info, gallery_location) VALUES (%s, %s, %s, %s, %s, %s)\"\n",
    "    \n",
    "    cursor.execute(insert_sql, (name, start_at, end_at, price, detail_info, gallery_location))\n",
    "    \n"
   ]
  },
  {
   "cell_type": "code",
   "execution_count": 17,
   "metadata": {},
   "outputs": [
    {
     "data": {
      "text/html": [
       "<div>\n",
       "<style scoped>\n",
       "    .dataframe tbody tr th:only-of-type {\n",
       "        vertical-align: middle;\n",
       "    }\n",
       "\n",
       "    .dataframe tbody tr th {\n",
       "        vertical-align: top;\n",
       "    }\n",
       "\n",
       "    .dataframe thead th {\n",
       "        text-align: right;\n",
       "    }\n",
       "</style>\n",
       "<table border=\"1\" class=\"dataframe\">\n",
       "  <thead>\n",
       "    <tr style=\"text-align: right;\">\n",
       "      <th></th>\n",
       "      <th>name</th>\n",
       "      <th>start_at</th>\n",
       "      <th>end_at</th>\n",
       "      <th>price</th>\n",
       "      <th>gallery_location</th>\n",
       "      <th>detail_info_url</th>\n",
       "    </tr>\n",
       "  </thead>\n",
       "  <tbody>\n",
       "    <tr>\n",
       "      <th>0</th>\n",
       "      <td>Visualizing the invisible : 일상화된 건축의 관찰과 기록</td>\n",
       "      <td>2023.01.27.(금)</td>\n",
       "      <td>2023.03.31.(금)</td>\n",
       "      <td>무료</td>\n",
       "      <td>동대문디자인플라자갤러리문</td>\n",
       "      <td>https://ddp.or.kr/index.html?menuno=230&amp;siteno...</td>\n",
       "    </tr>\n",
       "    <tr>\n",
       "      <th>1</th>\n",
       "      <td>이현정 개인전</td>\n",
       "      <td>2023.01.26.(목)</td>\n",
       "      <td>2023.02.26.(일)</td>\n",
       "      <td>무료</td>\n",
       "      <td>코소</td>\n",
       "      <td>https://blog.naver.com/coso_seoul/222990149581</td>\n",
       "    </tr>\n",
       "    <tr>\n",
       "      <th>2</th>\n",
       "      <td>갤러리탐 51기 : 감영주 개인전</td>\n",
       "      <td>2023.01.04.(수)</td>\n",
       "      <td>2023.04.03.(월)</td>\n",
       "      <td>무료</td>\n",
       "      <td>탐앤탐스 창동본점</td>\n",
       "      <td>https://shopping.naver.com/art/stores/10025441...</td>\n",
       "    </tr>\n",
       "    <tr>\n",
       "      <th>3</th>\n",
       "      <td>갤러리탐 51기 : 토이아치 개인전</td>\n",
       "      <td>2023.01.04.(수)</td>\n",
       "      <td>2023.04.03.(월)</td>\n",
       "      <td>무료</td>\n",
       "      <td>탐앤탐스 블랙그레이트점</td>\n",
       "      <td>https://shopping.naver.com/art/stores/10025441...</td>\n",
       "    </tr>\n",
       "    <tr>\n",
       "      <th>4</th>\n",
       "      <td>갤러리탐 51기 : 이이영 개인전</td>\n",
       "      <td>2023.01.04.(수)</td>\n",
       "      <td>2023.04.03.(월)</td>\n",
       "      <td>무료</td>\n",
       "      <td>탐앤탐스 탐스커버리 건대점</td>\n",
       "      <td>https://shopping.naver.com/art/stores/10025441...</td>\n",
       "    </tr>\n",
       "  </tbody>\n",
       "</table>\n",
       "</div>"
      ],
      "text/plain": [
       "                                          name        start_at  \\\n",
       "0  Visualizing the invisible : 일상화된 건축의 관찰과 기록  2023.01.27.(금)   \n",
       "1                                      이현정 개인전  2023.01.26.(목)   \n",
       "2                           갤러리탐 51기 : 감영주 개인전  2023.01.04.(수)   \n",
       "3                          갤러리탐 51기 : 토이아치 개인전  2023.01.04.(수)   \n",
       "4                           갤러리탐 51기 : 이이영 개인전  2023.01.04.(수)   \n",
       "\n",
       "            end_at price gallery_location  \\\n",
       "0   2023.03.31.(금)    무료    동대문디자인플라자갤러리문   \n",
       "1   2023.02.26.(일)    무료               코소   \n",
       "2   2023.04.03.(월)    무료        탐앤탐스 창동본점   \n",
       "3   2023.04.03.(월)    무료     탐앤탐스 블랙그레이트점   \n",
       "4   2023.04.03.(월)    무료   탐앤탐스 탐스커버리 건대점   \n",
       "\n",
       "                                     detail_info_url  \n",
       "0  https://ddp.or.kr/index.html?menuno=230&siteno...  \n",
       "1     https://blog.naver.com/coso_seoul/222990149581  \n",
       "2  https://shopping.naver.com/art/stores/10025441...  \n",
       "3  https://shopping.naver.com/art/stores/10025441...  \n",
       "4  https://shopping.naver.com/art/stores/10025441...  "
      ]
     },
     "execution_count": 17,
     "metadata": {},
     "output_type": "execute_result"
    }
   ],
   "source": [
    "df.head()"
   ]
  },
  {
   "cell_type": "code",
   "execution_count": null,
   "metadata": {},
   "outputs": [],
   "source": []
  }
 ],
 "metadata": {
  "kernelspec": {
   "display_name": "mume",
   "language": "python",
   "name": "python3"
  },
  "language_info": {
   "codemirror_mode": {
    "name": "ipython",
    "version": 3
   },
   "file_extension": ".py",
   "mimetype": "text/x-python",
   "name": "python",
   "nbconvert_exporter": "python",
   "pygments_lexer": "ipython3",
   "version": "3.8.15"
  },
  "orig_nbformat": 4,
  "vscode": {
   "interpreter": {
    "hash": "1de4d2b8119a5b668e6c3712f88e66cada3e0604da4dcc3ccef75a084703d294"
   }
  }
 },
 "nbformat": 4,
 "nbformat_minor": 2
}
