{
 "cells": [
  {
   "cell_type": "code",
   "execution_count": 1,
   "metadata": {},
   "outputs": [],
   "source": [
    "import numpy as np\n",
    "import pandas as pd\n",
    "import requests\n",
    "import time\n",
    "import os\n",
    "\n",
    "\n",
    "from tqdm import tqdm\n",
    "from bs4 import BeautifulSoup\n",
    "from urllib.parse import quote\n",
    "from urllib.request import urlretrieve\n",
    "from selenium import webdriver\n",
    "from collections import Counter"
   ]
  },
  {
   "cell_type": "code",
   "execution_count": 2,
   "metadata": {},
   "outputs": [],
   "source": [
    "driver = webdriver.Chrome('../../chromedriver')"
   ]
  },
  {
   "cell_type": "code",
   "execution_count": 3,
   "metadata": {},
   "outputs": [],
   "source": [
    "# url 설정\n",
    "url = f'http://ticket.interpark.com/TPGoodsList.asp?Ca=Eve&SubCa=Eve_O&tid4=Eve_O&smid1=gnb&smid2=008&smid3=1'\n",
    "\n",
    "# requests로 데이터 요청하기\n",
    "resp = requests.get(url)\n",
    "\n",
    "# 설정한 url 로 데이터 get 함수 요청\n",
    "driver.get(url)"
   ]
  },
  {
   "cell_type": "code",
   "execution_count": 4,
   "metadata": {},
   "outputs": [],
   "source": [
    "# # 화면상에서 스크롤 끝까지 내리기\n",
    "# SCROLL_PAUSE_SEC = 1\n",
    "\n",
    "# # 스크롤 높이 가져옴\n",
    "# last_height = driver.execute_script(\"return document.body.scrollHeight\")\n",
    "\n",
    "# while True:\n",
    "#     # 끝까지 스크롤 다운\n",
    "#     driver.execute_script(\"window.scrollTo(0, document.body.scrollHeight);\")\n",
    "\n",
    "#     # 1초 대기\n",
    "#     time.sleep(SCROLL_PAUSE_SEC)\n",
    "\n",
    "#     # 스크롤 다운 후 스크롤 높이 다시 가져옴\n",
    "#     new_height = driver.execute_script(\"return document.body.scrollHeight\")\n",
    "#     if new_height == last_height:\n",
    "#         break\n",
    "#     last_height = new_height"
   ]
  },
  {
   "cell_type": "code",
   "execution_count": 5,
   "metadata": {},
   "outputs": [],
   "source": [
    "# 접근한 페이지의 소스코드를 텍스트로 저장 (Str)\n",
    "page_text = driver.page_source\n",
    "\n",
    "# page_text를 html list로 변환 \n",
    "html = BeautifulSoup(page_text, 'html.parser')"
   ]
  },
  {
   "cell_type": "code",
   "execution_count": 6,
   "metadata": {},
   "outputs": [
    {
     "name": "stdout",
     "output_type": "stream",
     "text": [
      "전시회105개 의 주소입니다.\n",
      "['/Ticket/Goods/GoodsInfo.asp?GroupCode=22015433', '/Ticket/Goods/GoodsInfo.asp?GroupCode=22012659', '/Ticket/Goods/GoodsInfo.asp?GroupCode=23000216', '/Ticket/Goods/GoodsInfo.asp?GroupCode=22015987', '/Ticket/Goods/GoodsInfo.asp?GroupCode=22005831', '/Ticket/Goods/GoodsInfo.asp?GroupCode=22012710', '/Ticket/Goods/GoodsInfo.asp?GroupCode=22014814', '/Ticket/Goods/GoodsInfo.asp?GroupCode=22017519', '/Ticket/Goods/GoodsInfo.asp?GroupCode=22017744', '/Ticket/Goods/GoodsInfo.asp?GroupCode=22017160', '/Ticket/Goods/GoodsInfo.asp?GroupCode=22015865', '/Ticket/Goods/GoodsInfo.asp?GroupCode=22012718', '/Ticket/Goods/GoodsInfo.asp?GroupCode=22015969', '/Ticket/Goods/GoodsInfo.asp?GroupCode=22013829', '/Ticket/Goods/GoodsInfo.asp?GroupCode=22015362', '/Ticket/Goods/GoodsInfo.asp?GroupCode=22012885', '/Ticket/Goods/GoodsInfo.asp?GroupCode=22013931', '/Ticket/Goods/GoodsInfo.asp?GroupCode=22015911', '/Ticket/Goods/GoodsInfo.asp?GroupCode=22015333', '/Ticket/Goods/GoodsInfo.asp?GroupCode=22009615', '/Ticket/Goods/GoodsInfo.asp?GroupCode=22006533', '/Ticket/Goods/GoodsInfo.asp?GroupCode=22017589', '/Ticket/Goods/GoodsInfo.asp?GroupCode=22016001', '/Ticket/Goods/GoodsInfo.asp?GroupCode=21013073', '/Ticket/Goods/GoodsInfo.asp?GroupCode=22017755', '/Ticket/Goods/GoodsInfo.asp?GroupCode=22013142', '/Ticket/Goods/GoodsInfo.asp?GroupCode=22013275', '/Ticket/Goods/GoodsInfo.asp?GroupCode=23000083', '/Ticket/Goods/GoodsInfo.asp?GroupCode=22015883', '/Ticket/Goods/GoodsInfo.asp?GroupCode=22017240', '/Ticket/Goods/GoodsInfo.asp?GroupCode=16003063', '/Ticket/Goods/GoodsInfo.asp?GroupCode=21013245', '/Ticket/Goods/GoodsInfo.asp?GroupCode=22018025', '/Ticket/Goods/GoodsInfo.asp?GroupCode=22007867', '/Ticket/Goods/GoodsInfo.asp?GroupCode=22015445', '/Ticket/Goods/GoodsInfo.asp?GroupCode=20001127', '/Ticket/Goods/GoodsInfo.asp?GroupCode=22015885', '/Ticket/Goods/GoodsInfo.asp?GroupCode=22008346', '/Ticket/Goods/GoodsInfo.asp?GroupCode=23000445', '/Ticket/Goods/GoodsInfo.asp?GroupCode=22005306', '/Ticket/Goods/GoodsInfo.asp?GroupCode=21010347', '/Ticket/Goods/GoodsInfo.asp?GroupCode=22002108', '/Ticket/Goods/GoodsInfo.asp?GroupCode=22004358', '/Ticket/Goods/GoodsInfo.asp?GroupCode=23000177', '/Ticket/Goods/GoodsInfo.asp?GroupCode=22018000', '/Ticket/Goods/GoodsInfo.asp?GroupCode=22015532', '/Ticket/Goods/GoodsInfo.asp?GroupCode=23000540', '/Ticket/Goods/GoodsInfo.asp?GroupCode=21003218', '/Ticket/Goods/GoodsInfo.asp?GroupCode=23000077', '/Ticket/Goods/GoodsInfo.asp?GroupCode=22017419', '/Ticket/Goods/GoodsInfo.asp?GroupCode=22012767', '/Ticket/Goods/GoodsInfo.asp?GroupCode=23000029', '/Ticket/Goods/GoodsInfo.asp?GroupCode=22016664', '/Ticket/Goods/GoodsInfo.asp?GroupCode=22014873', '/Ticket/Goods/GoodsInfo.asp?GroupCode=23000032', '/Ticket/Goods/GoodsInfo.asp?GroupCode=22012142', '/Ticket/Goods/GoodsInfo.asp?GroupCode=22012936', '/Ticket/Goods/GoodsInfo.asp?GroupCode=22006050', '/Ticket/Goods/GoodsInfo.asp?GroupCode=22017846', '/Ticket/Goods/GoodsInfo.asp?GroupCode=23000053', '/Ticket/Goods/GoodsInfo.asp?GroupCode=22012197', '/Ticket/Goods/GoodsInfo.asp?GroupCode=22014844', '/Ticket/Goods/GoodsInfo.asp?GroupCode=22008751', '/Ticket/Goods/GoodsInfo.asp?GroupCode=21013135', '/Ticket/Goods/GoodsInfo.asp?GroupCode=22001095', '/Ticket/Goods/GoodsInfo.asp?GroupCode=21009109', '/Ticket/Goods/GoodsInfo.asp?GroupCode=18002765', '/Ticket/Goods/GoodsInfo.asp?GroupCode=21009108', '/Ticket/Goods/GoodsInfo.asp?GroupCode=22013596', '/Ticket/Goods/GoodsInfo.asp?GroupCode=22009042', '/Ticket/Goods/GoodsInfo.asp?GroupCode=22011341', '/Ticket/Goods/GoodsInfo.asp?GroupCode=22016445', '/Ticket/Goods/GoodsInfo.asp?GroupCode=22016475', '/Ticket/Goods/GoodsInfo.asp?GroupCode=22015487', '/Ticket/Goods/GoodsInfo.asp?GroupCode=22006119', '/Ticket/Goods/GoodsInfo.asp?GroupCode=22017502', '/Ticket/Goods/GoodsInfo.asp?GroupCode=22016228', '/Ticket/Goods/GoodsInfo.asp?GroupCode=23000526', '/Ticket/Goods/GoodsInfo.asp?GroupCode=18008401', '/Ticket/Goods/GoodsInfo.asp?GroupCode=22009178', '/Ticket/Goods/GoodsInfo.asp?GroupCode=22017409', '/Ticket/Goods/GoodsInfo.asp?GroupCode=22016556', '/Ticket/Goods/GoodsInfo.asp?GroupCode=18011706', '/Ticket/Goods/GoodsInfo.asp?GroupCode=22003070', '/Ticket/Goods/GoodsInfo.asp?GroupCode=19018168', '/Ticket/Goods/GoodsInfo.asp?GroupCode=22000408', '/Ticket/Goods/GoodsInfo.asp?GroupCode=22004749', '/Ticket/Goods/GoodsInfo.asp?GroupCode=22018012', '/Ticket/Goods/GoodsInfo.asp?GroupCode=19000210', '/Ticket/Goods/GoodsInfo.asp?GroupCode=22012724', '/Ticket/Goods/GoodsInfo.asp?GroupCode=22000534', '/Ticket/Goods/GoodsInfo.asp?GroupCode=20004961', '/Ticket/Goods/GoodsInfo.asp?GroupCode=21001539', '/Ticket/Goods/GoodsInfo.asp?GroupCode=22017925', '/Ticket/Goods/GoodsInfo.asp?GroupCode=22012982', '/Ticket/Goods/GoodsInfo.asp?GroupCode=21001570', '/Ticket/Goods/GoodsInfo.asp?GroupCode=18018388', '/Ticket/Goods/GoodsInfo.asp?GroupCode=18008385', '/Ticket/Goods/GoodsInfo.asp?GroupCode=21002426', '/Ticket/Goods/GoodsInfo.asp?GroupCode=21001601', '/Ticket/Goods/GoodsInfo.asp?GroupCode=21001270', '/Ticket/Goods/GoodsInfo.asp?GroupCode=21003487', '/Ticket/Goods/GoodsInfo.asp?GroupCode=21001649', '/Ticket/Goods/GoodsInfo.asp?GroupCode=22008956', '/Ticket/Goods/GoodsInfo.asp?GroupCode=22013626']\n"
     ]
    }
   ],
   "source": [
    "# body > table > tbody > tr:nth-child(2) > td:nth-child(3) > div > div > div.con > div > table > tbody > tr:nth-child(1) > td.RKtxt > span > a\n",
    "\n",
    "# blog_url\n",
    "url=[]\n",
    "\n",
    "for i in html.select('td.RKtxt > span > a') :\n",
    "    urls = i.attrs['href']\n",
    "    url.append(urls)\n",
    "    \n",
    "print(f\"전시회{len(url)}개 의 주소입니다.\")\n",
    "\n",
    "print(url)"
   ]
  },
  {
   "cell_type": "code",
   "execution_count": 7,
   "metadata": {},
   "outputs": [
    {
     "name": "stdout",
     "output_type": "stream",
     "text": [
      "전시회 105 개의 goods_num_list 입니다.\n",
      "['22015433', '22012659', '23000216', '22015987', '22005831', '22012710', '22014814', '22017519', '22017744', '22017160', '22015865', '22012718', '22015969', '22013829', '22015362', '22012885', '22013931', '22015911', '22015333', '22009615', '22006533', '22017589', '22016001', '21013073', '22017755', '22013142', '22013275', '23000083', '22015883', '22017240', '16003063', '21013245', '22018025', '22007867', '22015445', '20001127', '22015885', '22008346', '23000445', '22005306', '21010347', '22002108', '22004358', '23000177', '22018000', '22015532', '23000540', '21003218', '23000077', '22017419', '22012767', '23000029', '22016664', '22014873', '23000032', '22012142', '22012936', '22006050', '22017846', '23000053', '22012197', '22014844', '22008751', '21013135', '22001095', '21009109', '18002765', '21009108', '22013596', '22009042', '22011341', '22016445', '22016475', '22015487', '22006119', '22017502', '22016228', '23000526', '18008401', '22009178', '22017409', '22016556', '18011706', '22003070', '19018168', '22000408', '22004749', '22018012', '19000210', '22012724', '22000534', '20004961', '21001539', '22017925', '22012982', '21001570', '18018388', '18008385', '21002426', '21001601', '21001270', '21003487', '21001649', '22008956', '22013626']\n"
     ]
    }
   ],
   "source": [
    "goods_num_list = []\n",
    "\n",
    "for i in url :\n",
    "    goods_num = i.split('=')[1]\n",
    "    goods_num_list.append(goods_num)\n",
    "    \n",
    "print(f\"전시회 {len(url)} 개의 goods_num_list 입니다.\")\n",
    "\n",
    "print(goods_num_list)"
   ]
  },
  {
   "cell_type": "code",
   "execution_count": 8,
   "metadata": {},
   "outputs": [
    {
     "name": "stdout",
     "output_type": "stream",
     "text": [
      "전시회 105 개의 exhibition_url 입니다.\n",
      "['http://ticket.interpark.com/Ticket/Goods/GoodsInfo.asp?GoodsCode=22015433', 'http://ticket.interpark.com/Ticket/Goods/GoodsInfo.asp?GoodsCode=22012659', 'http://ticket.interpark.com/Ticket/Goods/GoodsInfo.asp?GoodsCode=23000216', 'http://ticket.interpark.com/Ticket/Goods/GoodsInfo.asp?GoodsCode=22015987', 'http://ticket.interpark.com/Ticket/Goods/GoodsInfo.asp?GoodsCode=22005831', 'http://ticket.interpark.com/Ticket/Goods/GoodsInfo.asp?GoodsCode=22012710', 'http://ticket.interpark.com/Ticket/Goods/GoodsInfo.asp?GoodsCode=22014814', 'http://ticket.interpark.com/Ticket/Goods/GoodsInfo.asp?GoodsCode=22017519', 'http://ticket.interpark.com/Ticket/Goods/GoodsInfo.asp?GoodsCode=22017744', 'http://ticket.interpark.com/Ticket/Goods/GoodsInfo.asp?GoodsCode=22017160', 'http://ticket.interpark.com/Ticket/Goods/GoodsInfo.asp?GoodsCode=22015865', 'http://ticket.interpark.com/Ticket/Goods/GoodsInfo.asp?GoodsCode=22012718', 'http://ticket.interpark.com/Ticket/Goods/GoodsInfo.asp?GoodsCode=22015969', 'http://ticket.interpark.com/Ticket/Goods/GoodsInfo.asp?GoodsCode=22013829', 'http://ticket.interpark.com/Ticket/Goods/GoodsInfo.asp?GoodsCode=22015362', 'http://ticket.interpark.com/Ticket/Goods/GoodsInfo.asp?GoodsCode=22012885', 'http://ticket.interpark.com/Ticket/Goods/GoodsInfo.asp?GoodsCode=22013931', 'http://ticket.interpark.com/Ticket/Goods/GoodsInfo.asp?GoodsCode=22015911', 'http://ticket.interpark.com/Ticket/Goods/GoodsInfo.asp?GoodsCode=22015333', 'http://ticket.interpark.com/Ticket/Goods/GoodsInfo.asp?GoodsCode=22009615', 'http://ticket.interpark.com/Ticket/Goods/GoodsInfo.asp?GoodsCode=22006533', 'http://ticket.interpark.com/Ticket/Goods/GoodsInfo.asp?GoodsCode=22017589', 'http://ticket.interpark.com/Ticket/Goods/GoodsInfo.asp?GoodsCode=22016001', 'http://ticket.interpark.com/Ticket/Goods/GoodsInfo.asp?GoodsCode=21013073', 'http://ticket.interpark.com/Ticket/Goods/GoodsInfo.asp?GoodsCode=22017755', 'http://ticket.interpark.com/Ticket/Goods/GoodsInfo.asp?GoodsCode=22013142', 'http://ticket.interpark.com/Ticket/Goods/GoodsInfo.asp?GoodsCode=22013275', 'http://ticket.interpark.com/Ticket/Goods/GoodsInfo.asp?GoodsCode=23000083', 'http://ticket.interpark.com/Ticket/Goods/GoodsInfo.asp?GoodsCode=22015883', 'http://ticket.interpark.com/Ticket/Goods/GoodsInfo.asp?GoodsCode=22017240', 'http://ticket.interpark.com/Ticket/Goods/GoodsInfo.asp?GoodsCode=16003063', 'http://ticket.interpark.com/Ticket/Goods/GoodsInfo.asp?GoodsCode=21013245', 'http://ticket.interpark.com/Ticket/Goods/GoodsInfo.asp?GoodsCode=22018025', 'http://ticket.interpark.com/Ticket/Goods/GoodsInfo.asp?GoodsCode=22007867', 'http://ticket.interpark.com/Ticket/Goods/GoodsInfo.asp?GoodsCode=22015445', 'http://ticket.interpark.com/Ticket/Goods/GoodsInfo.asp?GoodsCode=20001127', 'http://ticket.interpark.com/Ticket/Goods/GoodsInfo.asp?GoodsCode=22015885', 'http://ticket.interpark.com/Ticket/Goods/GoodsInfo.asp?GoodsCode=22008346', 'http://ticket.interpark.com/Ticket/Goods/GoodsInfo.asp?GoodsCode=23000445', 'http://ticket.interpark.com/Ticket/Goods/GoodsInfo.asp?GoodsCode=22005306', 'http://ticket.interpark.com/Ticket/Goods/GoodsInfo.asp?GoodsCode=21010347', 'http://ticket.interpark.com/Ticket/Goods/GoodsInfo.asp?GoodsCode=22002108', 'http://ticket.interpark.com/Ticket/Goods/GoodsInfo.asp?GoodsCode=22004358', 'http://ticket.interpark.com/Ticket/Goods/GoodsInfo.asp?GoodsCode=23000177', 'http://ticket.interpark.com/Ticket/Goods/GoodsInfo.asp?GoodsCode=22018000', 'http://ticket.interpark.com/Ticket/Goods/GoodsInfo.asp?GoodsCode=22015532', 'http://ticket.interpark.com/Ticket/Goods/GoodsInfo.asp?GoodsCode=23000540', 'http://ticket.interpark.com/Ticket/Goods/GoodsInfo.asp?GoodsCode=21003218', 'http://ticket.interpark.com/Ticket/Goods/GoodsInfo.asp?GoodsCode=23000077', 'http://ticket.interpark.com/Ticket/Goods/GoodsInfo.asp?GoodsCode=22017419', 'http://ticket.interpark.com/Ticket/Goods/GoodsInfo.asp?GoodsCode=22012767', 'http://ticket.interpark.com/Ticket/Goods/GoodsInfo.asp?GoodsCode=23000029', 'http://ticket.interpark.com/Ticket/Goods/GoodsInfo.asp?GoodsCode=22016664', 'http://ticket.interpark.com/Ticket/Goods/GoodsInfo.asp?GoodsCode=22014873', 'http://ticket.interpark.com/Ticket/Goods/GoodsInfo.asp?GoodsCode=23000032', 'http://ticket.interpark.com/Ticket/Goods/GoodsInfo.asp?GoodsCode=22012142', 'http://ticket.interpark.com/Ticket/Goods/GoodsInfo.asp?GoodsCode=22012936', 'http://ticket.interpark.com/Ticket/Goods/GoodsInfo.asp?GoodsCode=22006050', 'http://ticket.interpark.com/Ticket/Goods/GoodsInfo.asp?GoodsCode=22017846', 'http://ticket.interpark.com/Ticket/Goods/GoodsInfo.asp?GoodsCode=23000053', 'http://ticket.interpark.com/Ticket/Goods/GoodsInfo.asp?GoodsCode=22012197', 'http://ticket.interpark.com/Ticket/Goods/GoodsInfo.asp?GoodsCode=22014844', 'http://ticket.interpark.com/Ticket/Goods/GoodsInfo.asp?GoodsCode=22008751', 'http://ticket.interpark.com/Ticket/Goods/GoodsInfo.asp?GoodsCode=21013135', 'http://ticket.interpark.com/Ticket/Goods/GoodsInfo.asp?GoodsCode=22001095', 'http://ticket.interpark.com/Ticket/Goods/GoodsInfo.asp?GoodsCode=21009109', 'http://ticket.interpark.com/Ticket/Goods/GoodsInfo.asp?GoodsCode=18002765', 'http://ticket.interpark.com/Ticket/Goods/GoodsInfo.asp?GoodsCode=21009108', 'http://ticket.interpark.com/Ticket/Goods/GoodsInfo.asp?GoodsCode=22013596', 'http://ticket.interpark.com/Ticket/Goods/GoodsInfo.asp?GoodsCode=22009042', 'http://ticket.interpark.com/Ticket/Goods/GoodsInfo.asp?GoodsCode=22011341', 'http://ticket.interpark.com/Ticket/Goods/GoodsInfo.asp?GoodsCode=22016445', 'http://ticket.interpark.com/Ticket/Goods/GoodsInfo.asp?GoodsCode=22016475', 'http://ticket.interpark.com/Ticket/Goods/GoodsInfo.asp?GoodsCode=22015487', 'http://ticket.interpark.com/Ticket/Goods/GoodsInfo.asp?GoodsCode=22006119', 'http://ticket.interpark.com/Ticket/Goods/GoodsInfo.asp?GoodsCode=22017502', 'http://ticket.interpark.com/Ticket/Goods/GoodsInfo.asp?GoodsCode=22016228', 'http://ticket.interpark.com/Ticket/Goods/GoodsInfo.asp?GoodsCode=23000526', 'http://ticket.interpark.com/Ticket/Goods/GoodsInfo.asp?GoodsCode=18008401', 'http://ticket.interpark.com/Ticket/Goods/GoodsInfo.asp?GoodsCode=22009178', 'http://ticket.interpark.com/Ticket/Goods/GoodsInfo.asp?GoodsCode=22017409', 'http://ticket.interpark.com/Ticket/Goods/GoodsInfo.asp?GoodsCode=22016556', 'http://ticket.interpark.com/Ticket/Goods/GoodsInfo.asp?GoodsCode=18011706', 'http://ticket.interpark.com/Ticket/Goods/GoodsInfo.asp?GoodsCode=22003070', 'http://ticket.interpark.com/Ticket/Goods/GoodsInfo.asp?GoodsCode=19018168', 'http://ticket.interpark.com/Ticket/Goods/GoodsInfo.asp?GoodsCode=22000408', 'http://ticket.interpark.com/Ticket/Goods/GoodsInfo.asp?GoodsCode=22004749', 'http://ticket.interpark.com/Ticket/Goods/GoodsInfo.asp?GoodsCode=22018012', 'http://ticket.interpark.com/Ticket/Goods/GoodsInfo.asp?GoodsCode=19000210', 'http://ticket.interpark.com/Ticket/Goods/GoodsInfo.asp?GoodsCode=22012724', 'http://ticket.interpark.com/Ticket/Goods/GoodsInfo.asp?GoodsCode=22000534', 'http://ticket.interpark.com/Ticket/Goods/GoodsInfo.asp?GoodsCode=20004961', 'http://ticket.interpark.com/Ticket/Goods/GoodsInfo.asp?GoodsCode=21001539', 'http://ticket.interpark.com/Ticket/Goods/GoodsInfo.asp?GoodsCode=22017925', 'http://ticket.interpark.com/Ticket/Goods/GoodsInfo.asp?GoodsCode=22012982', 'http://ticket.interpark.com/Ticket/Goods/GoodsInfo.asp?GoodsCode=21001570', 'http://ticket.interpark.com/Ticket/Goods/GoodsInfo.asp?GoodsCode=18018388', 'http://ticket.interpark.com/Ticket/Goods/GoodsInfo.asp?GoodsCode=18008385', 'http://ticket.interpark.com/Ticket/Goods/GoodsInfo.asp?GoodsCode=21002426', 'http://ticket.interpark.com/Ticket/Goods/GoodsInfo.asp?GoodsCode=21001601', 'http://ticket.interpark.com/Ticket/Goods/GoodsInfo.asp?GoodsCode=21001270', 'http://ticket.interpark.com/Ticket/Goods/GoodsInfo.asp?GoodsCode=21003487', 'http://ticket.interpark.com/Ticket/Goods/GoodsInfo.asp?GoodsCode=21001649', 'http://ticket.interpark.com/Ticket/Goods/GoodsInfo.asp?GoodsCode=22008956', 'http://ticket.interpark.com/Ticket/Goods/GoodsInfo.asp?GoodsCode=22013626']\n"
     ]
    }
   ],
   "source": [
    "exhibition_url = []\n",
    "\n",
    "for i in goods_num_list :\n",
    "    exhibition_url.append(f'http://ticket.interpark.com/Ticket/Goods/GoodsInfo.asp?GoodsCode={i}')\n",
    "    \n",
    "print(f\"전시회 {len(exhibition_url)} 개의 exhibition_url 입니다.\")\n",
    "\n",
    "print(exhibition_url)"
   ]
  },
  {
   "attachments": {},
   "cell_type": "markdown",
   "metadata": {},
   "source": [
    "# 전시회 세부페이지"
   ]
  },
  {
   "cell_type": "code",
   "execution_count": 9,
   "metadata": {},
   "outputs": [],
   "source": [
    "\n",
    "# 이후 상세페이지 조회시 for문으로 접근하여 데이터 수집\n",
    "# 우선 한개만\n",
    "\n",
    "detail_url_1 = 'http://ticket.interpark.com/Ticket/Goods/GoodsInfo.asp?GoodsCode=22015433'\n",
    "\n",
    "request = requests.get(detail_url_1)\n",
    "\n",
    "driver.get(detail_url_1)\n"
   ]
  },
  {
   "cell_type": "code",
   "execution_count": 10,
   "metadata": {},
   "outputs": [],
   "source": [
    "try:\n",
    "    driver.find_element_by_xpath('//*[@id=\"popup-prdGuide\"]/div/div[3]/div/a').click()\n",
    "except:\n",
    "    pass"
   ]
  },
  {
   "cell_type": "code",
   "execution_count": 11,
   "metadata": {},
   "outputs": [],
   "source": [
    "# 접근한 페이지의 소스코드를 텍스트로 저장 (Str)\n",
    "page_text = driver.page_source\n",
    "\n",
    "# page_text를 html list로 변환 \n",
    "html = BeautifulSoup(page_text, 'html.parser')"
   ]
  },
  {
   "cell_type": "code",
   "execution_count": 12,
   "metadata": {},
   "outputs": [
    {
     "name": "stdout",
     "output_type": "stream",
     "text": [
      "합스부르크 600년, 매혹의 걸작들\n"
     ]
    }
   ],
   "source": [
    "# title\n",
    "\n",
    "title_1 = html.select_one('div.summaryTop > h2').text\n",
    "print(title_1)"
   ]
  },
  {
   "cell_type": "code",
   "execution_count": 13,
   "metadata": {},
   "outputs": [
    {
     "name": "stdout",
     "output_type": "stream",
     "text": [
      "국립중앙박물관 기획전시실\n"
     ]
    }
   ],
   "source": [
    "# Place\n",
    "#container > div.contents > div.productWrapper > div.productMain > div.productMainTop > div > div.summaryBody > ul > li:nth-child(1) > div > a\n",
    "\n",
    "place_1 = html.select_one('li:nth-child(1) > div > a').text\n",
    "place_1 = place_1.split('(')[0]\n",
    "print(place_1)"
   ]
  },
  {
   "cell_type": "code",
   "execution_count": 14,
   "metadata": {},
   "outputs": [
    {
     "name": "stdout",
     "output_type": "stream",
     "text": [
      "전체 기간: 2022.11.14 ~2023.03.01\n",
      "전시 시작일 : 2022.11.14\n",
      "전시 종료일 : 2023.03.01\n"
     ]
    }
   ],
   "source": [
    "# date\n",
    "#container > div.contents > div.productWrapper > div.productMain > div.productMainTop > div > div.summaryBody > ul > li:nth-child(2) > div > p\n",
    "\n",
    "date_1 = html.select_one('li:nth-child(2) > div > p').text\n",
    "print(f'전체 기간: {date_1}')\n",
    "\n",
    "startAt = date_1.split(' ~')[0]\n",
    "print(f'전시 시작일 : {startAt}')\n",
    "\n",
    "endAt = date_1.split(' ~')[1]\n",
    "print(f'전시 종료일 : {endAt}')\n"
   ]
  },
  {
   "cell_type": "code",
   "execution_count": 15,
   "metadata": {},
   "outputs": [
    {
     "name": "stdout",
     "output_type": "stream",
     "text": [
      "관람 가능 연령 : 전체관람가\n"
     ]
    }
   ],
   "source": [
    "# ageLimit\n",
    "#container > div.contents > div.productWrapper > div.productMain > div.productMainTop > div > div.summaryBody > ul > li:nth-child(4) > div > p\n",
    "\n",
    "ageLimit_1 = html.select_one('li:nth-child(4) > div > p').text\n",
    "print(f'관람 가능 연령 : {ageLimit_1}')\n"
   ]
  },
  {
   "cell_type": "code",
   "execution_count": 16,
   "metadata": {},
   "outputs": [
    {
     "name": "stdout",
     "output_type": "stream",
     "text": [
      "가격 : 17,500원\n"
     ]
    }
   ],
   "source": [
    "# price \n",
    "#container > div.contents > div.productWrapper > div.productMain > div.productMainTop > div > div.summaryBody > ul > li.infoItem.infoPrice > div > ul > li:nth-child(2) > span.price\n",
    "\n",
    "price_1 = html.select_one('li:nth-child(2) > span.price').text\n",
    "\n",
    "print(f'가격 : {price_1}')"
   ]
  },
  {
   "cell_type": "code",
   "execution_count": 17,
   "metadata": {},
   "outputs": [
    {
     "data": {
      "text/plain": [
       "'http://ticketimage.interpark.com/Play/image/large/22/22015433_p.gif'"
      ]
     },
     "execution_count": 17,
     "metadata": {},
     "output_type": "execute_result"
    }
   ],
   "source": [
    "# main_img\n",
    "#container > div.contents > div.productWrapper > div.productMain > div.productMainTop > div > div.summaryBody > div > div.posterBoxTop > img\n",
    "\n",
    "main_img_1 = html.select_one('div.posterBoxTop > img').attrs['src']\n",
    "main_img_1 = 'http:' + main_img_1\n",
    "\n",
    "main_img_1"
   ]
  },
  {
   "cell_type": "code",
   "execution_count": 18,
   "metadata": {},
   "outputs": [
    {
     "ename": "AttributeError",
     "evalue": "'NoneType' object has no attribute 'text'",
     "output_type": "error",
     "traceback": [
      "\u001b[0;31m---------------------------------------------------------------------------\u001b[0m",
      "\u001b[0;31mAttributeError\u001b[0m                            Traceback (most recent call last)",
      "Cell \u001b[0;32mIn[18], line 4\u001b[0m\n\u001b[1;32m      1\u001b[0m \u001b[39m# male / female\u001b[39;00m\n\u001b[1;32m      2\u001b[0m \u001b[39m#productMainBody > div > div.content.prdStat > div > div.statGender > div.statGenderType.is-male > div.statGenderValue\u001b[39;00m\n\u001b[0;32m----> 4\u001b[0m male_statics \u001b[39m=\u001b[39m html\u001b[39m.\u001b[39;49mselect_one(\u001b[39m'\u001b[39;49m\u001b[39mdiv.statGender > div.statGenderType.is-male > div.statGenderValue\u001b[39;49m\u001b[39m'\u001b[39;49m)\u001b[39m.\u001b[39;49mtext\n\u001b[1;32m      5\u001b[0m female_statics \u001b[39m=\u001b[39m html\u001b[39m.\u001b[39mselect_one(\u001b[39m'\u001b[39m\u001b[39mdiv.statGender > div.statGenderType.is-female > div.statGenderValue\u001b[39m\u001b[39m'\u001b[39m)\u001b[39m.\u001b[39mtext\n\u001b[1;32m      7\u001b[0m \u001b[39mprint\u001b[39m(\u001b[39mf\u001b[39m\u001b[39m'\u001b[39m\u001b[39mmale_statics : \u001b[39m\u001b[39m{\u001b[39;00mmale_statics\u001b[39m}\u001b[39;00m\u001b[39m'\u001b[39m)\n",
      "\u001b[0;31mAttributeError\u001b[0m: 'NoneType' object has no attribute 'text'"
     ]
    }
   ],
   "source": [
    "# male / female\n",
    "#productMainBody > div > div.content.prdStat > div > div.statGender > div.statGenderType.is-male > div.statGenderValue\n",
    "\n",
    "male_statics = html.select_one('div.statGender > div.statGenderType.is-male > div.statGenderValue').text\n",
    "female_statics = html.select_one('div.statGender > div.statGenderType.is-female > div.statGenderValue').text\n",
    "\n",
    "print(f'male_statics : {male_statics}')\n",
    "print(f'female_statics : {female_statics}')"
   ]
  },
  {
   "cell_type": "code",
   "execution_count": null,
   "metadata": {},
   "outputs": [],
   "source": [
    "# statAge\n",
    "#productMainBody > div > div.content.prdStat > div > div.statAge > div > div:nth-child(1) > div.statAgeName\n",
    "# statAge_Percent\n",
    "#productMainBody > div > div.content.prdStat > div > div.statAge > div > div:nth-child(1) > div.statAgePercent\n",
    "## 10대 / 20대 / 30대 / 40대 / 50대\n",
    "\n",
    "statAge_10 = html.select_one('div:nth-child(1) > div.statAgeName').text\n",
    "statAge_Percent_10 = html.select_one('div:nth-child(1) > div.statAgePercent').text\n",
    "\n",
    "statAge_20 = html.select_one('div:nth-child(2) > div.statAgeName').text\n",
    "statAge_Percent_20 = html.select_one('div:nth-child(2) > div.statAgePercent').text\n",
    "\n",
    "statAge_30 = html.select_one('div:nth-child(3) > div.statAgeName').text\n",
    "statAge_Percent_30 = html.select_one('div:nth-child(3) > div.statAgePercent').text\n",
    "\n",
    "statAge_40 = html.select_one('div:nth-child(4) > div.statAgeName').text\n",
    "statAge_Percent_40 = html.select_one('div:nth-child(4) > div.statAgePercent').text\n",
    "\n",
    "statAge_50 = html.select_one('div:nth-child(5) > div.statAgeName').text\n",
    "statAge_Percent_50 = html.select_one('div:nth-child(5) > div.statAgePercent').text\n",
    "\n",
    "\n",
    "print(f'{statAge_10} : {statAge_Percent_10}')\n",
    "print(f'{statAge_20} : {statAge_Percent_20}')\n",
    "print(f'{statAge_30} : {statAge_Percent_30}')\n",
    "print(f'{statAge_40} : {statAge_Percent_40}')\n",
    "print(f'{statAge_50} : {statAge_Percent_50}')"
   ]
  },
  {
   "attachments": {},
   "cell_type": "markdown",
   "metadata": {},
   "source": [
    "---"
   ]
  },
  {
   "attachments": {},
   "cell_type": "markdown",
   "metadata": {},
   "source": [
    "### 자동화"
   ]
  },
  {
   "attachments": {},
   "cell_type": "markdown",
   "metadata": {},
   "source": [
    "### 세부 메서드"
   ]
  },
  {
   "cell_type": "code",
   "execution_count": null,
   "metadata": {},
   "outputs": [],
   "source": [
    "def get_exhibition_info(url) :\n",
    "        resp = requests.get(url)\n",
    "        driver.get (url)\n",
    "        driver.find_element_by_xpath('//*[@id=\"popup-prdGuide\"]/div/div[3]/div/a').click()\n",
    "        page_text = driver.page_source\n",
    "        html = BeautifulSoup(resp.text, 'html.parser')\n",
    "        return html, resp"
   ]
  },
  {
   "cell_type": "code",
   "execution_count": null,
   "metadata": {},
   "outputs": [],
   "source": [
    "def get_exhibition_title(html) :\n",
    "    title = html.select_one('div.summaryTop > h2').text\n",
    "    return title"
   ]
  },
  {
   "cell_type": "code",
   "execution_count": null,
   "metadata": {},
   "outputs": [],
   "source": [
    "def get_exhibition_place(html) :\n",
    "    place = html.select_one('li:nth-child(1) > div > a').text\n",
    "    place = place.split('(')[0]\n",
    "    return place"
   ]
  },
  {
   "cell_type": "code",
   "execution_count": null,
   "metadata": {},
   "outputs": [],
   "source": [
    "def get_exhibition_date(html) :\n",
    "    date = html.select_one('li:nth-child(2) > div > p').text\n",
    "    startAt = date.split(' ~')[0]\n",
    "    endAt = date.split(' ~')[1]\n",
    "    return startAt, endAt"
   ]
  },
  {
   "cell_type": "code",
   "execution_count": null,
   "metadata": {},
   "outputs": [],
   "source": [
    "def get_ageLimit(html) :\n",
    "    ageLimit = html.select_one('li:nth-child(4) > div > p').text\n",
    "    return ageLimit"
   ]
  },
  {
   "cell_type": "code",
   "execution_count": null,
   "metadata": {},
   "outputs": [],
   "source": [
    "def get_price(html) :\n",
    "    price = html.select_one('li:nth-child(2) > span.price').text\n",
    "    return price"
   ]
  },
  {
   "cell_type": "code",
   "execution_count": null,
   "metadata": {},
   "outputs": [],
   "source": [
    "def get_main_img(html) :\n",
    "    main_img = html.select_one('div.posterBoxTop > img').attrs['src']\n",
    "    main_img_url = 'http:' + main_img\n",
    "    return main_img_url"
   ]
  },
  {
   "attachments": {},
   "cell_type": "markdown",
   "metadata": {},
   "source": [
    "### 통합 메서드"
   ]
  },
  {
   "cell_type": "code",
   "execution_count": null,
   "metadata": {},
   "outputs": [],
   "source": [
    "def get_crawling_exhibition_info(url):\n",
    "    \n",
    "    resp = requests.get(url)\n",
    "    \n",
    "    # print(f'resp : {resp}')\n",
    "    \n",
    "    driver.get (url)\n",
    "    \n",
    "    time.sleep(1)\n",
    "    \n",
    "    try:\n",
    "        driver.find_element_by_xpath('//*[@id=\"popup-prdGuide\"]/div/div[3]/div/a').click()\n",
    "    except:\n",
    "        pass\n",
    "    \n",
    "    page_text = driver.page_source\n",
    "    \n",
    "    # 접근한 페이지의 소스코드를 텍스트로 저장 (Str)\n",
    "    page_text = driver.page_source\n",
    "\n",
    "    # page_text를 html list로 변환 \n",
    "    html = BeautifulSoup(page_text, 'html.parser')\n",
    "    \n",
    "    # print(f'html : \\n {html}')\n",
    "    \n",
    "    title = html.select_one('div.summaryTop > h2').text\n",
    "    \n",
    "    # get title\n",
    "    title = html.select_one('div.summaryTop > h2').text\n",
    "    \n",
    "    # get place name\n",
    "    place = html.select_one('li:nth-child(1) > div > a').text\n",
    "    place = place.split('(')[0]\n",
    "    \n",
    "    # get date (startAt, endAt)\n",
    "    date = html.select_one('li:nth-child(2) > div > p').text\n",
    "    startAt = date.split(' ~')[0]\n",
    "    endAt = date.split(' ~')[1]\n",
    "    \n",
    "    # get ageLimit\n",
    "    # li:nth-child(4) > div > p \n",
    "    # or li:nth-child(3) > div > p\n",
    "    try:\n",
    "        ageLimit = html.select_one('li:nth-child(4) > div > p').text\n",
    "    except:\n",
    "        ageLimit = html.select_one('li:nth-child(3) > div > p').text\n",
    "    \n",
    "    # get price\n",
    "    try:\n",
    "        price = html.select_one('li:nth-child(2) > span.price').text\n",
    "    except:\n",
    "        price = '가격 정보 없음'\n",
    "    \n",
    "    # get main_img_url\n",
    "    main_img = html.select_one('div.posterBoxTop > img').attrs['src']\n",
    "    main_img_url = 'http:' + main_img\n",
    "    \n",
    "    # get statGender\n",
    "    try:    \n",
    "        statMale = html.select_one('div.statGender > div.statGenderType.is-male > div.statGenderValue').text\n",
    "        statFemale = html.select_one('div.statGender > div.statGenderType.is-female > div.statGenderValue').text\n",
    "    except:\n",
    "        statMale = '통계 정보 없음'\n",
    "        statFemale = '통계 정보 없음'\n",
    "    \n",
    "    # get statAge\n",
    "    try:\n",
    "        statAge_Percent_10 = html.select_one('div:nth-child(1) > div.statAgePercent').text\n",
    "        statAge_Percent_20 = html.select_one('div:nth-child(2) > div.statAgePercent').text\n",
    "        statAge_Percent_30 = html.select_one('div:nth-child(3) > div.statAgePercent').text\n",
    "        statAge_Percent_40 = html.select_one('div:nth-child(4) > div.statAgePercent').text\n",
    "        statAge_Percent_50 = html.select_one('div:nth-child(5) > div.statAgePercent').text\n",
    "    except:\n",
    "        statAge_Percent_10 = '통계 정보 없음'\n",
    "        statAge_Percent_20 = '통계 정보 없음'\n",
    "        statAge_Percent_30 = '통계 정보 없음'\n",
    "        statAge_Percent_40 = '통계 정보 없음'\n",
    "        statAge_Percent_50 = '통계 정보 없음'\n",
    "    \n",
    "    \n",
    "    # append\n",
    "    title_list.append(title)\n",
    "    place_list.append(place)\n",
    "    startAt_list.append(startAt)\n",
    "    endAt_list.append(endAt)\n",
    "    ageLimit_list.append(ageLimit)\n",
    "    price_list.append(price)\n",
    "    main_img_url_list.append(main_img_url)\n",
    "    \n",
    "    statMale_list.append(statMale)\n",
    "    statFemale_list.append(statFemale)\n",
    "    \n",
    "    statAge_Percent_10_list.append(statAge_Percent_10)\n",
    "    statAge_Percent_20_list.append(statAge_Percent_20)\n",
    "    statAge_Percent_30_list.append(statAge_Percent_30)\n",
    "    statAge_Percent_40_list.append(statAge_Percent_40)\n",
    "    statAge_Percent_50_list.append(statAge_Percent_50)\n",
    "    "
   ]
  },
  {
   "cell_type": "code",
   "execution_count": null,
   "metadata": {},
   "outputs": [],
   "source": [
    "def get_DataFrame():\n",
    "    data = {\n",
    "        'title' : title_list,\n",
    "        'place' : place_list,\n",
    "        'startAt' : startAt_list,\n",
    "        'endAt' : endAt_list,\n",
    "        'price' : price_list,\n",
    "        'ageLimit' : ageLimit_list,\n",
    "        'main_img_url' : main_img_url_list,\n",
    "        'statMale' : statMale_list,\n",
    "        'statFemale' : statFemale_list,\n",
    "        'statAge_10' : statAge_Percent_10_list,\n",
    "        'statAge_20' : statAge_Percent_20_list,\n",
    "        'statAge_30' : statAge_Percent_30_list,\n",
    "        'statAge_40' : statAge_Percent_40_list,\n",
    "        'statAge_50' : statAge_Percent_50_list,\n",
    "        }\n",
    "\n",
    "    df = pd.DataFrame(data)\n",
    "    \n",
    "    return df"
   ]
  },
  {
   "cell_type": "code",
   "execution_count": null,
   "metadata": {},
   "outputs": [],
   "source": [
    "# title\n",
    "title_list = []\n",
    "\n",
    "# place\n",
    "place_list = []\n",
    "\n",
    "# date\n",
    "startAt_list = []\n",
    "endAt_list = []\n",
    "\n",
    "# price\n",
    "price_list = []\n",
    "\n",
    "# ageLimit\n",
    "ageLimit_list = []\n",
    "\n",
    "# main_img\n",
    "main_img_url_list = []\n",
    "\n",
    "# statGender\n",
    "statMale_list = []\n",
    "statFemale_list = []\n",
    "\n",
    "# statAge\n",
    "statAge_Percent_10_list = []\n",
    "statAge_Percent_20_list = []\n",
    "statAge_Percent_30_list = []\n",
    "statAge_Percent_40_list = []\n",
    "statAge_Percent_50_list = []\n",
    "\n",
    "\n",
    "driver = webdriver.Chrome('../../chromedriver')\n",
    "try:\n",
    "    for idx, url in enumerate(tqdm(exhibition_url)) :\n",
    "        # print(f'{idx} 번째 URL Img : {url}')\n",
    "        get_crawling_exhibition_info(url)\n",
    "        time.sleep(3)\n",
    "        \n",
    "    driver.close()\n",
    "    print('Done Processing')\n",
    "except:\n",
    "    driver.close()\n",
    "    print('Error')"
   ]
  },
  {
   "cell_type": "code",
   "execution_count": null,
   "metadata": {},
   "outputs": [],
   "source": [
    "get_DataFrame()"
   ]
  },
  {
   "cell_type": "code",
   "execution_count": null,
   "metadata": {},
   "outputs": [],
   "source": [
    "### 크롤링한 image url 을 이용하여 이미지 저장\n",
    "\n",
    "for idx, url in enumerate(main_img_url_list) :\n",
    "    print(f'{idx} 번째 url : {url}')\n",
    "    urlretrieve(url, f'../../data/img/main_post/{idx}.jpg')\n",
    "    time.sleep(3)"
   ]
  },
  {
   "cell_type": "code",
   "execution_count": null,
   "metadata": {},
   "outputs": [],
   "source": [
    "df.to_csv('exhibition.csv', index=False, encoding='utf-8-sig')"
   ]
  },
  {
   "attachments": {},
   "cell_type": "markdown",
   "metadata": {},
   "source": [
    "---"
   ]
  }
 ],
 "metadata": {
  "kernelspec": {
   "display_name": "mume",
   "language": "python",
   "name": "python3"
  },
  "language_info": {
   "codemirror_mode": {
    "name": "ipython",
    "version": 3
   },
   "file_extension": ".py",
   "mimetype": "text/x-python",
   "name": "python",
   "nbconvert_exporter": "python",
   "pygments_lexer": "ipython3",
   "version": "3.8.15"
  },
  "orig_nbformat": 4,
  "vscode": {
   "interpreter": {
    "hash": "1de4d2b8119a5b668e6c3712f88e66cada3e0604da4dcc3ccef75a084703d294"
   }
  }
 },
 "nbformat": 4,
 "nbformat_minor": 2
}
