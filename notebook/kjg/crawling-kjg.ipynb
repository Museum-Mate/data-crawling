{
 "cells": [
  {
   "cell_type": "code",
   "execution_count": 1,
   "metadata": {},
   "outputs": [],
   "source": [
    "import os\n",
    "import time\n",
    "import datetime\n",
    "import numpy as np\n",
    "import pandas as pd\n",
    "import requests\n",
    "\n",
    "from tqdm import tqdm\n",
    "from bs4 import BeautifulSoup\n",
    "from urllib.parse import quote\n",
    "from urllib.request import urlretrieve\n",
    "from selenium import webdriver\n",
    "from collections import Counter"
   ]
  },
  {
   "cell_type": "code",
   "execution_count": 2,
   "metadata": {},
   "outputs": [],
   "source": [
    "driver = webdriver.Chrome('../../chromedriver')"
   ]
  },
  {
   "cell_type": "code",
   "execution_count": 3,
   "metadata": {},
   "outputs": [],
   "source": [
    "# url 설정\n",
    "url = f'http://ticket.interpark.com/TPGoodsList.asp?Ca=Eve&SubCa=Eve_O&tid4=Eve_O&smid1=gnb&smid2=008&smid3=1'\n",
    "\n",
    "# requests로 데이터 요청하기\n",
    "resp = requests.get(url)\n",
    "\n",
    "# 설정한 url 로 데이터 get 함수 요청\n",
    "driver.get(url)"
   ]
  },
  {
   "cell_type": "code",
   "execution_count": 4,
   "metadata": {},
   "outputs": [],
   "source": [
    "# # 화면상에서 스크롤 끝까지 내리기\n",
    "# SCROLL_PAUSE_SEC = 1\n",
    "\n",
    "# # 스크롤 높이 가져옴\n",
    "# last_height = driver.execute_script(\"return document.body.scrollHeight\")\n",
    "\n",
    "# while True:\n",
    "#     # 끝까지 스크롤 다운\n",
    "#     driver.execute_script(\"window.scrollTo(0, document.body.scrollHeight);\")\n",
    "\n",
    "#     # 1초 대기\n",
    "#     time.sleep(SCROLL_PAUSE_SEC)\n",
    "\n",
    "#     # 스크롤 다운 후 스크롤 높이 다시 가져옴\n",
    "#     new_height = driver.execute_script(\"return document.body.scrollHeight\")\n",
    "#     if new_height == last_height:\n",
    "#         break\n",
    "#     last_height = new_height"
   ]
  },
  {
   "cell_type": "code",
   "execution_count": 5,
   "metadata": {},
   "outputs": [],
   "source": [
    "# 접근한 페이지의 소스코드를 텍스트로 저장 (Str)\n",
    "page_text = driver.page_source\n",
    "\n",
    "# page_text를 html list로 변환 \n",
    "html = BeautifulSoup(page_text, 'html.parser')"
   ]
  },
  {
   "cell_type": "code",
   "execution_count": 6,
   "metadata": {},
   "outputs": [
    {
     "name": "stdout",
     "output_type": "stream",
     "text": [
      "전시회105개 의 주소입니다.\n",
      "['/Ticket/Goods/GoodsInfo.asp?GroupCode=22015433', '/Ticket/Goods/GoodsInfo.asp?GroupCode=22012659', '/Ticket/Goods/GoodsInfo.asp?GroupCode=23000216', '/Ticket/Goods/GoodsInfo.asp?GroupCode=22015987', '/Ticket/Goods/GoodsInfo.asp?GroupCode=22005831', '/Ticket/Goods/GoodsInfo.asp?GroupCode=22012710', '/Ticket/Goods/GoodsInfo.asp?GroupCode=22014814', '/Ticket/Goods/GoodsInfo.asp?GroupCode=22017519', '/Ticket/Goods/GoodsInfo.asp?GroupCode=22017744', '/Ticket/Goods/GoodsInfo.asp?GroupCode=22017160', '/Ticket/Goods/GoodsInfo.asp?GroupCode=22015865', '/Ticket/Goods/GoodsInfo.asp?GroupCode=22012718', '/Ticket/Goods/GoodsInfo.asp?GroupCode=22015969', '/Ticket/Goods/GoodsInfo.asp?GroupCode=22013829', '/Ticket/Goods/GoodsInfo.asp?GroupCode=22015362', '/Ticket/Goods/GoodsInfo.asp?GroupCode=22012885', '/Ticket/Goods/GoodsInfo.asp?GroupCode=22013931', '/Ticket/Goods/GoodsInfo.asp?GroupCode=22015911', '/Ticket/Goods/GoodsInfo.asp?GroupCode=22015333', '/Ticket/Goods/GoodsInfo.asp?GroupCode=22009615', '/Ticket/Goods/GoodsInfo.asp?GroupCode=22006533', '/Ticket/Goods/GoodsInfo.asp?GroupCode=22017589', '/Ticket/Goods/GoodsInfo.asp?GroupCode=22016001', '/Ticket/Goods/GoodsInfo.asp?GroupCode=21013073', '/Ticket/Goods/GoodsInfo.asp?GroupCode=22017755', '/Ticket/Goods/GoodsInfo.asp?GroupCode=22013142', '/Ticket/Goods/GoodsInfo.asp?GroupCode=22013275', '/Ticket/Goods/GoodsInfo.asp?GroupCode=23000083', '/Ticket/Goods/GoodsInfo.asp?GroupCode=22017240', '/Ticket/Goods/GoodsInfo.asp?GroupCode=22015883', '/Ticket/Goods/GoodsInfo.asp?GroupCode=22018025', '/Ticket/Goods/GoodsInfo.asp?GroupCode=21013245', '/Ticket/Goods/GoodsInfo.asp?GroupCode=16003063', '/Ticket/Goods/GoodsInfo.asp?GroupCode=22007867', '/Ticket/Goods/GoodsInfo.asp?GroupCode=22015445', '/Ticket/Goods/GoodsInfo.asp?GroupCode=20001127', '/Ticket/Goods/GoodsInfo.asp?GroupCode=22015885', '/Ticket/Goods/GoodsInfo.asp?GroupCode=22008346', '/Ticket/Goods/GoodsInfo.asp?GroupCode=23000445', '/Ticket/Goods/GoodsInfo.asp?GroupCode=22005306', '/Ticket/Goods/GoodsInfo.asp?GroupCode=22002108', '/Ticket/Goods/GoodsInfo.asp?GroupCode=21010347', '/Ticket/Goods/GoodsInfo.asp?GroupCode=22004358', '/Ticket/Goods/GoodsInfo.asp?GroupCode=23000177', '/Ticket/Goods/GoodsInfo.asp?GroupCode=22018000', '/Ticket/Goods/GoodsInfo.asp?GroupCode=22015532', '/Ticket/Goods/GoodsInfo.asp?GroupCode=23000540', '/Ticket/Goods/GoodsInfo.asp?GroupCode=21003218', '/Ticket/Goods/GoodsInfo.asp?GroupCode=23000077', '/Ticket/Goods/GoodsInfo.asp?GroupCode=22017419', '/Ticket/Goods/GoodsInfo.asp?GroupCode=22012767', '/Ticket/Goods/GoodsInfo.asp?GroupCode=23000029', '/Ticket/Goods/GoodsInfo.asp?GroupCode=22016664', '/Ticket/Goods/GoodsInfo.asp?GroupCode=22014873', '/Ticket/Goods/GoodsInfo.asp?GroupCode=23000032', '/Ticket/Goods/GoodsInfo.asp?GroupCode=22012142', '/Ticket/Goods/GoodsInfo.asp?GroupCode=22012936', '/Ticket/Goods/GoodsInfo.asp?GroupCode=22006050', '/Ticket/Goods/GoodsInfo.asp?GroupCode=22017846', '/Ticket/Goods/GoodsInfo.asp?GroupCode=23000053', '/Ticket/Goods/GoodsInfo.asp?GroupCode=22012197', '/Ticket/Goods/GoodsInfo.asp?GroupCode=22014844', '/Ticket/Goods/GoodsInfo.asp?GroupCode=22008751', '/Ticket/Goods/GoodsInfo.asp?GroupCode=21013135', '/Ticket/Goods/GoodsInfo.asp?GroupCode=22001095', '/Ticket/Goods/GoodsInfo.asp?GroupCode=21009109', '/Ticket/Goods/GoodsInfo.asp?GroupCode=18002765', '/Ticket/Goods/GoodsInfo.asp?GroupCode=21009108', '/Ticket/Goods/GoodsInfo.asp?GroupCode=22013596', '/Ticket/Goods/GoodsInfo.asp?GroupCode=22009042', '/Ticket/Goods/GoodsInfo.asp?GroupCode=22011341', '/Ticket/Goods/GoodsInfo.asp?GroupCode=22016445', '/Ticket/Goods/GoodsInfo.asp?GroupCode=22016475', '/Ticket/Goods/GoodsInfo.asp?GroupCode=22015487', '/Ticket/Goods/GoodsInfo.asp?GroupCode=22006119', '/Ticket/Goods/GoodsInfo.asp?GroupCode=22017502', '/Ticket/Goods/GoodsInfo.asp?GroupCode=22016228', '/Ticket/Goods/GoodsInfo.asp?GroupCode=23000526', '/Ticket/Goods/GoodsInfo.asp?GroupCode=18008401', '/Ticket/Goods/GoodsInfo.asp?GroupCode=22009178', '/Ticket/Goods/GoodsInfo.asp?GroupCode=22017409', '/Ticket/Goods/GoodsInfo.asp?GroupCode=22016556', '/Ticket/Goods/GoodsInfo.asp?GroupCode=18011706', '/Ticket/Goods/GoodsInfo.asp?GroupCode=22003070', '/Ticket/Goods/GoodsInfo.asp?GroupCode=19018168', '/Ticket/Goods/GoodsInfo.asp?GroupCode=22000408', '/Ticket/Goods/GoodsInfo.asp?GroupCode=22004749', '/Ticket/Goods/GoodsInfo.asp?GroupCode=22018012', '/Ticket/Goods/GoodsInfo.asp?GroupCode=19000210', '/Ticket/Goods/GoodsInfo.asp?GroupCode=22012724', '/Ticket/Goods/GoodsInfo.asp?GroupCode=22000534', '/Ticket/Goods/GoodsInfo.asp?GroupCode=20004961', '/Ticket/Goods/GoodsInfo.asp?GroupCode=21001539', '/Ticket/Goods/GoodsInfo.asp?GroupCode=22017925', '/Ticket/Goods/GoodsInfo.asp?GroupCode=22012982', '/Ticket/Goods/GoodsInfo.asp?GroupCode=21001570', '/Ticket/Goods/GoodsInfo.asp?GroupCode=18018388', '/Ticket/Goods/GoodsInfo.asp?GroupCode=18008385', '/Ticket/Goods/GoodsInfo.asp?GroupCode=21002426', '/Ticket/Goods/GoodsInfo.asp?GroupCode=21001601', '/Ticket/Goods/GoodsInfo.asp?GroupCode=21001270', '/Ticket/Goods/GoodsInfo.asp?GroupCode=21003487', '/Ticket/Goods/GoodsInfo.asp?GroupCode=21001649', '/Ticket/Goods/GoodsInfo.asp?GroupCode=22008956', '/Ticket/Goods/GoodsInfo.asp?GroupCode=22013626']\n"
     ]
    }
   ],
   "source": [
    "# body > table > tbody > tr:nth-child(2) > td:nth-child(3) > div > div > div.con > div > table > tbody > tr:nth-child(1) > td.RKtxt > span > a\n",
    "\n",
    "# blog_url\n",
    "url=[]\n",
    "\n",
    "for i in html.select('td.RKtxt > span > a') :\n",
    "    urls = i.attrs['href']\n",
    "    url.append(urls)\n",
    "    \n",
    "print(f\"전시회{len(url)}개 의 주소입니다.\")\n",
    "\n",
    "print(url)"
   ]
  },
  {
   "cell_type": "code",
   "execution_count": 7,
   "metadata": {},
   "outputs": [
    {
     "name": "stdout",
     "output_type": "stream",
     "text": [
      "전시회 105 개의 goods_num_list 입니다.\n",
      "['22015433', '22012659', '23000216', '22015987', '22005831', '22012710', '22014814', '22017519', '22017744', '22017160', '22015865', '22012718', '22015969', '22013829', '22015362', '22012885', '22013931', '22015911', '22015333', '22009615', '22006533', '22017589', '22016001', '21013073', '22017755', '22013142', '22013275', '23000083', '22017240', '22015883', '22018025', '21013245', '16003063', '22007867', '22015445', '20001127', '22015885', '22008346', '23000445', '22005306', '22002108', '21010347', '22004358', '23000177', '22018000', '22015532', '23000540', '21003218', '23000077', '22017419', '22012767', '23000029', '22016664', '22014873', '23000032', '22012142', '22012936', '22006050', '22017846', '23000053', '22012197', '22014844', '22008751', '21013135', '22001095', '21009109', '18002765', '21009108', '22013596', '22009042', '22011341', '22016445', '22016475', '22015487', '22006119', '22017502', '22016228', '23000526', '18008401', '22009178', '22017409', '22016556', '18011706', '22003070', '19018168', '22000408', '22004749', '22018012', '19000210', '22012724', '22000534', '20004961', '21001539', '22017925', '22012982', '21001570', '18018388', '18008385', '21002426', '21001601', '21001270', '21003487', '21001649', '22008956', '22013626']\n"
     ]
    }
   ],
   "source": [
    "goods_num_list = []\n",
    "\n",
    "for i in url :\n",
    "    goods_num = i.split('=')[1]\n",
    "    goods_num_list.append(goods_num)\n",
    "    \n",
    "print(f\"전시회 {len(url)} 개의 goods_num_list 입니다.\")\n",
    "\n",
    "print(goods_num_list)"
   ]
  },
  {
   "cell_type": "code",
   "execution_count": 8,
   "metadata": {},
   "outputs": [
    {
     "name": "stdout",
     "output_type": "stream",
     "text": [
      "전시회 105 개의 exhibition_url 입니다.\n",
      "['http://ticket.interpark.com/Ticket/Goods/GoodsInfo.asp?GoodsCode=22015433', 'http://ticket.interpark.com/Ticket/Goods/GoodsInfo.asp?GoodsCode=22012659', 'http://ticket.interpark.com/Ticket/Goods/GoodsInfo.asp?GoodsCode=23000216', 'http://ticket.interpark.com/Ticket/Goods/GoodsInfo.asp?GoodsCode=22015987', 'http://ticket.interpark.com/Ticket/Goods/GoodsInfo.asp?GoodsCode=22005831', 'http://ticket.interpark.com/Ticket/Goods/GoodsInfo.asp?GoodsCode=22012710', 'http://ticket.interpark.com/Ticket/Goods/GoodsInfo.asp?GoodsCode=22014814', 'http://ticket.interpark.com/Ticket/Goods/GoodsInfo.asp?GoodsCode=22017519', 'http://ticket.interpark.com/Ticket/Goods/GoodsInfo.asp?GoodsCode=22017744', 'http://ticket.interpark.com/Ticket/Goods/GoodsInfo.asp?GoodsCode=22017160', 'http://ticket.interpark.com/Ticket/Goods/GoodsInfo.asp?GoodsCode=22015865', 'http://ticket.interpark.com/Ticket/Goods/GoodsInfo.asp?GoodsCode=22012718', 'http://ticket.interpark.com/Ticket/Goods/GoodsInfo.asp?GoodsCode=22015969', 'http://ticket.interpark.com/Ticket/Goods/GoodsInfo.asp?GoodsCode=22013829', 'http://ticket.interpark.com/Ticket/Goods/GoodsInfo.asp?GoodsCode=22015362', 'http://ticket.interpark.com/Ticket/Goods/GoodsInfo.asp?GoodsCode=22012885', 'http://ticket.interpark.com/Ticket/Goods/GoodsInfo.asp?GoodsCode=22013931', 'http://ticket.interpark.com/Ticket/Goods/GoodsInfo.asp?GoodsCode=22015911', 'http://ticket.interpark.com/Ticket/Goods/GoodsInfo.asp?GoodsCode=22015333', 'http://ticket.interpark.com/Ticket/Goods/GoodsInfo.asp?GoodsCode=22009615', 'http://ticket.interpark.com/Ticket/Goods/GoodsInfo.asp?GoodsCode=22006533', 'http://ticket.interpark.com/Ticket/Goods/GoodsInfo.asp?GoodsCode=22017589', 'http://ticket.interpark.com/Ticket/Goods/GoodsInfo.asp?GoodsCode=22016001', 'http://ticket.interpark.com/Ticket/Goods/GoodsInfo.asp?GoodsCode=21013073', 'http://ticket.interpark.com/Ticket/Goods/GoodsInfo.asp?GoodsCode=22017755', 'http://ticket.interpark.com/Ticket/Goods/GoodsInfo.asp?GoodsCode=22013142', 'http://ticket.interpark.com/Ticket/Goods/GoodsInfo.asp?GoodsCode=22013275', 'http://ticket.interpark.com/Ticket/Goods/GoodsInfo.asp?GoodsCode=23000083', 'http://ticket.interpark.com/Ticket/Goods/GoodsInfo.asp?GoodsCode=22017240', 'http://ticket.interpark.com/Ticket/Goods/GoodsInfo.asp?GoodsCode=22015883', 'http://ticket.interpark.com/Ticket/Goods/GoodsInfo.asp?GoodsCode=22018025', 'http://ticket.interpark.com/Ticket/Goods/GoodsInfo.asp?GoodsCode=21013245', 'http://ticket.interpark.com/Ticket/Goods/GoodsInfo.asp?GoodsCode=16003063', 'http://ticket.interpark.com/Ticket/Goods/GoodsInfo.asp?GoodsCode=22007867', 'http://ticket.interpark.com/Ticket/Goods/GoodsInfo.asp?GoodsCode=22015445', 'http://ticket.interpark.com/Ticket/Goods/GoodsInfo.asp?GoodsCode=20001127', 'http://ticket.interpark.com/Ticket/Goods/GoodsInfo.asp?GoodsCode=22015885', 'http://ticket.interpark.com/Ticket/Goods/GoodsInfo.asp?GoodsCode=22008346', 'http://ticket.interpark.com/Ticket/Goods/GoodsInfo.asp?GoodsCode=23000445', 'http://ticket.interpark.com/Ticket/Goods/GoodsInfo.asp?GoodsCode=22005306', 'http://ticket.interpark.com/Ticket/Goods/GoodsInfo.asp?GoodsCode=22002108', 'http://ticket.interpark.com/Ticket/Goods/GoodsInfo.asp?GoodsCode=21010347', 'http://ticket.interpark.com/Ticket/Goods/GoodsInfo.asp?GoodsCode=22004358', 'http://ticket.interpark.com/Ticket/Goods/GoodsInfo.asp?GoodsCode=23000177', 'http://ticket.interpark.com/Ticket/Goods/GoodsInfo.asp?GoodsCode=22018000', 'http://ticket.interpark.com/Ticket/Goods/GoodsInfo.asp?GoodsCode=22015532', 'http://ticket.interpark.com/Ticket/Goods/GoodsInfo.asp?GoodsCode=23000540', 'http://ticket.interpark.com/Ticket/Goods/GoodsInfo.asp?GoodsCode=21003218', 'http://ticket.interpark.com/Ticket/Goods/GoodsInfo.asp?GoodsCode=23000077', 'http://ticket.interpark.com/Ticket/Goods/GoodsInfo.asp?GoodsCode=22017419', 'http://ticket.interpark.com/Ticket/Goods/GoodsInfo.asp?GoodsCode=22012767', 'http://ticket.interpark.com/Ticket/Goods/GoodsInfo.asp?GoodsCode=23000029', 'http://ticket.interpark.com/Ticket/Goods/GoodsInfo.asp?GoodsCode=22016664', 'http://ticket.interpark.com/Ticket/Goods/GoodsInfo.asp?GoodsCode=22014873', 'http://ticket.interpark.com/Ticket/Goods/GoodsInfo.asp?GoodsCode=23000032', 'http://ticket.interpark.com/Ticket/Goods/GoodsInfo.asp?GoodsCode=22012142', 'http://ticket.interpark.com/Ticket/Goods/GoodsInfo.asp?GoodsCode=22012936', 'http://ticket.interpark.com/Ticket/Goods/GoodsInfo.asp?GoodsCode=22006050', 'http://ticket.interpark.com/Ticket/Goods/GoodsInfo.asp?GoodsCode=22017846', 'http://ticket.interpark.com/Ticket/Goods/GoodsInfo.asp?GoodsCode=23000053', 'http://ticket.interpark.com/Ticket/Goods/GoodsInfo.asp?GoodsCode=22012197', 'http://ticket.interpark.com/Ticket/Goods/GoodsInfo.asp?GoodsCode=22014844', 'http://ticket.interpark.com/Ticket/Goods/GoodsInfo.asp?GoodsCode=22008751', 'http://ticket.interpark.com/Ticket/Goods/GoodsInfo.asp?GoodsCode=21013135', 'http://ticket.interpark.com/Ticket/Goods/GoodsInfo.asp?GoodsCode=22001095', 'http://ticket.interpark.com/Ticket/Goods/GoodsInfo.asp?GoodsCode=21009109', 'http://ticket.interpark.com/Ticket/Goods/GoodsInfo.asp?GoodsCode=18002765', 'http://ticket.interpark.com/Ticket/Goods/GoodsInfo.asp?GoodsCode=21009108', 'http://ticket.interpark.com/Ticket/Goods/GoodsInfo.asp?GoodsCode=22013596', 'http://ticket.interpark.com/Ticket/Goods/GoodsInfo.asp?GoodsCode=22009042', 'http://ticket.interpark.com/Ticket/Goods/GoodsInfo.asp?GoodsCode=22011341', 'http://ticket.interpark.com/Ticket/Goods/GoodsInfo.asp?GoodsCode=22016445', 'http://ticket.interpark.com/Ticket/Goods/GoodsInfo.asp?GoodsCode=22016475', 'http://ticket.interpark.com/Ticket/Goods/GoodsInfo.asp?GoodsCode=22015487', 'http://ticket.interpark.com/Ticket/Goods/GoodsInfo.asp?GoodsCode=22006119', 'http://ticket.interpark.com/Ticket/Goods/GoodsInfo.asp?GoodsCode=22017502', 'http://ticket.interpark.com/Ticket/Goods/GoodsInfo.asp?GoodsCode=22016228', 'http://ticket.interpark.com/Ticket/Goods/GoodsInfo.asp?GoodsCode=23000526', 'http://ticket.interpark.com/Ticket/Goods/GoodsInfo.asp?GoodsCode=18008401', 'http://ticket.interpark.com/Ticket/Goods/GoodsInfo.asp?GoodsCode=22009178', 'http://ticket.interpark.com/Ticket/Goods/GoodsInfo.asp?GoodsCode=22017409', 'http://ticket.interpark.com/Ticket/Goods/GoodsInfo.asp?GoodsCode=22016556', 'http://ticket.interpark.com/Ticket/Goods/GoodsInfo.asp?GoodsCode=18011706', 'http://ticket.interpark.com/Ticket/Goods/GoodsInfo.asp?GoodsCode=22003070', 'http://ticket.interpark.com/Ticket/Goods/GoodsInfo.asp?GoodsCode=19018168', 'http://ticket.interpark.com/Ticket/Goods/GoodsInfo.asp?GoodsCode=22000408', 'http://ticket.interpark.com/Ticket/Goods/GoodsInfo.asp?GoodsCode=22004749', 'http://ticket.interpark.com/Ticket/Goods/GoodsInfo.asp?GoodsCode=22018012', 'http://ticket.interpark.com/Ticket/Goods/GoodsInfo.asp?GoodsCode=19000210', 'http://ticket.interpark.com/Ticket/Goods/GoodsInfo.asp?GoodsCode=22012724', 'http://ticket.interpark.com/Ticket/Goods/GoodsInfo.asp?GoodsCode=22000534', 'http://ticket.interpark.com/Ticket/Goods/GoodsInfo.asp?GoodsCode=20004961', 'http://ticket.interpark.com/Ticket/Goods/GoodsInfo.asp?GoodsCode=21001539', 'http://ticket.interpark.com/Ticket/Goods/GoodsInfo.asp?GoodsCode=22017925', 'http://ticket.interpark.com/Ticket/Goods/GoodsInfo.asp?GoodsCode=22012982', 'http://ticket.interpark.com/Ticket/Goods/GoodsInfo.asp?GoodsCode=21001570', 'http://ticket.interpark.com/Ticket/Goods/GoodsInfo.asp?GoodsCode=18018388', 'http://ticket.interpark.com/Ticket/Goods/GoodsInfo.asp?GoodsCode=18008385', 'http://ticket.interpark.com/Ticket/Goods/GoodsInfo.asp?GoodsCode=21002426', 'http://ticket.interpark.com/Ticket/Goods/GoodsInfo.asp?GoodsCode=21001601', 'http://ticket.interpark.com/Ticket/Goods/GoodsInfo.asp?GoodsCode=21001270', 'http://ticket.interpark.com/Ticket/Goods/GoodsInfo.asp?GoodsCode=21003487', 'http://ticket.interpark.com/Ticket/Goods/GoodsInfo.asp?GoodsCode=21001649', 'http://ticket.interpark.com/Ticket/Goods/GoodsInfo.asp?GoodsCode=22008956', 'http://ticket.interpark.com/Ticket/Goods/GoodsInfo.asp?GoodsCode=22013626']\n"
     ]
    }
   ],
   "source": [
    "exhibition_url = []\n",
    "\n",
    "for i in goods_num_list :\n",
    "    exhibition_url.append(f'http://ticket.interpark.com/Ticket/Goods/GoodsInfo.asp?GoodsCode={i}')\n",
    "    \n",
    "print(f\"전시회 {len(exhibition_url)} 개의 exhibition_url 입니다.\")\n",
    "\n",
    "print(exhibition_url)"
   ]
  },
  {
   "cell_type": "code",
   "execution_count": null,
   "metadata": {},
   "outputs": [],
   "source": [
    "driver.close()"
   ]
  },
  {
   "attachments": {},
   "cell_type": "markdown",
   "metadata": {},
   "source": [
    "# 전시회 세부페이지"
   ]
  },
  {
   "cell_type": "code",
   "execution_count": null,
   "metadata": {},
   "outputs": [],
   "source": [
    "\n",
    "# 이후 상세페이지 조회시 for문으로 접근하여 데이터 수집\n",
    "# 우선 한개만\n",
    "\n",
    "detail_url_1 = 'http://ticket.interpark.com/Ticket/Goods/GoodsInfo.asp?GoodsCode=22015433'\n",
    "\n",
    "request = requests.get(detail_url_1)\n",
    "\n",
    "driver.get(detail_url_1)\n"
   ]
  },
  {
   "cell_type": "code",
   "execution_count": null,
   "metadata": {},
   "outputs": [],
   "source": [
    "try:\n",
    "    driver.find_element_by_xpath('//*[@id=\"popup-prdGuide\"]/div/div[3]/div/a').click()\n",
    "except:\n",
    "    pass"
   ]
  },
  {
   "cell_type": "code",
   "execution_count": null,
   "metadata": {},
   "outputs": [],
   "source": [
    "# 접근한 페이지의 소스코드를 텍스트로 저장 (Str)\n",
    "page_text = driver.page_source\n",
    "\n",
    "# page_text를 html list로 변환 \n",
    "html = BeautifulSoup(page_text, 'html.parser')"
   ]
  },
  {
   "cell_type": "code",
   "execution_count": null,
   "metadata": {},
   "outputs": [],
   "source": [
    "# title\n",
    "\n",
    "title_1 = html.select_one('div.summaryTop > h2').text\n",
    "print(title_1)"
   ]
  },
  {
   "cell_type": "code",
   "execution_count": null,
   "metadata": {},
   "outputs": [],
   "source": [
    "# Place\n",
    "#container > div.contents > div.productWrapper > div.productMain > div.productMainTop > div > div.summaryBody > ul > li:nth-child(1) > div > a\n",
    "\n",
    "place_1 = html.select_one('li:nth-child(1) > div > a').text\n",
    "place_1 = place_1.split('(')[0]\n",
    "print(place_1)"
   ]
  },
  {
   "cell_type": "code",
   "execution_count": null,
   "metadata": {},
   "outputs": [],
   "source": [
    "# date\n",
    "#container > div.contents > div.productWrapper > div.productMain > div.productMainTop > div > div.summaryBody > ul > li:nth-child(2) > div > p\n",
    "\n",
    "date_1 = html.select_one('li:nth-child(2) > div > p').text\n",
    "print(f'전체 기간: {date_1}')\n",
    "\n",
    "startAt = date_1.split(' ~')[0]\n",
    "print(f'전시 시작일 : {startAt}')\n",
    "\n",
    "endAt = date_1.split(' ~')[1]\n",
    "print(f'전시 종료일 : {endAt}')\n"
   ]
  },
  {
   "cell_type": "code",
   "execution_count": null,
   "metadata": {},
   "outputs": [],
   "source": [
    "# ageLimit\n",
    "#container > div.contents > div.productWrapper > div.productMain > div.productMainTop > div > div.summaryBody > ul > li:nth-child(4) > div > p\n",
    "\n",
    "ageLimit_1 = html.select_one('li:nth-child(4) > div > p').text\n",
    "print(f'관람 가능 연령 : {ageLimit_1}')\n"
   ]
  },
  {
   "cell_type": "code",
   "execution_count": null,
   "metadata": {},
   "outputs": [],
   "source": [
    "# price \n",
    "#container > div.contents > div.productWrapper > div.productMain > div.productMainTop > div > div.summaryBody > ul > li.infoItem.infoPrice > div > ul > li:nth-child(2) > span.price\n",
    "\n",
    "price_1 = html.select_one('li:nth-child(2) > span.price').text\n",
    "\n",
    "print(f'가격 : {price_1}')"
   ]
  },
  {
   "cell_type": "code",
   "execution_count": null,
   "metadata": {},
   "outputs": [],
   "source": [
    "# main_img\n",
    "#container > div.contents > div.productWrapper > div.productMain > div.productMainTop > div > div.summaryBody > div > div.posterBoxTop > img\n",
    "\n",
    "main_img_1 = html.select_one('div.posterBoxTop > img').attrs['src']\n",
    "main_img_1 = 'http:' + main_img_1\n",
    "\n",
    "main_img_1"
   ]
  },
  {
   "cell_type": "code",
   "execution_count": null,
   "metadata": {},
   "outputs": [],
   "source": [
    "# male / female\n",
    "#productMainBody > div > div.content.prdStat > div > div.statGender > div.statGenderType.is-male > div.statGenderValue\n",
    "\n",
    "statMale = html.select_one('div.statGender > div.statGenderType.is-male > div.statGenderValue').text\n",
    "statFemale = html.select_one('div.statGender > div.statGenderType.is-female > div.statGenderValue').text"
   ]
  },
  {
   "cell_type": "code",
   "execution_count": null,
   "metadata": {},
   "outputs": [],
   "source": [
    "# statAge\n",
    "#productMainBody > div > div.content.prdStat > div > div.statAge > div > div:nth-child(1) > div.statAgeName\n",
    "# statAge_Percent\n",
    "#productMainBody > div > div.content.prdStat > div > div.statAge > div > div:nth-child(1) > div.statAgePercent\n",
    "## 10대 / 20대 / 30대 / 40대 / 50대\n",
    "\n",
    "statAge_10 = html.select_one('div:nth-child(1) > div.statAgeName').text\n",
    "statAge_Percent_10 = html.select_one('div:nth-child(1) > div.statAgePercent').text\n",
    "\n",
    "statAge_20 = html.select_one('div:nth-child(2) > div.statAgeName').text\n",
    "statAge_Percent_20 = html.select_one('div:nth-child(2) > div.statAgePercent').text\n",
    "\n",
    "statAge_30 = html.select_one('div:nth-child(3) > div.statAgeName').text\n",
    "statAge_Percent_30 = html.select_one('div:nth-child(3) > div.statAgePercent').text\n",
    "\n",
    "statAge_40 = html.select_one('div:nth-child(4) > div.statAgeName').text\n",
    "statAge_Percent_40 = html.select_one('div:nth-child(4) > div.statAgePercent').text\n",
    "\n",
    "statAge_50 = html.select_one('div:nth-child(5) > div.statAgeName').text\n",
    "statAge_Percent_50 = html.select_one('div:nth-child(5) > div.statAgePercent').text\n",
    "\n",
    "\n",
    "print(f'{statAge_10} : {statAge_Percent_10}')\n",
    "print(f'{statAge_20} : {statAge_Percent_20}')\n",
    "print(f'{statAge_30} : {statAge_Percent_30}')\n",
    "print(f'{statAge_40} : {statAge_Percent_40}')\n",
    "print(f'{statAge_50} : {statAge_Percent_50}')"
   ]
  },
  {
   "cell_type": "code",
   "execution_count": null,
   "metadata": {},
   "outputs": [],
   "source": [
    "driver.close()"
   ]
  },
  {
   "attachments": {},
   "cell_type": "markdown",
   "metadata": {},
   "source": [
    "---"
   ]
  },
  {
   "attachments": {},
   "cell_type": "markdown",
   "metadata": {},
   "source": [
    "# 자동화"
   ]
  },
  {
   "attachments": {},
   "cell_type": "markdown",
   "metadata": {},
   "source": [
    "### 세부 메서드"
   ]
  },
  {
   "cell_type": "code",
   "execution_count": 9,
   "metadata": {},
   "outputs": [],
   "source": [
    "def get_exhibition_info(url) :\n",
    "        resp = requests.get(url)\n",
    "        driver.get (url)\n",
    "        driver.find_element_by_xpath('//*[@id=\"popup-prdGuide\"]/div/div[3]/div/a').click()\n",
    "        page_text = driver.page_source\n",
    "        html = BeautifulSoup(resp.text, 'html.parser')\n",
    "        return html, resp"
   ]
  },
  {
   "cell_type": "code",
   "execution_count": 10,
   "metadata": {},
   "outputs": [],
   "source": [
    "def get_exhibition_title(html) :\n",
    "    title = html.select_one('div.summaryTop > h2').text\n",
    "    return title"
   ]
  },
  {
   "cell_type": "code",
   "execution_count": 11,
   "metadata": {},
   "outputs": [],
   "source": [
    "def get_exhibition_place(html) :\n",
    "    place = html.select_one('li:nth-child(1) > div > a').text\n",
    "    place = place.split('(')[0]\n",
    "    return place"
   ]
  },
  {
   "cell_type": "code",
   "execution_count": 12,
   "metadata": {},
   "outputs": [],
   "source": [
    "def get_exhibition_date(html) :\n",
    "    date = html.select_one('li:nth-child(2) > div > p').text\n",
    "    startAt = date.split(' ~')[0]\n",
    "    endAt = date.split(' ~')[1]\n",
    "    return startAt, endAt"
   ]
  },
  {
   "cell_type": "code",
   "execution_count": 13,
   "metadata": {},
   "outputs": [],
   "source": [
    "def get_ageLimit(html) :\n",
    "    ageLimit = html.select_one('li:nth-child(4) > div > p').text\n",
    "    return ageLimit"
   ]
  },
  {
   "cell_type": "code",
   "execution_count": 14,
   "metadata": {},
   "outputs": [],
   "source": [
    "def get_price(html) :\n",
    "    price = html.select_one('li:nth-child(2) > span.price').text\n",
    "    return price"
   ]
  },
  {
   "cell_type": "code",
   "execution_count": 15,
   "metadata": {},
   "outputs": [],
   "source": [
    "def get_main_img(html) :\n",
    "    main_img = html.select_one('div.posterBoxTop > img').attrs['src']\n",
    "    main_img_url = 'http:' + main_img\n",
    "    return main_img_url"
   ]
  },
  {
   "attachments": {},
   "cell_type": "markdown",
   "metadata": {},
   "source": [
    "### 통합 메서드"
   ]
  },
  {
   "cell_type": "code",
   "execution_count": 16,
   "metadata": {},
   "outputs": [],
   "source": [
    "def get_crawling_exhibition_info(url):\n",
    "    \n",
    "    resp = requests.get(url)\n",
    "    \n",
    "    # print(f'resp : {resp}')\n",
    "    \n",
    "    driver.get (url)\n",
    "    \n",
    "    time.sleep(1)\n",
    "    \n",
    "    try:\n",
    "        driver.find_element_by_xpath('//*[@id=\"popup-prdGuide\"]/div/div[3]/div/a').click()\n",
    "    except:\n",
    "        pass\n",
    "    \n",
    "    page_text = driver.page_source\n",
    "    \n",
    "    # 접근한 페이지의 소스코드를 텍스트로 저장 (Str)\n",
    "    page_text = driver.page_source\n",
    "\n",
    "    # page_text를 html list로 변환 \n",
    "    html = BeautifulSoup(page_text, 'html.parser')\n",
    "    \n",
    "    # print(f'html : \\n {html}')\n",
    "    \n",
    "    title = html.select_one('div.summaryTop > h2').text\n",
    "    \n",
    "    # get title\n",
    "    title = html.select_one('div.summaryTop > h2').text\n",
    "    \n",
    "    # get place name\n",
    "    place = html.select_one('li:nth-child(1) > div > a').text\n",
    "    place = place.split('(')[0]\n",
    "    \n",
    "    # get date (startAt, endAt)\n",
    "    date = html.select_one('li:nth-child(2) > div > p').text\n",
    "    startAt = date.split(' ~')[0]\n",
    "    endAt = date.split(' ~')[1]\n",
    "    \n",
    "    # get ageLimit\n",
    "    # li:nth-child(4) > div > p \n",
    "    # or li:nth-child(3) > div > p\n",
    "    try:\n",
    "        ageLimit = html.select_one('li:nth-child(4) > div > p').text\n",
    "    except:\n",
    "        ageLimit = html.select_one('li:nth-child(3) > div > p').text\n",
    "    \n",
    "    # get price\n",
    "    try:\n",
    "        price = html.select_one('li:nth-child(2) > span.price').text\n",
    "    except:\n",
    "        price = '가격 정보 없음'\n",
    "    \n",
    "    # get main_img_url\n",
    "    main_img = html.select_one('div.posterBoxTop > img').attrs['src']\n",
    "    main_img_url = 'http:' + main_img\n",
    "    \n",
    "    # get statGender\n",
    "    try:    \n",
    "        statMale = html.select_one('div.statGender > div.statGenderType.is-male > div.statGenderValue').text\n",
    "        statFemale = html.select_one('div.statGender > div.statGenderType.is-female > div.statGenderValue').text\n",
    "    except:\n",
    "        statMale = '통계 정보 없음'\n",
    "        statFemale = '통계 정보 없음'\n",
    "    \n",
    "    # get statAge\n",
    "    try:\n",
    "        statAge_Percent_10 = html.select_one('div:nth-child(1) > div.statAgePercent').text\n",
    "        statAge_Percent_20 = html.select_one('div:nth-child(2) > div.statAgePercent').text\n",
    "        statAge_Percent_30 = html.select_one('div:nth-child(3) > div.statAgePercent').text\n",
    "        statAge_Percent_40 = html.select_one('div:nth-child(4) > div.statAgePercent').text\n",
    "        statAge_Percent_50 = html.select_one('div:nth-child(5) > div.statAgePercent').text\n",
    "    except:\n",
    "        statAge_Percent_10 = '통계 정보 없음'\n",
    "        statAge_Percent_20 = '통계 정보 없음'\n",
    "        statAge_Percent_30 = '통계 정보 없음'\n",
    "        statAge_Percent_40 = '통계 정보 없음'\n",
    "        statAge_Percent_50 = '통계 정보 없음'\n",
    "    \n",
    "    \n",
    "    # append\n",
    "    title_list.append(title)\n",
    "    place_list.append(place)\n",
    "    startAt_list.append(startAt)\n",
    "    endAt_list.append(endAt)\n",
    "    ageLimit_list.append(ageLimit)\n",
    "    price_list.append(price)\n",
    "    main_img_url_list.append(main_img_url)\n",
    "    \n",
    "    statMale_list.append(statMale)\n",
    "    statFemale_list.append(statFemale)\n",
    "    \n",
    "    statAge_Percent_10_list.append(statAge_Percent_10)\n",
    "    statAge_Percent_20_list.append(statAge_Percent_20)\n",
    "    statAge_Percent_30_list.append(statAge_Percent_30)\n",
    "    statAge_Percent_40_list.append(statAge_Percent_40)\n",
    "    statAge_Percent_50_list.append(statAge_Percent_50)\n",
    "    "
   ]
  },
  {
   "cell_type": "code",
   "execution_count": 17,
   "metadata": {},
   "outputs": [],
   "source": [
    "def get_DataFrame():\n",
    "    data = {\n",
    "        'title' : title_list,\n",
    "        'place' : place_list,\n",
    "        'startAt' : startAt_list,\n",
    "        'endAt' : endAt_list,\n",
    "        'price' : price_list,\n",
    "        'ageLimit' : ageLimit_list,\n",
    "        'main_img_url' : main_img_url_list,\n",
    "        'statMale' : statMale_list,\n",
    "        'statFemale' : statFemale_list,\n",
    "        'statAge_10' : statAge_Percent_10_list,\n",
    "        'statAge_20' : statAge_Percent_20_list,\n",
    "        'statAge_30' : statAge_Percent_30_list,\n",
    "        'statAge_40' : statAge_Percent_40_list,\n",
    "        'statAge_50' : statAge_Percent_50_list,\n",
    "        }\n",
    "\n",
    "    df = pd.DataFrame(data)\n",
    "    \n",
    "    return df"
   ]
  },
  {
   "cell_type": "code",
   "execution_count": 18,
   "metadata": {},
   "outputs": [],
   "source": [
    "def save_img() :\n",
    "    # 현재 시간 기준 폴더 생성\n",
    "    NOW = datetime.datetime.now().strftime('%Y-%m-%d/%H:%M:%S')\n",
    "    RECORD_IMG_PATH = os.path.join('../../data/img', NOW)\n",
    "    os.makedirs(RECORD_IMG_PATH, exist_ok=True)\n",
    "    \n",
    "    for idx, url in enumerate(tqdm(main_img_url_list)) :\n",
    "        urlretrieve(url, f'../../data/img/{RECORD_IMG_PATH}/{idx}.jpg')\n",
    "        time.sleep(3)"
   ]
  },
  {
   "cell_type": "code",
   "execution_count": 19,
   "metadata": {},
   "outputs": [],
   "source": [
    "def save_csv() :\n",
    "    # 현재 시간 기준 폴더 생성\n",
    "    NOW = datetime.datetime.now().strftime('%Y-%m-%d/%H:%M:%S')\n",
    "    RECORD_CSV_PATH = os.path.join('../../data/csv', NOW)\n",
    "    os.makedirs(RECORD_CSV_PATH, exist_ok=True)\n",
    "    \n",
    "    df.to_csv(f'../../data/csv/{RECORD_CSV_PATH}/exhibition.csv', index=False, encoding='utf-8-sig')"
   ]
  },
  {
   "cell_type": "code",
   "execution_count": 20,
   "metadata": {},
   "outputs": [
    {
     "name": "stderr",
     "output_type": "stream",
     "text": [
      "100%|██████████| 105/105 [09:18<00:00,  5.32s/it]\n"
     ]
    },
    {
     "name": "stdout",
     "output_type": "stream",
     "text": [
      "Done Processing\n"
     ]
    }
   ],
   "source": [
    "# title\n",
    "title_list = []\n",
    "\n",
    "# place\n",
    "place_list = []\n",
    "\n",
    "# date\n",
    "startAt_list = []\n",
    "endAt_list = []\n",
    "\n",
    "# price\n",
    "price_list = []\n",
    "\n",
    "# ageLimit\n",
    "ageLimit_list = []\n",
    "\n",
    "# main_img\n",
    "main_img_url_list = []\n",
    "\n",
    "# statGender\n",
    "statMale_list = []\n",
    "statFemale_list = []\n",
    "\n",
    "# statAge\n",
    "statAge_Percent_10_list = []\n",
    "statAge_Percent_20_list = []\n",
    "statAge_Percent_30_list = []\n",
    "statAge_Percent_40_list = []\n",
    "statAge_Percent_50_list = []\n",
    "\n",
    "\n",
    "driver = webdriver.Chrome('../../chromedriver')\n",
    "try:\n",
    "    for idx, url in enumerate(tqdm(exhibition_url)) :\n",
    "        # print(f'{idx} 번째 URL Img : {url}')\n",
    "        get_crawling_exhibition_info(url)\n",
    "        time.sleep(3)\n",
    "        \n",
    "    driver.close()\n",
    "    print('Done Processing')\n",
    "except:\n",
    "    driver.close()\n",
    "    print('Error')"
   ]
  },
  {
   "cell_type": "code",
   "execution_count": 21,
   "metadata": {},
   "outputs": [
    {
     "data": {
      "text/html": [
       "<div>\n",
       "<style scoped>\n",
       "    .dataframe tbody tr th:only-of-type {\n",
       "        vertical-align: middle;\n",
       "    }\n",
       "\n",
       "    .dataframe tbody tr th {\n",
       "        vertical-align: top;\n",
       "    }\n",
       "\n",
       "    .dataframe thead th {\n",
       "        text-align: right;\n",
       "    }\n",
       "</style>\n",
       "<table border=\"1\" class=\"dataframe\">\n",
       "  <thead>\n",
       "    <tr style=\"text-align: right;\">\n",
       "      <th></th>\n",
       "      <th>title</th>\n",
       "      <th>place</th>\n",
       "      <th>startAt</th>\n",
       "      <th>endAt</th>\n",
       "      <th>price</th>\n",
       "      <th>ageLimit</th>\n",
       "      <th>main_img_url</th>\n",
       "      <th>statMale</th>\n",
       "      <th>statFemale</th>\n",
       "      <th>statAge_10</th>\n",
       "      <th>statAge_20</th>\n",
       "      <th>statAge_30</th>\n",
       "      <th>statAge_40</th>\n",
       "      <th>statAge_50</th>\n",
       "    </tr>\n",
       "  </thead>\n",
       "  <tbody>\n",
       "    <tr>\n",
       "      <th>0</th>\n",
       "      <td>합스부르크 600년, 매혹의 걸작들</td>\n",
       "      <td>국립중앙박물관 기획전시실</td>\n",
       "      <td>2022.11.14</td>\n",
       "      <td>2023.03.01</td>\n",
       "      <td>17,500원</td>\n",
       "      <td>전체관람가</td>\n",
       "      <td>http://ticketimage.interpark.com/Play/image/la...</td>\n",
       "      <td>22.1%</td>\n",
       "      <td>77.9%</td>\n",
       "      <td>3.3%</td>\n",
       "      <td>24.5%</td>\n",
       "      <td>29.5%</td>\n",
       "      <td>25.9%</td>\n",
       "      <td>11.5%</td>\n",
       "    </tr>\n",
       "    <tr>\n",
       "      <th>1</th>\n",
       "      <td>［전시 연장］장 줄리앙</td>\n",
       "      <td>DDP 뮤지엄 지하2층 전시1관</td>\n",
       "      <td>2022.10.01</td>\n",
       "      <td>2023.01.24</td>\n",
       "      <td>20,000원</td>\n",
       "      <td>전체관람가</td>\n",
       "      <td>http://ticketimage.interpark.com/Play/image/la...</td>\n",
       "      <td>20.7%</td>\n",
       "      <td>79.3%</td>\n",
       "      <td>3.2%</td>\n",
       "      <td>32.8%</td>\n",
       "      <td>33.6%</td>\n",
       "      <td>26%</td>\n",
       "      <td>3.9%</td>\n",
       "    </tr>\n",
       "    <tr>\n",
       "      <th>2</th>\n",
       "      <td>［얼리버드］다비드 자맹: 프로방스에서 온 댄디보이</td>\n",
       "      <td>더현대서울</td>\n",
       "      <td>2023.02.04</td>\n",
       "      <td>2023.03.31</td>\n",
       "      <td>10,000원</td>\n",
       "      <td>전체관람가</td>\n",
       "      <td>http://ticketimage.interpark.com/Play/image/la...</td>\n",
       "      <td>16.9%</td>\n",
       "      <td>83.1%</td>\n",
       "      <td>0.8%</td>\n",
       "      <td>17.8%</td>\n",
       "      <td>36.4%</td>\n",
       "      <td>26.3%</td>\n",
       "      <td>14.2%</td>\n",
       "    </tr>\n",
       "    <tr>\n",
       "      <th>3</th>\n",
       "      <td>Ohnim(송민호) Solo Exhibition</td>\n",
       "      <td>StART PLUS</td>\n",
       "      <td>2022.12.16</td>\n",
       "      <td>2023.02.05</td>\n",
       "      <td>15,000원</td>\n",
       "      <td>전체관람가</td>\n",
       "      <td>http://ticketimage.interpark.com/Play/image/la...</td>\n",
       "      <td>24.6%</td>\n",
       "      <td>75.4%</td>\n",
       "      <td>12.2%</td>\n",
       "      <td>57.5%</td>\n",
       "      <td>19.8%</td>\n",
       "      <td>8.3%</td>\n",
       "      <td>1.9%</td>\n",
       "    </tr>\n",
       "    <tr>\n",
       "      <th>4</th>\n",
       "      <td>［서울/용산］에바 알머슨 특별전：Andando</td>\n",
       "      <td>용산전쟁기념관 기획전시실</td>\n",
       "      <td>2022.05.13</td>\n",
       "      <td>2023.03.12</td>\n",
       "      <td>20,000원</td>\n",
       "      <td>전체관람가</td>\n",
       "      <td>http://ticketimage.interpark.com/Play/image/la...</td>\n",
       "      <td>14.8%</td>\n",
       "      <td>85.2%</td>\n",
       "      <td>0.6%</td>\n",
       "      <td>9.9%</td>\n",
       "      <td>31.2%</td>\n",
       "      <td>40.4%</td>\n",
       "      <td>15.6%</td>\n",
       "    </tr>\n",
       "    <tr>\n",
       "      <th>...</th>\n",
       "      <td>...</td>\n",
       "      <td>...</td>\n",
       "      <td>...</td>\n",
       "      <td>...</td>\n",
       "      <td>...</td>\n",
       "      <td>...</td>\n",
       "      <td>...</td>\n",
       "      <td>...</td>\n",
       "      <td>...</td>\n",
       "      <td>...</td>\n",
       "      <td>...</td>\n",
       "      <td>...</td>\n",
       "      <td>...</td>\n",
       "      <td>...</td>\n",
       "    </tr>\n",
       "    <tr>\n",
       "      <th>100</th>\n",
       "      <td>포천 느린마을 산사원［전통주갤러리 야외정원 기념품증정］</td>\n",
       "      <td>포천 산사원</td>\n",
       "      <td>2021.03.01</td>\n",
       "      <td>2023.02.28</td>\n",
       "      <td>4,000원</td>\n",
       "      <td>전체관람가</td>\n",
       "      <td>http://ticketimage.interpark.com/Play/image/la...</td>\n",
       "      <td>30.8%</td>\n",
       "      <td>69.2%</td>\n",
       "      <td>3.8%</td>\n",
       "      <td>11.5%</td>\n",
       "      <td>46.2%</td>\n",
       "      <td>19.2%</td>\n",
       "      <td>11.5%</td>\n",
       "    </tr>\n",
       "    <tr>\n",
       "      <th>101</th>\n",
       "      <td>피규어뮤지엄w 할인 티켓</td>\n",
       "      <td>피규어뮤지엄W</td>\n",
       "      <td>2021.04.27</td>\n",
       "      <td>2025.04.22</td>\n",
       "      <td>가격 정보 없음</td>\n",
       "      <td>전체관람가</td>\n",
       "      <td>http://ticketimage.interpark.com/Play/image/la...</td>\n",
       "      <td>100%</td>\n",
       "      <td>0%</td>\n",
       "      <td>0%</td>\n",
       "      <td>100%</td>\n",
       "      <td>0%</td>\n",
       "      <td>0%</td>\n",
       "      <td>0%</td>\n",
       "    </tr>\n",
       "    <tr>\n",
       "      <th>102</th>\n",
       "      <td>헤이리 파주공룡박물관</td>\n",
       "      <td>헤이리 파주공룡박물관</td>\n",
       "      <td>2021.03.08</td>\n",
       "      <td>2023.03.31</td>\n",
       "      <td>6,500원</td>\n",
       "      <td>전체관람가</td>\n",
       "      <td>http://ticketimage.interpark.com/Play/image/la...</td>\n",
       "      <td>29.2%</td>\n",
       "      <td>70.8%</td>\n",
       "      <td>8.3%</td>\n",
       "      <td>4.2%</td>\n",
       "      <td>50%</td>\n",
       "      <td>37.5%</td>\n",
       "      <td>0%</td>\n",
       "    </tr>\n",
       "    <tr>\n",
       "      <th>103</th>\n",
       "      <td>Flower in winter</td>\n",
       "      <td>네이처랩스</td>\n",
       "      <td>2022.07.19</td>\n",
       "      <td>2023.02.28</td>\n",
       "      <td>18,000원</td>\n",
       "      <td>전체관람가</td>\n",
       "      <td>http://ticketimage.interpark.com/Play/image/la...</td>\n",
       "      <td>23%</td>\n",
       "      <td>77%</td>\n",
       "      <td>21.3%</td>\n",
       "      <td>47.2%</td>\n",
       "      <td>18.4%</td>\n",
       "      <td>10.4%</td>\n",
       "      <td>2.2%</td>\n",
       "    </tr>\n",
       "    <tr>\n",
       "      <th>104</th>\n",
       "      <td>Time After Time</td>\n",
       "      <td>경주 코오롱호텔</td>\n",
       "      <td>2022.11.01</td>\n",
       "      <td>2023.09.30</td>\n",
       "      <td>15,000원</td>\n",
       "      <td>전체관람가</td>\n",
       "      <td>http://ticketimage.interpark.com/Play/image/la...</td>\n",
       "      <td>66.7%</td>\n",
       "      <td>33.3%</td>\n",
       "      <td>0%</td>\n",
       "      <td>33.3%</td>\n",
       "      <td>66.7%</td>\n",
       "      <td>0%</td>\n",
       "      <td>0%</td>\n",
       "    </tr>\n",
       "  </tbody>\n",
       "</table>\n",
       "<p>105 rows × 14 columns</p>\n",
       "</div>"
      ],
      "text/plain": [
       "                              title              place     startAt  \\\n",
       "0               합스부르크 600년, 매혹의 걸작들      국립중앙박물관 기획전시실  2022.11.14   \n",
       "1                      ［전시 연장］장 줄리앙  DDP 뮤지엄 지하2층 전시1관  2022.10.01   \n",
       "2       ［얼리버드］다비드 자맹: 프로방스에서 온 댄디보이              더현대서울  2023.02.04   \n",
       "3        Ohnim(송민호) Solo Exhibition         StART PLUS  2022.12.16   \n",
       "4         ［서울/용산］에바 알머슨 특별전：Andando      용산전쟁기념관 기획전시실  2022.05.13   \n",
       "..                              ...                ...         ...   \n",
       "100  포천 느린마을 산사원［전통주갤러리 야외정원 기념품증정］             포천 산사원  2021.03.01   \n",
       "101                   피규어뮤지엄w 할인 티켓            피규어뮤지엄W  2021.04.27   \n",
       "102                     헤이리 파주공룡박물관        헤이리 파주공룡박물관  2021.03.08   \n",
       "103                Flower in winter              네이처랩스  2022.07.19   \n",
       "104                 Time After Time           경주 코오롱호텔  2022.11.01   \n",
       "\n",
       "          endAt     price ageLimit  \\\n",
       "0    2023.03.01   17,500원    전체관람가   \n",
       "1    2023.01.24   20,000원    전체관람가   \n",
       "2    2023.03.31   10,000원    전체관람가   \n",
       "3    2023.02.05   15,000원    전체관람가   \n",
       "4    2023.03.12   20,000원    전체관람가   \n",
       "..          ...       ...      ...   \n",
       "100  2023.02.28    4,000원    전체관람가   \n",
       "101  2025.04.22  가격 정보 없음    전체관람가   \n",
       "102  2023.03.31    6,500원    전체관람가   \n",
       "103  2023.02.28   18,000원    전체관람가   \n",
       "104  2023.09.30   15,000원    전체관람가   \n",
       "\n",
       "                                          main_img_url statMale statFemale  \\\n",
       "0    http://ticketimage.interpark.com/Play/image/la...    22.1%      77.9%   \n",
       "1    http://ticketimage.interpark.com/Play/image/la...    20.7%      79.3%   \n",
       "2    http://ticketimage.interpark.com/Play/image/la...    16.9%      83.1%   \n",
       "3    http://ticketimage.interpark.com/Play/image/la...    24.6%      75.4%   \n",
       "4    http://ticketimage.interpark.com/Play/image/la...    14.8%      85.2%   \n",
       "..                                                 ...      ...        ...   \n",
       "100  http://ticketimage.interpark.com/Play/image/la...    30.8%      69.2%   \n",
       "101  http://ticketimage.interpark.com/Play/image/la...     100%         0%   \n",
       "102  http://ticketimage.interpark.com/Play/image/la...    29.2%      70.8%   \n",
       "103  http://ticketimage.interpark.com/Play/image/la...      23%        77%   \n",
       "104  http://ticketimage.interpark.com/Play/image/la...    66.7%      33.3%   \n",
       "\n",
       "    statAge_10 statAge_20 statAge_30 statAge_40 statAge_50  \n",
       "0         3.3%      24.5%      29.5%      25.9%      11.5%  \n",
       "1         3.2%      32.8%      33.6%        26%       3.9%  \n",
       "2         0.8%      17.8%      36.4%      26.3%      14.2%  \n",
       "3        12.2%      57.5%      19.8%       8.3%       1.9%  \n",
       "4         0.6%       9.9%      31.2%      40.4%      15.6%  \n",
       "..         ...        ...        ...        ...        ...  \n",
       "100       3.8%      11.5%      46.2%      19.2%      11.5%  \n",
       "101         0%       100%         0%         0%         0%  \n",
       "102       8.3%       4.2%        50%      37.5%         0%  \n",
       "103      21.3%      47.2%      18.4%      10.4%       2.2%  \n",
       "104         0%      33.3%      66.7%         0%         0%  \n",
       "\n",
       "[105 rows x 14 columns]"
      ]
     },
     "execution_count": 21,
     "metadata": {},
     "output_type": "execute_result"
    }
   ],
   "source": [
    "get_DataFrame()"
   ]
  },
  {
   "cell_type": "code",
   "execution_count": 22,
   "metadata": {},
   "outputs": [],
   "source": [
    "data = {\n",
    "    'title' : title_list,\n",
    "    'place' : place_list,\n",
    "    'startAt' : startAt_list,\n",
    "    'endAt' : endAt_list,\n",
    "    'price' : price_list,\n",
    "    'ageLimit' : ageLimit_list,\n",
    "    'main_img_url' : main_img_url_list,\n",
    "    'statMale' : statMale_list,\n",
    "    'statFemale' : statFemale_list,\n",
    "    'statAge_10' : statAge_Percent_10_list,\n",
    "    'statAge_20' : statAge_Percent_20_list,\n",
    "    'statAge_30' : statAge_Percent_30_list,\n",
    "    'statAge_40' : statAge_Percent_40_list,\n",
    "    'statAge_50' : statAge_Percent_50_list,\n",
    "    }\n",
    "\n",
    "df = pd.DataFrame(data)"
   ]
  },
  {
   "cell_type": "code",
   "execution_count": 23,
   "metadata": {},
   "outputs": [],
   "source": [
    "save_csv()"
   ]
  },
  {
   "cell_type": "code",
   "execution_count": 24,
   "metadata": {},
   "outputs": [
    {
     "name": "stderr",
     "output_type": "stream",
     "text": [
      "100%|██████████| 105/105 [05:20<00:00,  3.06s/it]\n"
     ]
    }
   ],
   "source": [
    "save_img()"
   ]
  },
  {
   "attachments": {},
   "cell_type": "markdown",
   "metadata": {},
   "source": [
    "---"
   ]
  }
 ],
 "metadata": {
  "kernelspec": {
   "display_name": "mume",
   "language": "python",
   "name": "python3"
  },
  "language_info": {
   "codemirror_mode": {
    "name": "ipython",
    "version": 3
   },
   "file_extension": ".py",
   "mimetype": "text/x-python",
   "name": "python",
   "nbconvert_exporter": "python",
   "pygments_lexer": "ipython3",
   "version": "3.8.15"
  },
  "orig_nbformat": 4,
  "vscode": {
   "interpreter": {
    "hash": "1de4d2b8119a5b668e6c3712f88e66cada3e0604da4dcc3ccef75a084703d294"
   }
  }
 },
 "nbformat": 4,
 "nbformat_minor": 2
}
