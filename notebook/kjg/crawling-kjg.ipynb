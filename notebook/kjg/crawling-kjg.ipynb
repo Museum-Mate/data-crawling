{
 "cells": [
  {
   "cell_type": "code",
   "execution_count": 90,
   "metadata": {},
   "outputs": [],
   "source": [
    "import numpy as np\n",
    "import pandas as pd\n",
    "import requests\n",
    "import time\n",
    "import os\n",
    "\n",
    "\n",
    "from tqdm import tqdm\n",
    "from bs4 import BeautifulSoup\n",
    "from urllib.parse import quote\n",
    "from urllib.request import urlretrieve\n",
    "from selenium import webdriver\n",
    "from collections import Counter"
   ]
  },
  {
   "cell_type": "code",
   "execution_count": 2,
   "metadata": {},
   "outputs": [],
   "source": [
    "driver = webdriver.Chrome('../../chromedriver')"
   ]
  },
  {
   "cell_type": "code",
   "execution_count": 3,
   "metadata": {},
   "outputs": [],
   "source": [
    "# url 설정\n",
    "url = f'http://ticket.interpark.com/TPGoodsList.asp?Ca=Eve&SubCa=Eve_O&tid4=Eve_O&smid1=gnb&smid2=008&smid3=1'\n",
    "\n",
    "# requests로 데이터 요청하기\n",
    "resp = requests.get(url)\n",
    "\n",
    "# 설정한 url 로 데이터 get 함수 요청\n",
    "driver.get(url)"
   ]
  },
  {
   "cell_type": "code",
   "execution_count": 4,
   "metadata": {},
   "outputs": [],
   "source": [
    "# # 화면상에서 스크롤 끝까지 내리기\n",
    "# SCROLL_PAUSE_SEC = 1\n",
    "\n",
    "# # 스크롤 높이 가져옴\n",
    "# last_height = driver.execute_script(\"return document.body.scrollHeight\")\n",
    "\n",
    "# while True:\n",
    "#     # 끝까지 스크롤 다운\n",
    "#     driver.execute_script(\"window.scrollTo(0, document.body.scrollHeight);\")\n",
    "\n",
    "#     # 1초 대기\n",
    "#     time.sleep(SCROLL_PAUSE_SEC)\n",
    "\n",
    "#     # 스크롤 다운 후 스크롤 높이 다시 가져옴\n",
    "#     new_height = driver.execute_script(\"return document.body.scrollHeight\")\n",
    "#     if new_height == last_height:\n",
    "#         break\n",
    "#     last_height = new_height"
   ]
  },
  {
   "cell_type": "code",
   "execution_count": 5,
   "metadata": {},
   "outputs": [],
   "source": [
    "# 접근한 페이지의 소스코드를 텍스트로 저장 (Str)\n",
    "page_text = driver.page_source\n",
    "\n",
    "# page_text를 html list로 변환 \n",
    "html = BeautifulSoup(page_text, 'html.parser')"
   ]
  },
  {
   "cell_type": "code",
   "execution_count": 6,
   "metadata": {},
   "outputs": [
    {
     "name": "stdout",
     "output_type": "stream",
     "text": [
      "전시회105개 의 주소입니다.\n",
      "['/Ticket/Goods/GoodsInfo.asp?GroupCode=22015433', '/Ticket/Goods/GoodsInfo.asp?GroupCode=22012659', '/Ticket/Goods/GoodsInfo.asp?GroupCode=23000216', '/Ticket/Goods/GoodsInfo.asp?GroupCode=22015987', '/Ticket/Goods/GoodsInfo.asp?GroupCode=22005831', '/Ticket/Goods/GoodsInfo.asp?GroupCode=22012710', '/Ticket/Goods/GoodsInfo.asp?GroupCode=22014814', '/Ticket/Goods/GoodsInfo.asp?GroupCode=22017519', '/Ticket/Goods/GoodsInfo.asp?GroupCode=22017160', '/Ticket/Goods/GoodsInfo.asp?GroupCode=22015865', '/Ticket/Goods/GoodsInfo.asp?GroupCode=22012718', '/Ticket/Goods/GoodsInfo.asp?GroupCode=22015969', '/Ticket/Goods/GoodsInfo.asp?GroupCode=22013829', '/Ticket/Goods/GoodsInfo.asp?GroupCode=22012885', '/Ticket/Goods/GoodsInfo.asp?GroupCode=22015362', '/Ticket/Goods/GoodsInfo.asp?GroupCode=22013931', '/Ticket/Goods/GoodsInfo.asp?GroupCode=22015911', '/Ticket/Goods/GoodsInfo.asp?GroupCode=22015333', '/Ticket/Goods/GoodsInfo.asp?GroupCode=22009615', '/Ticket/Goods/GoodsInfo.asp?GroupCode=22017589', '/Ticket/Goods/GoodsInfo.asp?GroupCode=22017744', '/Ticket/Goods/GoodsInfo.asp?GroupCode=22006533', '/Ticket/Goods/GoodsInfo.asp?GroupCode=22016001', '/Ticket/Goods/GoodsInfo.asp?GroupCode=22017755', '/Ticket/Goods/GoodsInfo.asp?GroupCode=22013275', '/Ticket/Goods/GoodsInfo.asp?GroupCode=22013142', '/Ticket/Goods/GoodsInfo.asp?GroupCode=21013073', '/Ticket/Goods/GoodsInfo.asp?GroupCode=23000083', '/Ticket/Goods/GoodsInfo.asp?GroupCode=22015883', '/Ticket/Goods/GoodsInfo.asp?GroupCode=22018025', '/Ticket/Goods/GoodsInfo.asp?GroupCode=22015885', '/Ticket/Goods/GoodsInfo.asp?GroupCode=22017240', '/Ticket/Goods/GoodsInfo.asp?GroupCode=16003063', '/Ticket/Goods/GoodsInfo.asp?GroupCode=22007867', '/Ticket/Goods/GoodsInfo.asp?GroupCode=21013245', '/Ticket/Goods/GoodsInfo.asp?GroupCode=22015445', '/Ticket/Goods/GoodsInfo.asp?GroupCode=20001127', '/Ticket/Goods/GoodsInfo.asp?GroupCode=22008346', '/Ticket/Goods/GoodsInfo.asp?GroupCode=22012724', '/Ticket/Goods/GoodsInfo.asp?GroupCode=23000445', '/Ticket/Goods/GoodsInfo.asp?GroupCode=22005306', '/Ticket/Goods/GoodsInfo.asp?GroupCode=21010347', '/Ticket/Goods/GoodsInfo.asp?GroupCode=22018012', '/Ticket/Goods/GoodsInfo.asp?GroupCode=23000177', '/Ticket/Goods/GoodsInfo.asp?GroupCode=22018000', '/Ticket/Goods/GoodsInfo.asp?GroupCode=22015532', '/Ticket/Goods/GoodsInfo.asp?GroupCode=23000540', '/Ticket/Goods/GoodsInfo.asp?GroupCode=21003218', '/Ticket/Goods/GoodsInfo.asp?GroupCode=23000077', '/Ticket/Goods/GoodsInfo.asp?GroupCode=22017419', '/Ticket/Goods/GoodsInfo.asp?GroupCode=22012767', '/Ticket/Goods/GoodsInfo.asp?GroupCode=23000029', '/Ticket/Goods/GoodsInfo.asp?GroupCode=22016664', '/Ticket/Goods/GoodsInfo.asp?GroupCode=22014873', '/Ticket/Goods/GoodsInfo.asp?GroupCode=23000032', '/Ticket/Goods/GoodsInfo.asp?GroupCode=22012142', '/Ticket/Goods/GoodsInfo.asp?GroupCode=22012936', '/Ticket/Goods/GoodsInfo.asp?GroupCode=22006050', '/Ticket/Goods/GoodsInfo.asp?GroupCode=22017846', '/Ticket/Goods/GoodsInfo.asp?GroupCode=23000053', '/Ticket/Goods/GoodsInfo.asp?GroupCode=22012197', '/Ticket/Goods/GoodsInfo.asp?GroupCode=22014844', '/Ticket/Goods/GoodsInfo.asp?GroupCode=22008751', '/Ticket/Goods/GoodsInfo.asp?GroupCode=21013135', '/Ticket/Goods/GoodsInfo.asp?GroupCode=22001095', '/Ticket/Goods/GoodsInfo.asp?GroupCode=21009109', '/Ticket/Goods/GoodsInfo.asp?GroupCode=18002765', '/Ticket/Goods/GoodsInfo.asp?GroupCode=21009108', '/Ticket/Goods/GoodsInfo.asp?GroupCode=22013596', '/Ticket/Goods/GoodsInfo.asp?GroupCode=22009042', '/Ticket/Goods/GoodsInfo.asp?GroupCode=22011341', '/Ticket/Goods/GoodsInfo.asp?GroupCode=22016445', '/Ticket/Goods/GoodsInfo.asp?GroupCode=22016475', '/Ticket/Goods/GoodsInfo.asp?GroupCode=22015487', '/Ticket/Goods/GoodsInfo.asp?GroupCode=22006119', '/Ticket/Goods/GoodsInfo.asp?GroupCode=22017502', '/Ticket/Goods/GoodsInfo.asp?GroupCode=22016228', '/Ticket/Goods/GoodsInfo.asp?GroupCode=23000526', '/Ticket/Goods/GoodsInfo.asp?GroupCode=18008401', '/Ticket/Goods/GoodsInfo.asp?GroupCode=22009178', '/Ticket/Goods/GoodsInfo.asp?GroupCode=22017409', '/Ticket/Goods/GoodsInfo.asp?GroupCode=22016556', '/Ticket/Goods/GoodsInfo.asp?GroupCode=22004358', '/Ticket/Goods/GoodsInfo.asp?GroupCode=18011706', '/Ticket/Goods/GoodsInfo.asp?GroupCode=22003070', '/Ticket/Goods/GoodsInfo.asp?GroupCode=19018168', '/Ticket/Goods/GoodsInfo.asp?GroupCode=22000408', '/Ticket/Goods/GoodsInfo.asp?GroupCode=22004749', '/Ticket/Goods/GoodsInfo.asp?GroupCode=19000210', '/Ticket/Goods/GoodsInfo.asp?GroupCode=22000534', '/Ticket/Goods/GoodsInfo.asp?GroupCode=20004961', '/Ticket/Goods/GoodsInfo.asp?GroupCode=21001539', '/Ticket/Goods/GoodsInfo.asp?GroupCode=22017925', '/Ticket/Goods/GoodsInfo.asp?GroupCode=22012982', '/Ticket/Goods/GoodsInfo.asp?GroupCode=21001570', '/Ticket/Goods/GoodsInfo.asp?GroupCode=18018388', '/Ticket/Goods/GoodsInfo.asp?GroupCode=18008385', '/Ticket/Goods/GoodsInfo.asp?GroupCode=21002426', '/Ticket/Goods/GoodsInfo.asp?GroupCode=21001601', '/Ticket/Goods/GoodsInfo.asp?GroupCode=21001270', '/Ticket/Goods/GoodsInfo.asp?GroupCode=21003487', '/Ticket/Goods/GoodsInfo.asp?GroupCode=21001649', '/Ticket/Goods/GoodsInfo.asp?GroupCode=22002108', '/Ticket/Goods/GoodsInfo.asp?GroupCode=22008956', '/Ticket/Goods/GoodsInfo.asp?GroupCode=22013626']\n"
     ]
    }
   ],
   "source": [
    "# body > table > tbody > tr:nth-child(2) > td:nth-child(3) > div > div > div.con > div > table > tbody > tr:nth-child(1) > td.RKtxt > span > a\n",
    "\n",
    "# blog_url\n",
    "url=[]\n",
    "\n",
    "for i in html.select('td.RKtxt > span > a') :\n",
    "    urls = i.attrs['href']\n",
    "    url.append(urls)\n",
    "    \n",
    "print(f\"전시회{len(url)}개 의 주소입니다.\")\n",
    "\n",
    "print(url)"
   ]
  },
  {
   "cell_type": "code",
   "execution_count": 7,
   "metadata": {},
   "outputs": [
    {
     "name": "stdout",
     "output_type": "stream",
     "text": [
      "전시회 105 개의 goods_num_list 입니다.\n",
      "['22015433', '22012659', '23000216', '22015987', '22005831', '22012710', '22014814', '22017519', '22017160', '22015865', '22012718', '22015969', '22013829', '22012885', '22015362', '22013931', '22015911', '22015333', '22009615', '22017589', '22017744', '22006533', '22016001', '22017755', '22013275', '22013142', '21013073', '23000083', '22015883', '22018025', '22015885', '22017240', '16003063', '22007867', '21013245', '22015445', '20001127', '22008346', '22012724', '23000445', '22005306', '21010347', '22018012', '23000177', '22018000', '22015532', '23000540', '21003218', '23000077', '22017419', '22012767', '23000029', '22016664', '22014873', '23000032', '22012142', '22012936', '22006050', '22017846', '23000053', '22012197', '22014844', '22008751', '21013135', '22001095', '21009109', '18002765', '21009108', '22013596', '22009042', '22011341', '22016445', '22016475', '22015487', '22006119', '22017502', '22016228', '23000526', '18008401', '22009178', '22017409', '22016556', '22004358', '18011706', '22003070', '19018168', '22000408', '22004749', '19000210', '22000534', '20004961', '21001539', '22017925', '22012982', '21001570', '18018388', '18008385', '21002426', '21001601', '21001270', '21003487', '21001649', '22002108', '22008956', '22013626']\n"
     ]
    }
   ],
   "source": [
    "goods_num_list = []\n",
    "\n",
    "for i in url :\n",
    "    goods_num = i.split('=')[1]\n",
    "    goods_num_list.append(goods_num)\n",
    "    \n",
    "print(f\"전시회 {len(url)} 개의 goods_num_list 입니다.\")\n",
    "\n",
    "print(goods_num_list)"
   ]
  },
  {
   "cell_type": "code",
   "execution_count": 8,
   "metadata": {},
   "outputs": [
    {
     "name": "stdout",
     "output_type": "stream",
     "text": [
      "전시회 105 개의 exhibition_url 입니다.\n",
      "['http://ticket.interpark.com/Ticket/Goods/GoodsInfo.asp?GoodsCode=22015433', 'http://ticket.interpark.com/Ticket/Goods/GoodsInfo.asp?GoodsCode=22012659', 'http://ticket.interpark.com/Ticket/Goods/GoodsInfo.asp?GoodsCode=23000216', 'http://ticket.interpark.com/Ticket/Goods/GoodsInfo.asp?GoodsCode=22015987', 'http://ticket.interpark.com/Ticket/Goods/GoodsInfo.asp?GoodsCode=22005831', 'http://ticket.interpark.com/Ticket/Goods/GoodsInfo.asp?GoodsCode=22012710', 'http://ticket.interpark.com/Ticket/Goods/GoodsInfo.asp?GoodsCode=22014814', 'http://ticket.interpark.com/Ticket/Goods/GoodsInfo.asp?GoodsCode=22017519', 'http://ticket.interpark.com/Ticket/Goods/GoodsInfo.asp?GoodsCode=22017160', 'http://ticket.interpark.com/Ticket/Goods/GoodsInfo.asp?GoodsCode=22015865', 'http://ticket.interpark.com/Ticket/Goods/GoodsInfo.asp?GoodsCode=22012718', 'http://ticket.interpark.com/Ticket/Goods/GoodsInfo.asp?GoodsCode=22015969', 'http://ticket.interpark.com/Ticket/Goods/GoodsInfo.asp?GoodsCode=22013829', 'http://ticket.interpark.com/Ticket/Goods/GoodsInfo.asp?GoodsCode=22012885', 'http://ticket.interpark.com/Ticket/Goods/GoodsInfo.asp?GoodsCode=22015362', 'http://ticket.interpark.com/Ticket/Goods/GoodsInfo.asp?GoodsCode=22013931', 'http://ticket.interpark.com/Ticket/Goods/GoodsInfo.asp?GoodsCode=22015911', 'http://ticket.interpark.com/Ticket/Goods/GoodsInfo.asp?GoodsCode=22015333', 'http://ticket.interpark.com/Ticket/Goods/GoodsInfo.asp?GoodsCode=22009615', 'http://ticket.interpark.com/Ticket/Goods/GoodsInfo.asp?GoodsCode=22017589', 'http://ticket.interpark.com/Ticket/Goods/GoodsInfo.asp?GoodsCode=22017744', 'http://ticket.interpark.com/Ticket/Goods/GoodsInfo.asp?GoodsCode=22006533', 'http://ticket.interpark.com/Ticket/Goods/GoodsInfo.asp?GoodsCode=22016001', 'http://ticket.interpark.com/Ticket/Goods/GoodsInfo.asp?GoodsCode=22017755', 'http://ticket.interpark.com/Ticket/Goods/GoodsInfo.asp?GoodsCode=22013275', 'http://ticket.interpark.com/Ticket/Goods/GoodsInfo.asp?GoodsCode=22013142', 'http://ticket.interpark.com/Ticket/Goods/GoodsInfo.asp?GoodsCode=21013073', 'http://ticket.interpark.com/Ticket/Goods/GoodsInfo.asp?GoodsCode=23000083', 'http://ticket.interpark.com/Ticket/Goods/GoodsInfo.asp?GoodsCode=22015883', 'http://ticket.interpark.com/Ticket/Goods/GoodsInfo.asp?GoodsCode=22018025', 'http://ticket.interpark.com/Ticket/Goods/GoodsInfo.asp?GoodsCode=22015885', 'http://ticket.interpark.com/Ticket/Goods/GoodsInfo.asp?GoodsCode=22017240', 'http://ticket.interpark.com/Ticket/Goods/GoodsInfo.asp?GoodsCode=16003063', 'http://ticket.interpark.com/Ticket/Goods/GoodsInfo.asp?GoodsCode=22007867', 'http://ticket.interpark.com/Ticket/Goods/GoodsInfo.asp?GoodsCode=21013245', 'http://ticket.interpark.com/Ticket/Goods/GoodsInfo.asp?GoodsCode=22015445', 'http://ticket.interpark.com/Ticket/Goods/GoodsInfo.asp?GoodsCode=20001127', 'http://ticket.interpark.com/Ticket/Goods/GoodsInfo.asp?GoodsCode=22008346', 'http://ticket.interpark.com/Ticket/Goods/GoodsInfo.asp?GoodsCode=22012724', 'http://ticket.interpark.com/Ticket/Goods/GoodsInfo.asp?GoodsCode=23000445', 'http://ticket.interpark.com/Ticket/Goods/GoodsInfo.asp?GoodsCode=22005306', 'http://ticket.interpark.com/Ticket/Goods/GoodsInfo.asp?GoodsCode=21010347', 'http://ticket.interpark.com/Ticket/Goods/GoodsInfo.asp?GoodsCode=22018012', 'http://ticket.interpark.com/Ticket/Goods/GoodsInfo.asp?GoodsCode=23000177', 'http://ticket.interpark.com/Ticket/Goods/GoodsInfo.asp?GoodsCode=22018000', 'http://ticket.interpark.com/Ticket/Goods/GoodsInfo.asp?GoodsCode=22015532', 'http://ticket.interpark.com/Ticket/Goods/GoodsInfo.asp?GoodsCode=23000540', 'http://ticket.interpark.com/Ticket/Goods/GoodsInfo.asp?GoodsCode=21003218', 'http://ticket.interpark.com/Ticket/Goods/GoodsInfo.asp?GoodsCode=23000077', 'http://ticket.interpark.com/Ticket/Goods/GoodsInfo.asp?GoodsCode=22017419', 'http://ticket.interpark.com/Ticket/Goods/GoodsInfo.asp?GoodsCode=22012767', 'http://ticket.interpark.com/Ticket/Goods/GoodsInfo.asp?GoodsCode=23000029', 'http://ticket.interpark.com/Ticket/Goods/GoodsInfo.asp?GoodsCode=22016664', 'http://ticket.interpark.com/Ticket/Goods/GoodsInfo.asp?GoodsCode=22014873', 'http://ticket.interpark.com/Ticket/Goods/GoodsInfo.asp?GoodsCode=23000032', 'http://ticket.interpark.com/Ticket/Goods/GoodsInfo.asp?GoodsCode=22012142', 'http://ticket.interpark.com/Ticket/Goods/GoodsInfo.asp?GoodsCode=22012936', 'http://ticket.interpark.com/Ticket/Goods/GoodsInfo.asp?GoodsCode=22006050', 'http://ticket.interpark.com/Ticket/Goods/GoodsInfo.asp?GoodsCode=22017846', 'http://ticket.interpark.com/Ticket/Goods/GoodsInfo.asp?GoodsCode=23000053', 'http://ticket.interpark.com/Ticket/Goods/GoodsInfo.asp?GoodsCode=22012197', 'http://ticket.interpark.com/Ticket/Goods/GoodsInfo.asp?GoodsCode=22014844', 'http://ticket.interpark.com/Ticket/Goods/GoodsInfo.asp?GoodsCode=22008751', 'http://ticket.interpark.com/Ticket/Goods/GoodsInfo.asp?GoodsCode=21013135', 'http://ticket.interpark.com/Ticket/Goods/GoodsInfo.asp?GoodsCode=22001095', 'http://ticket.interpark.com/Ticket/Goods/GoodsInfo.asp?GoodsCode=21009109', 'http://ticket.interpark.com/Ticket/Goods/GoodsInfo.asp?GoodsCode=18002765', 'http://ticket.interpark.com/Ticket/Goods/GoodsInfo.asp?GoodsCode=21009108', 'http://ticket.interpark.com/Ticket/Goods/GoodsInfo.asp?GoodsCode=22013596', 'http://ticket.interpark.com/Ticket/Goods/GoodsInfo.asp?GoodsCode=22009042', 'http://ticket.interpark.com/Ticket/Goods/GoodsInfo.asp?GoodsCode=22011341', 'http://ticket.interpark.com/Ticket/Goods/GoodsInfo.asp?GoodsCode=22016445', 'http://ticket.interpark.com/Ticket/Goods/GoodsInfo.asp?GoodsCode=22016475', 'http://ticket.interpark.com/Ticket/Goods/GoodsInfo.asp?GoodsCode=22015487', 'http://ticket.interpark.com/Ticket/Goods/GoodsInfo.asp?GoodsCode=22006119', 'http://ticket.interpark.com/Ticket/Goods/GoodsInfo.asp?GoodsCode=22017502', 'http://ticket.interpark.com/Ticket/Goods/GoodsInfo.asp?GoodsCode=22016228', 'http://ticket.interpark.com/Ticket/Goods/GoodsInfo.asp?GoodsCode=23000526', 'http://ticket.interpark.com/Ticket/Goods/GoodsInfo.asp?GoodsCode=18008401', 'http://ticket.interpark.com/Ticket/Goods/GoodsInfo.asp?GoodsCode=22009178', 'http://ticket.interpark.com/Ticket/Goods/GoodsInfo.asp?GoodsCode=22017409', 'http://ticket.interpark.com/Ticket/Goods/GoodsInfo.asp?GoodsCode=22016556', 'http://ticket.interpark.com/Ticket/Goods/GoodsInfo.asp?GoodsCode=22004358', 'http://ticket.interpark.com/Ticket/Goods/GoodsInfo.asp?GoodsCode=18011706', 'http://ticket.interpark.com/Ticket/Goods/GoodsInfo.asp?GoodsCode=22003070', 'http://ticket.interpark.com/Ticket/Goods/GoodsInfo.asp?GoodsCode=19018168', 'http://ticket.interpark.com/Ticket/Goods/GoodsInfo.asp?GoodsCode=22000408', 'http://ticket.interpark.com/Ticket/Goods/GoodsInfo.asp?GoodsCode=22004749', 'http://ticket.interpark.com/Ticket/Goods/GoodsInfo.asp?GoodsCode=19000210', 'http://ticket.interpark.com/Ticket/Goods/GoodsInfo.asp?GoodsCode=22000534', 'http://ticket.interpark.com/Ticket/Goods/GoodsInfo.asp?GoodsCode=20004961', 'http://ticket.interpark.com/Ticket/Goods/GoodsInfo.asp?GoodsCode=21001539', 'http://ticket.interpark.com/Ticket/Goods/GoodsInfo.asp?GoodsCode=22017925', 'http://ticket.interpark.com/Ticket/Goods/GoodsInfo.asp?GoodsCode=22012982', 'http://ticket.interpark.com/Ticket/Goods/GoodsInfo.asp?GoodsCode=21001570', 'http://ticket.interpark.com/Ticket/Goods/GoodsInfo.asp?GoodsCode=18018388', 'http://ticket.interpark.com/Ticket/Goods/GoodsInfo.asp?GoodsCode=18008385', 'http://ticket.interpark.com/Ticket/Goods/GoodsInfo.asp?GoodsCode=21002426', 'http://ticket.interpark.com/Ticket/Goods/GoodsInfo.asp?GoodsCode=21001601', 'http://ticket.interpark.com/Ticket/Goods/GoodsInfo.asp?GoodsCode=21001270', 'http://ticket.interpark.com/Ticket/Goods/GoodsInfo.asp?GoodsCode=21003487', 'http://ticket.interpark.com/Ticket/Goods/GoodsInfo.asp?GoodsCode=21001649', 'http://ticket.interpark.com/Ticket/Goods/GoodsInfo.asp?GoodsCode=22002108', 'http://ticket.interpark.com/Ticket/Goods/GoodsInfo.asp?GoodsCode=22008956', 'http://ticket.interpark.com/Ticket/Goods/GoodsInfo.asp?GoodsCode=22013626']\n"
     ]
    }
   ],
   "source": [
    "exhibition_url = []\n",
    "\n",
    "for i in goods_num_list :\n",
    "    exhibition_url.append(f'http://ticket.interpark.com/Ticket/Goods/GoodsInfo.asp?GoodsCode={i}')\n",
    "    \n",
    "print(f\"전시회 {len(exhibition_url)} 개의 exhibition_url 입니다.\")\n",
    "\n",
    "print(exhibition_url)"
   ]
  },
  {
   "attachments": {},
   "cell_type": "markdown",
   "metadata": {},
   "source": [
    "# 전시회 세부페이지"
   ]
  },
  {
   "cell_type": "code",
   "execution_count": 46,
   "metadata": {},
   "outputs": [],
   "source": [
    "\n",
    "# 이후 상세페이지 조회시 for문으로 접근하여 데이터 수집\n",
    "# 우선 한개만\n",
    "\n",
    "detail_url_1 = 'http://ticket.interpark.com/Ticket/Goods/GoodsInfo.asp?GoodsCode=22015433'\n",
    "\n",
    "request = requests.get(detail_url_1)\n",
    "\n",
    "driver.get(detail_url_1)\n"
   ]
  },
  {
   "cell_type": "code",
   "execution_count": 47,
   "metadata": {},
   "outputs": [],
   "source": [
    "try:\n",
    "    driver.find_element_by_xpath('//*[@id=\"popup-prdGuide\"]/div/div[3]/div/a').click()\n",
    "except:\n",
    "    pass"
   ]
  },
  {
   "cell_type": "code",
   "execution_count": 48,
   "metadata": {},
   "outputs": [],
   "source": [
    "# 접근한 페이지의 소스코드를 텍스트로 저장 (Str)\n",
    "page_text = driver.page_source\n",
    "\n",
    "# page_text를 html list로 변환 \n",
    "html = BeautifulSoup(page_text, 'html.parser')"
   ]
  },
  {
   "cell_type": "code",
   "execution_count": 49,
   "metadata": {},
   "outputs": [
    {
     "name": "stdout",
     "output_type": "stream",
     "text": [
      "합스부르크 600년, 매혹의 걸작들\n"
     ]
    }
   ],
   "source": [
    "# title\n",
    "\n",
    "title_1 = html.select_one('div.summaryTop > h2').text\n",
    "print(title_1)"
   ]
  },
  {
   "cell_type": "code",
   "execution_count": 50,
   "metadata": {},
   "outputs": [
    {
     "name": "stdout",
     "output_type": "stream",
     "text": [
      "국립중앙박물관 기획전시실\n"
     ]
    }
   ],
   "source": [
    "# Place\n",
    "#container > div.contents > div.productWrapper > div.productMain > div.productMainTop > div > div.summaryBody > ul > li:nth-child(1) > div > a\n",
    "\n",
    "place_1 = html.select_one('li:nth-child(1) > div > a').text\n",
    "place_1 = place_1.split('(')[0]\n",
    "print(place_1)"
   ]
  },
  {
   "cell_type": "code",
   "execution_count": 51,
   "metadata": {},
   "outputs": [
    {
     "name": "stdout",
     "output_type": "stream",
     "text": [
      "전체 기간: 2022.11.14 ~2023.03.01\n",
      "전시 시작일 : 2022.11.14\n",
      "전시 종료일 : 2023.03.01\n"
     ]
    }
   ],
   "source": [
    "# date\n",
    "#container > div.contents > div.productWrapper > div.productMain > div.productMainTop > div > div.summaryBody > ul > li:nth-child(2) > div > p\n",
    "\n",
    "date_1 = html.select_one('li:nth-child(2) > div > p').text\n",
    "print(f'전체 기간: {date_1}')\n",
    "\n",
    "startAt = date_1.split(' ~')[0]\n",
    "print(f'전시 시작일 : {startAt}')\n",
    "\n",
    "endAt = date_1.split(' ~')[1]\n",
    "print(f'전시 종료일 : {endAt}')\n"
   ]
  },
  {
   "cell_type": "code",
   "execution_count": 52,
   "metadata": {},
   "outputs": [
    {
     "name": "stdout",
     "output_type": "stream",
     "text": [
      "관람 가능 연령 : 전체관람가\n"
     ]
    }
   ],
   "source": [
    "# ageLimit\n",
    "#container > div.contents > div.productWrapper > div.productMain > div.productMainTop > div > div.summaryBody > ul > li:nth-child(4) > div > p\n",
    "\n",
    "ageLimit_1 = html.select_one('li:nth-child(4) > div > p').text\n",
    "print(f'관람 가능 연령 : {ageLimit_1}')\n"
   ]
  },
  {
   "cell_type": "code",
   "execution_count": 53,
   "metadata": {},
   "outputs": [
    {
     "name": "stdout",
     "output_type": "stream",
     "text": [
      "가격 : 17,500원\n"
     ]
    }
   ],
   "source": [
    "# price \n",
    "#container > div.contents > div.productWrapper > div.productMain > div.productMainTop > div > div.summaryBody > ul > li.infoItem.infoPrice > div > ul > li:nth-child(2) > span.price\n",
    "\n",
    "price_1 = html.select_one('li:nth-child(2) > span.price').text\n",
    "\n",
    "print(f'가격 : {price_1}')"
   ]
  },
  {
   "cell_type": "code",
   "execution_count": 54,
   "metadata": {},
   "outputs": [
    {
     "data": {
      "text/plain": [
       "'http://ticketimage.interpark.com/Play/image/large/22/22015433_p.gif'"
      ]
     },
     "execution_count": 54,
     "metadata": {},
     "output_type": "execute_result"
    }
   ],
   "source": [
    "# main_img\n",
    "#container > div.contents > div.productWrapper > div.productMain > div.productMainTop > div > div.summaryBody > div > div.posterBoxTop > img\n",
    "\n",
    "main_img_1 = html.select_one('div.posterBoxTop > img').attrs['src']\n",
    "main_img_1 = 'http:' + main_img_1\n",
    "\n",
    "main_img_1"
   ]
  },
  {
   "cell_type": "code",
   "execution_count": 62,
   "metadata": {},
   "outputs": [
    {
     "name": "stdout",
     "output_type": "stream",
     "text": [
      "male_statics : 22.1%\n",
      "female_statics : 77.9%\n"
     ]
    }
   ],
   "source": [
    "# male / female\n",
    "#productMainBody > div > div.content.prdStat > div > div.statGender > div.statGenderType.is-male > div.statGenderValue\n",
    "\n",
    "male_statics = html.select_one('div.statGender > div.statGenderType.is-male > div.statGenderValue').text\n",
    "female_statics = html.select_one('div.statGender > div.statGenderType.is-female > div.statGenderValue').text\n",
    "\n",
    "print(f'male_statics : {male_statics}')\n",
    "print(f'female_statics : {female_statics}')"
   ]
  },
  {
   "cell_type": "code",
   "execution_count": 77,
   "metadata": {},
   "outputs": [
    {
     "name": "stdout",
     "output_type": "stream",
     "text": [
      "10대 : 3.4%\n",
      "20대 : 24.5%\n",
      "30대 : 29.5%\n",
      "40대 : 25.7%\n",
      "50대 : 11.5%\n"
     ]
    }
   ],
   "source": [
    "# statAge\n",
    "#productMainBody > div > div.content.prdStat > div > div.statAge > div > div:nth-child(1) > div.statAgeName\n",
    "# statAge_Percent\n",
    "#productMainBody > div > div.content.prdStat > div > div.statAge > div > div:nth-child(1) > div.statAgePercent\n",
    "## 10대 / 20대 / 30대 / 40대 / 50대\n",
    "\n",
    "statAge_10 = html.select_one('div:nth-child(1) > div.statAgeName').text\n",
    "statAge_Percent_10 = html.select_one('div:nth-child(1) > div.statAgePercent').text\n",
    "\n",
    "statAge_20 = html.select_one('div:nth-child(2) > div.statAgeName').text\n",
    "statAge_Percent_20 = html.select_one('div:nth-child(2) > div.statAgePercent').text\n",
    "\n",
    "statAge_30 = html.select_one('div:nth-child(3) > div.statAgeName').text\n",
    "statAge_Percent_30 = html.select_one('div:nth-child(3) > div.statAgePercent').text\n",
    "\n",
    "statAge_40 = html.select_one('div:nth-child(4) > div.statAgeName').text\n",
    "statAge_Percent_40 = html.select_one('div:nth-child(4) > div.statAgePercent').text\n",
    "\n",
    "statAge_50 = html.select_one('div:nth-child(5) > div.statAgeName').text\n",
    "statAge_Percent_50 = html.select_one('div:nth-child(5) > div.statAgePercent').text\n",
    "\n",
    "\n",
    "print(f'{statAge_10} : {statAge_Percent_10}')\n",
    "print(f'{statAge_20} : {statAge_Percent_20}')\n",
    "print(f'{statAge_30} : {statAge_Percent_30}')\n",
    "print(f'{statAge_40} : {statAge_Percent_40}')\n",
    "print(f'{statAge_50} : {statAge_Percent_50}')"
   ]
  },
  {
   "attachments": {},
   "cell_type": "markdown",
   "metadata": {},
   "source": [
    "---"
   ]
  },
  {
   "attachments": {},
   "cell_type": "markdown",
   "metadata": {},
   "source": [
    "### 자동화"
   ]
  },
  {
   "attachments": {},
   "cell_type": "markdown",
   "metadata": {},
   "source": [
    "### 세부 메서드"
   ]
  },
  {
   "cell_type": "code",
   "execution_count": 18,
   "metadata": {},
   "outputs": [],
   "source": [
    "def get_exhibition_info(url) :\n",
    "        resp = requests.get(url)\n",
    "        driver.get (url)\n",
    "        driver.find_element_by_xpath('//*[@id=\"popup-prdGuide\"]/div/div[3]/div/a').click()\n",
    "        page_text = driver.page_source\n",
    "        html = BeautifulSoup(resp.text, 'html.parser')\n",
    "        return html, resp"
   ]
  },
  {
   "cell_type": "code",
   "execution_count": 19,
   "metadata": {},
   "outputs": [],
   "source": [
    "def get_exhibition_title(html) :\n",
    "    title = html.select_one('div.summaryTop > h2').text\n",
    "    return title"
   ]
  },
  {
   "cell_type": "code",
   "execution_count": 20,
   "metadata": {},
   "outputs": [],
   "source": [
    "def get_exhibition_place(html) :\n",
    "    place = html.select_one('li:nth-child(1) > div > a').text\n",
    "    place = place.split('(')[0]\n",
    "    return place"
   ]
  },
  {
   "cell_type": "code",
   "execution_count": 21,
   "metadata": {},
   "outputs": [],
   "source": [
    "def get_exhibition_date(html) :\n",
    "    date = html.select_one('li:nth-child(2) > div > p').text\n",
    "    startAt = date.split(' ~')[0]\n",
    "    endAt = date.split(' ~')[1]\n",
    "    return startAt, endAt"
   ]
  },
  {
   "cell_type": "code",
   "execution_count": 22,
   "metadata": {},
   "outputs": [],
   "source": [
    "def get_ageLimit(html) :\n",
    "    ageLimit = html.select_one('li:nth-child(4) > div > p').text\n",
    "    return ageLimit"
   ]
  },
  {
   "cell_type": "code",
   "execution_count": 23,
   "metadata": {},
   "outputs": [],
   "source": [
    "def get_price(html) :\n",
    "    price = html.select_one('li:nth-child(2) > span.price').text\n",
    "    return price"
   ]
  },
  {
   "cell_type": "code",
   "execution_count": 24,
   "metadata": {},
   "outputs": [],
   "source": [
    "def get_main_img(html) :\n",
    "    main_img = html.select_one('div.posterBoxTop > img').attrs['src']\n",
    "    main_img_url = 'http:' + main_img\n",
    "    return main_img_url"
   ]
  },
  {
   "attachments": {},
   "cell_type": "markdown",
   "metadata": {},
   "source": [
    "### 통합 메서드"
   ]
  },
  {
   "cell_type": "code",
   "execution_count": 110,
   "metadata": {},
   "outputs": [],
   "source": [
    "def get_crawling_exhibition_info(url):\n",
    "    \n",
    "    resp = requests.get(url)\n",
    "    \n",
    "    # print(f'resp : {resp}')\n",
    "    \n",
    "    driver.get (url)\n",
    "    \n",
    "    time.sleep(1)\n",
    "    \n",
    "    try:\n",
    "        driver.find_element_by_xpath('//*[@id=\"popup-prdGuide\"]/div/div[3]/div/a').click()\n",
    "    except:\n",
    "        pass\n",
    "    \n",
    "    page_text = driver.page_source\n",
    "    \n",
    "    # 접근한 페이지의 소스코드를 텍스트로 저장 (Str)\n",
    "    page_text = driver.page_source\n",
    "\n",
    "    # page_text를 html list로 변환 \n",
    "    html = BeautifulSoup(page_text, 'html.parser')\n",
    "    \n",
    "    # print(f'html : \\n {html}')\n",
    "    \n",
    "    title = html.select_one('div.summaryTop > h2').text\n",
    "    \n",
    "    # get title\n",
    "    title = html.select_one('div.summaryTop > h2').text\n",
    "    \n",
    "    # get place name\n",
    "    place = html.select_one('li:nth-child(1) > div > a').text\n",
    "    place = place.split('(')[0]\n",
    "    \n",
    "    # get date (startAt, endAt)\n",
    "    date = html.select_one('li:nth-child(2) > div > p').text\n",
    "    startAt = date.split(' ~')[0]\n",
    "    endAt = date.split(' ~')[1]\n",
    "    \n",
    "    # get ageLimit\n",
    "    # li:nth-child(4) > div > p \n",
    "    # or li:nth-child(3) > div > p\n",
    "    try:\n",
    "        ageLimit = html.select_one('li:nth-child(4) > div > p').text\n",
    "    except:\n",
    "        ageLimit = html.select_one('li:nth-child(3) > div > p').text\n",
    "    \n",
    "    # get price\n",
    "    try:\n",
    "        price = html.select_one('li:nth-child(2) > span.price').text\n",
    "    except:\n",
    "        price = '가격 정보 없음'\n",
    "    \n",
    "    # get main_img_url\n",
    "    main_img = html.select_one('div.posterBoxTop > img').attrs['src']\n",
    "    main_img_url = 'http:' + main_img\n",
    "    \n",
    "    # get statGender\n",
    "    try:    \n",
    "        statMale = html.select_one('div.statGender > div.statGenderType.is-male > div.statGenderValue').text\n",
    "        statFemale = html.select_one('div.statGender > div.statGenderType.is-female > div.statGenderValue').text\n",
    "    except:\n",
    "        statMale = '통계 정보 없음'\n",
    "        statFemale = '통계 정보 없음'\n",
    "    \n",
    "    # get statAge\n",
    "    try:\n",
    "        statAge_Percent_10 = html.select_one('div:nth-child(1) > div.statAgePercent').text\n",
    "        statAge_Percent_20 = html.select_one('div:nth-child(2) > div.statAgePercent').text\n",
    "        statAge_Percent_30 = html.select_one('div:nth-child(3) > div.statAgePercent').text\n",
    "        statAge_Percent_40 = html.select_one('div:nth-child(4) > div.statAgePercent').text\n",
    "        statAge_Percent_50 = html.select_one('div:nth-child(5) > div.statAgePercent').text\n",
    "    except:\n",
    "        statAge_Percent_10 = '통계 정보 없음'\n",
    "        statAge_Percent_20 = '통계 정보 없음'\n",
    "        statAge_Percent_30 = '통계 정보 없음'\n",
    "        statAge_Percent_40 = '통계 정보 없음'\n",
    "        statAge_Percent_50 = '통계 정보 없음'\n",
    "    \n",
    "    \n",
    "    # append\n",
    "    title_list.append(title)\n",
    "    place_list.append(place)\n",
    "    startAt_list.append(startAt)\n",
    "    endAt_list.append(endAt)\n",
    "    ageLimit_list.append(ageLimit)\n",
    "    price_list.append(price)\n",
    "    main_img_url_list.append(main_img_url)\n",
    "    \n",
    "    statMale_list.append(statMale)\n",
    "    statFemale_list.append(statFemale)\n",
    "    \n",
    "    statAge_Percent_10_list.append(statAge_Percent_10)\n",
    "    statAge_Percent_20_list.append(statAge_Percent_20)\n",
    "    statAge_Percent_30_list.append(statAge_Percent_30)\n",
    "    statAge_Percent_40_list.append(statAge_Percent_40)\n",
    "    statAge_Percent_50_list.append(statAge_Percent_50)\n",
    "    "
   ]
  },
  {
   "cell_type": "code",
   "execution_count": 114,
   "metadata": {},
   "outputs": [],
   "source": [
    "def get_DataFrame():\n",
    "    data = {\n",
    "        'title' : title_list,\n",
    "        'place' : place_list,\n",
    "        'startAt' : startAt_list,\n",
    "        'endAt' : endAt_list,\n",
    "        'price' : price_list,\n",
    "        'ageLimit' : ageLimit_list,\n",
    "        'main_img_url' : main_img_url_list,\n",
    "        'statMale' : statMale_list,\n",
    "        'statFemale' : statFemale_list,\n",
    "        'statAge_10' : statAge_Percent_10_list,\n",
    "        'statAge_20' : statAge_Percent_20_list,\n",
    "        'statAge_30' : statAge_Percent_30_list,\n",
    "        'statAge_40' : statAge_Percent_40_list,\n",
    "        'statAge_50' : statAge_Percent_50_list,\n",
    "        }\n",
    "\n",
    "    df = pd.DataFrame(data)\n",
    "    \n",
    "    return df"
   ]
  },
  {
   "cell_type": "code",
   "execution_count": 112,
   "metadata": {},
   "outputs": [
    {
     "name": "stderr",
     "output_type": "stream",
     "text": [
      "100%|██████████| 105/105 [09:03<00:00,  5.18s/it]\n"
     ]
    },
    {
     "name": "stdout",
     "output_type": "stream",
     "text": [
      "Done Processing\n"
     ]
    }
   ],
   "source": [
    "# title\n",
    "title_list = []\n",
    "\n",
    "# place\n",
    "place_list = []\n",
    "\n",
    "# date\n",
    "startAt_list = []\n",
    "endAt_list = []\n",
    "\n",
    "# price\n",
    "price_list = []\n",
    "\n",
    "# ageLimit\n",
    "ageLimit_list = []\n",
    "\n",
    "# main_img\n",
    "main_img_url_list = []\n",
    "\n",
    "# statGender\n",
    "statMale_list = []\n",
    "statFemale_list = []\n",
    "\n",
    "# statAge\n",
    "statAge_Percent_10_list = []\n",
    "statAge_Percent_20_list = []\n",
    "statAge_Percent_30_list = []\n",
    "statAge_Percent_40_list = []\n",
    "statAge_Percent_50_list = []\n",
    "\n",
    "\n",
    "driver = webdriver.Chrome('../../chromedriver')\n",
    "try:\n",
    "    for idx, url in enumerate(tqdm(exhibition_url)) :\n",
    "        # print(f'{idx} 번째 URL Img : {url}')\n",
    "        get_crawling_exhibition_info(url)\n",
    "        time.sleep(3)\n",
    "        \n",
    "    driver.close()\n",
    "    print('Done Processing')\n",
    "except:\n",
    "    driver.close()\n",
    "    print('Error')"
   ]
  },
  {
   "cell_type": "code",
   "execution_count": 115,
   "metadata": {},
   "outputs": [
    {
     "data": {
      "text/html": [
       "<div>\n",
       "<style scoped>\n",
       "    .dataframe tbody tr th:only-of-type {\n",
       "        vertical-align: middle;\n",
       "    }\n",
       "\n",
       "    .dataframe tbody tr th {\n",
       "        vertical-align: top;\n",
       "    }\n",
       "\n",
       "    .dataframe thead th {\n",
       "        text-align: right;\n",
       "    }\n",
       "</style>\n",
       "<table border=\"1\" class=\"dataframe\">\n",
       "  <thead>\n",
       "    <tr style=\"text-align: right;\">\n",
       "      <th></th>\n",
       "      <th>title</th>\n",
       "      <th>place</th>\n",
       "      <th>startAt</th>\n",
       "      <th>endAt</th>\n",
       "      <th>price</th>\n",
       "      <th>ageLimit</th>\n",
       "      <th>main_img_url</th>\n",
       "      <th>statMale</th>\n",
       "      <th>statFemale</th>\n",
       "      <th>statAge_10</th>\n",
       "      <th>statAge_20</th>\n",
       "      <th>statAge_30</th>\n",
       "      <th>statAge_40</th>\n",
       "      <th>statAge_50</th>\n",
       "    </tr>\n",
       "  </thead>\n",
       "  <tbody>\n",
       "    <tr>\n",
       "      <th>0</th>\n",
       "      <td>합스부르크 600년, 매혹의 걸작들</td>\n",
       "      <td>국립중앙박물관 기획전시실</td>\n",
       "      <td>2022.11.14</td>\n",
       "      <td>2023.03.01</td>\n",
       "      <td>17,500원</td>\n",
       "      <td>전체관람가</td>\n",
       "      <td>http://ticketimage.interpark.com/Play/image/la...</td>\n",
       "      <td>22%</td>\n",
       "      <td>78%</td>\n",
       "      <td>3.4%</td>\n",
       "      <td>24.5%</td>\n",
       "      <td>29.5%</td>\n",
       "      <td>25.8%</td>\n",
       "      <td>11.5%</td>\n",
       "    </tr>\n",
       "    <tr>\n",
       "      <th>1</th>\n",
       "      <td>［전시 연장］장 줄리앙</td>\n",
       "      <td>DDP 뮤지엄 지하2층 전시1관</td>\n",
       "      <td>2022.10.01</td>\n",
       "      <td>2023.01.24</td>\n",
       "      <td>20,000원</td>\n",
       "      <td>전체관람가</td>\n",
       "      <td>http://ticketimage.interpark.com/Play/image/la...</td>\n",
       "      <td>20.7%</td>\n",
       "      <td>79.3%</td>\n",
       "      <td>3.2%</td>\n",
       "      <td>32.9%</td>\n",
       "      <td>33.7%</td>\n",
       "      <td>25.9%</td>\n",
       "      <td>3.9%</td>\n",
       "    </tr>\n",
       "    <tr>\n",
       "      <th>2</th>\n",
       "      <td>［얼리버드］다비드 자맹: 프로방스에서 온 댄디보이</td>\n",
       "      <td>더현대서울</td>\n",
       "      <td>2023.02.04</td>\n",
       "      <td>2023.03.31</td>\n",
       "      <td>10,000원</td>\n",
       "      <td>전체관람가</td>\n",
       "      <td>http://ticketimage.interpark.com/Play/image/la...</td>\n",
       "      <td>17.2%</td>\n",
       "      <td>82.8%</td>\n",
       "      <td>0.8%</td>\n",
       "      <td>17.7%</td>\n",
       "      <td>36.4%</td>\n",
       "      <td>26.4%</td>\n",
       "      <td>14%</td>\n",
       "    </tr>\n",
       "    <tr>\n",
       "      <th>3</th>\n",
       "      <td>Ohnim(송민호) Solo Exhibition</td>\n",
       "      <td>StART PLUS</td>\n",
       "      <td>2022.12.16</td>\n",
       "      <td>2023.02.05</td>\n",
       "      <td>15,000원</td>\n",
       "      <td>전체관람가</td>\n",
       "      <td>http://ticketimage.interpark.com/Play/image/la...</td>\n",
       "      <td>24.6%</td>\n",
       "      <td>75.4%</td>\n",
       "      <td>12.2%</td>\n",
       "      <td>57.6%</td>\n",
       "      <td>19.7%</td>\n",
       "      <td>8.3%</td>\n",
       "      <td>1.9%</td>\n",
       "    </tr>\n",
       "    <tr>\n",
       "      <th>4</th>\n",
       "      <td>［서울/용산］에바 알머슨 특별전：Andando</td>\n",
       "      <td>용산전쟁기념관 기획전시실</td>\n",
       "      <td>2022.05.13</td>\n",
       "      <td>2023.03.12</td>\n",
       "      <td>20,000원</td>\n",
       "      <td>전체관람가</td>\n",
       "      <td>http://ticketimage.interpark.com/Play/image/la...</td>\n",
       "      <td>14.8%</td>\n",
       "      <td>85.2%</td>\n",
       "      <td>0.6%</td>\n",
       "      <td>9.9%</td>\n",
       "      <td>31.2%</td>\n",
       "      <td>40.3%</td>\n",
       "      <td>15.6%</td>\n",
       "    </tr>\n",
       "    <tr>\n",
       "      <th>...</th>\n",
       "      <td>...</td>\n",
       "      <td>...</td>\n",
       "      <td>...</td>\n",
       "      <td>...</td>\n",
       "      <td>...</td>\n",
       "      <td>...</td>\n",
       "      <td>...</td>\n",
       "      <td>...</td>\n",
       "      <td>...</td>\n",
       "      <td>...</td>\n",
       "      <td>...</td>\n",
       "      <td>...</td>\n",
       "      <td>...</td>\n",
       "      <td>...</td>\n",
       "    </tr>\n",
       "    <tr>\n",
       "      <th>100</th>\n",
       "      <td>피규어뮤지엄w 할인 티켓</td>\n",
       "      <td>피규어뮤지엄W</td>\n",
       "      <td>2021.04.27</td>\n",
       "      <td>2025.04.22</td>\n",
       "      <td>가격 정보 없음</td>\n",
       "      <td>전체관람가</td>\n",
       "      <td>http://ticketimage.interpark.com/Play/image/la...</td>\n",
       "      <td>100%</td>\n",
       "      <td>0%</td>\n",
       "      <td>0%</td>\n",
       "      <td>100%</td>\n",
       "      <td>0%</td>\n",
       "      <td>0%</td>\n",
       "      <td>0%</td>\n",
       "    </tr>\n",
       "    <tr>\n",
       "      <th>101</th>\n",
       "      <td>헤이리 파주공룡박물관</td>\n",
       "      <td>헤이리 파주공룡박물관</td>\n",
       "      <td>2021.03.08</td>\n",
       "      <td>2023.03.31</td>\n",
       "      <td>6,500원</td>\n",
       "      <td>전체관람가</td>\n",
       "      <td>http://ticketimage.interpark.com/Play/image/la...</td>\n",
       "      <td>29.2%</td>\n",
       "      <td>70.8%</td>\n",
       "      <td>8.3%</td>\n",
       "      <td>4.2%</td>\n",
       "      <td>50%</td>\n",
       "      <td>37.5%</td>\n",
       "      <td>0%</td>\n",
       "    </tr>\n",
       "    <tr>\n",
       "      <th>102</th>\n",
       "      <td>후지시로 세이지 북촌스페이스</td>\n",
       "      <td>후지시로 세이지 북촌스페이스</td>\n",
       "      <td>2022.03.04</td>\n",
       "      <td>2023.02.28</td>\n",
       "      <td>10,000원</td>\n",
       "      <td>전체관람가</td>\n",
       "      <td>http://ticketimage.interpark.com/Play/image/la...</td>\n",
       "      <td>17%</td>\n",
       "      <td>83%</td>\n",
       "      <td>2.3%</td>\n",
       "      <td>28.8%</td>\n",
       "      <td>33.9%</td>\n",
       "      <td>25%</td>\n",
       "      <td>9%</td>\n",
       "    </tr>\n",
       "    <tr>\n",
       "      <th>103</th>\n",
       "      <td>Flower in winter</td>\n",
       "      <td>네이처랩스</td>\n",
       "      <td>2022.07.19</td>\n",
       "      <td>2023.02.28</td>\n",
       "      <td>18,000원</td>\n",
       "      <td>전체관람가</td>\n",
       "      <td>http://ticketimage.interpark.com/Play/image/la...</td>\n",
       "      <td>23%</td>\n",
       "      <td>77%</td>\n",
       "      <td>21.3%</td>\n",
       "      <td>47.2%</td>\n",
       "      <td>18.4%</td>\n",
       "      <td>10.4%</td>\n",
       "      <td>2.2%</td>\n",
       "    </tr>\n",
       "    <tr>\n",
       "      <th>104</th>\n",
       "      <td>Time After Time</td>\n",
       "      <td>경주 코오롱호텔</td>\n",
       "      <td>2022.11.01</td>\n",
       "      <td>2023.09.30</td>\n",
       "      <td>15,000원</td>\n",
       "      <td>전체관람가</td>\n",
       "      <td>http://ticketimage.interpark.com/Play/image/la...</td>\n",
       "      <td>66.7%</td>\n",
       "      <td>33.3%</td>\n",
       "      <td>0%</td>\n",
       "      <td>33.3%</td>\n",
       "      <td>66.7%</td>\n",
       "      <td>0%</td>\n",
       "      <td>0%</td>\n",
       "    </tr>\n",
       "  </tbody>\n",
       "</table>\n",
       "<p>105 rows × 14 columns</p>\n",
       "</div>"
      ],
      "text/plain": [
       "                           title              place     startAt       endAt  \\\n",
       "0            합스부르크 600년, 매혹의 걸작들      국립중앙박물관 기획전시실  2022.11.14  2023.03.01   \n",
       "1                   ［전시 연장］장 줄리앙  DDP 뮤지엄 지하2층 전시1관  2022.10.01  2023.01.24   \n",
       "2    ［얼리버드］다비드 자맹: 프로방스에서 온 댄디보이              더현대서울  2023.02.04  2023.03.31   \n",
       "3     Ohnim(송민호) Solo Exhibition         StART PLUS  2022.12.16  2023.02.05   \n",
       "4      ［서울/용산］에바 알머슨 특별전：Andando      용산전쟁기념관 기획전시실  2022.05.13  2023.03.12   \n",
       "..                           ...                ...         ...         ...   \n",
       "100                피규어뮤지엄w 할인 티켓            피규어뮤지엄W  2021.04.27  2025.04.22   \n",
       "101                  헤이리 파주공룡박물관        헤이리 파주공룡박물관  2021.03.08  2023.03.31   \n",
       "102              후지시로 세이지 북촌스페이스    후지시로 세이지 북촌스페이스  2022.03.04  2023.02.28   \n",
       "103             Flower in winter              네이처랩스  2022.07.19  2023.02.28   \n",
       "104              Time After Time           경주 코오롱호텔  2022.11.01  2023.09.30   \n",
       "\n",
       "        price ageLimit                                       main_img_url  \\\n",
       "0     17,500원    전체관람가  http://ticketimage.interpark.com/Play/image/la...   \n",
       "1     20,000원    전체관람가  http://ticketimage.interpark.com/Play/image/la...   \n",
       "2     10,000원    전체관람가  http://ticketimage.interpark.com/Play/image/la...   \n",
       "3     15,000원    전체관람가  http://ticketimage.interpark.com/Play/image/la...   \n",
       "4     20,000원    전체관람가  http://ticketimage.interpark.com/Play/image/la...   \n",
       "..        ...      ...                                                ...   \n",
       "100  가격 정보 없음    전체관람가  http://ticketimage.interpark.com/Play/image/la...   \n",
       "101    6,500원    전체관람가  http://ticketimage.interpark.com/Play/image/la...   \n",
       "102   10,000원    전체관람가  http://ticketimage.interpark.com/Play/image/la...   \n",
       "103   18,000원    전체관람가  http://ticketimage.interpark.com/Play/image/la...   \n",
       "104   15,000원    전체관람가  http://ticketimage.interpark.com/Play/image/la...   \n",
       "\n",
       "    statMale statFemale statAge_10 statAge_20 statAge_30 statAge_40 statAge_50  \n",
       "0        22%        78%       3.4%      24.5%      29.5%      25.8%      11.5%  \n",
       "1      20.7%      79.3%       3.2%      32.9%      33.7%      25.9%       3.9%  \n",
       "2      17.2%      82.8%       0.8%      17.7%      36.4%      26.4%        14%  \n",
       "3      24.6%      75.4%      12.2%      57.6%      19.7%       8.3%       1.9%  \n",
       "4      14.8%      85.2%       0.6%       9.9%      31.2%      40.3%      15.6%  \n",
       "..       ...        ...        ...        ...        ...        ...        ...  \n",
       "100     100%         0%         0%       100%         0%         0%         0%  \n",
       "101    29.2%      70.8%       8.3%       4.2%        50%      37.5%         0%  \n",
       "102      17%        83%       2.3%      28.8%      33.9%        25%         9%  \n",
       "103      23%        77%      21.3%      47.2%      18.4%      10.4%       2.2%  \n",
       "104    66.7%      33.3%         0%      33.3%      66.7%         0%         0%  \n",
       "\n",
       "[105 rows x 14 columns]"
      ]
     },
     "execution_count": 115,
     "metadata": {},
     "output_type": "execute_result"
    }
   ],
   "source": [
    "get_DataFrame()"
   ]
  },
  {
   "cell_type": "code",
   "execution_count": 45,
   "metadata": {},
   "outputs": [
    {
     "name": "stdout",
     "output_type": "stream",
     "text": [
      "0 번째 url : http://ticketimage.interpark.com/Play/image/large/22/22015433_p.gif\n",
      "1 번째 url : http://ticketimage.interpark.com/Play/image/large/22/22012659_p.gif\n",
      "2 번째 url : http://ticketimage.interpark.com/Play/image/large/23/23000216_p.gif\n",
      "3 번째 url : http://ticketimage.interpark.com/Play/image/large/22/22015987_p.gif\n",
      "4 번째 url : http://ticketimage.interpark.com/Play/image/large/22/22005831_p.gif\n",
      "5 번째 url : http://ticketimage.interpark.com/Play/image/large/22/22012710_p.gif\n",
      "6 번째 url : http://ticketimage.interpark.com/Play/image/large/22/22014814_p.gif\n",
      "7 번째 url : http://ticketimage.interpark.com/Play/image/large/22/22017519_p.gif\n",
      "8 번째 url : http://ticketimage.interpark.com/Play/image/large/22/22017160_p.gif\n",
      "9 번째 url : http://ticketimage.interpark.com/Play/image/large/22/22015865_p.gif\n",
      "10 번째 url : http://ticketimage.interpark.com/Play/image/large/22/22012718_p.gif\n",
      "11 번째 url : http://ticketimage.interpark.com/Play/image/large/22/22015969_p.gif\n",
      "12 번째 url : http://ticketimage.interpark.com/Play/image/large/22/22013829_p.gif\n",
      "13 번째 url : http://ticketimage.interpark.com/Play/image/large/22/22012885_p.gif\n",
      "14 번째 url : http://ticketimage.interpark.com/Play/image/large/22/22015362_p.gif\n",
      "15 번째 url : http://ticketimage.interpark.com/Play/image/large/22/22013931_p.gif\n",
      "16 번째 url : http://ticketimage.interpark.com/Play/image/large/22/22015911_p.gif\n",
      "17 번째 url : http://ticketimage.interpark.com/Play/image/large/22/22015333_p.gif\n",
      "18 번째 url : http://ticketimage.interpark.com/Play/image/large/22/22009615_p.gif\n",
      "19 번째 url : http://ticketimage.interpark.com/Play/image/large/22/22017589_p.gif\n",
      "20 번째 url : http://ticketimage.interpark.com/Play/image/large/22/22017744_p.gif\n",
      "21 번째 url : http://ticketimage.interpark.com/Play/image/large/22/22006533_p.gif\n",
      "22 번째 url : http://ticketimage.interpark.com/Play/image/large/22/22016001_p.gif\n",
      "23 번째 url : http://ticketimage.interpark.com/Play/image/large/22/22017755_p.gif\n",
      "24 번째 url : http://ticketimage.interpark.com/Play/image/large/22/22013275_p.gif\n",
      "25 번째 url : http://ticketimage.interpark.com/Play/image/large/22/22013142_p.gif\n",
      "26 번째 url : http://ticketimage.interpark.com/Play/image/large/21/21013073_p.gif\n",
      "27 번째 url : http://ticketimage.interpark.com/Play/image/large/23/23000083_p.gif\n",
      "28 번째 url : http://ticketimage.interpark.com/Play/image/large/22/22015883_p.gif\n",
      "29 번째 url : http://ticketimage.interpark.com/Play/image/large/22/22018025_p.gif\n",
      "30 번째 url : http://ticketimage.interpark.com/Play/image/large/22/22015885_p.gif\n",
      "31 번째 url : http://ticketimage.interpark.com/Play/image/large/22/22017240_p.gif\n",
      "32 번째 url : http://ticketimage.interpark.com/Play/image/large/16/16003063_p.gif\n",
      "33 번째 url : http://ticketimage.interpark.com/Play/image/large/22/22007867_p.gif\n",
      "34 번째 url : http://ticketimage.interpark.com/Play/image/large/21/21013245_p.gif\n",
      "35 번째 url : http://ticketimage.interpark.com/Play/image/large/22/22015445_p.gif\n",
      "36 번째 url : http://ticketimage.interpark.com/Play/image/large/20/20001127_p.gif\n",
      "37 번째 url : http://ticketimage.interpark.com/Play/image/large/22/22008346_p.gif\n",
      "38 번째 url : http://ticketimage.interpark.com/Play/image/large/22/22012724_p.gif\n",
      "39 번째 url : http://ticketimage.interpark.com/Play/image/large/23/23000445_p.gif\n",
      "40 번째 url : http://ticketimage.interpark.com/Play/image/large/22/22005306_p.gif\n",
      "41 번째 url : http://ticketimage.interpark.com/Play/image/large/21/21010347_p.gif\n",
      "42 번째 url : http://ticketimage.interpark.com/Play/image/large/22/22018012_p.gif\n",
      "43 번째 url : http://ticketimage.interpark.com/Play/image/large/23/23000177_p.gif\n",
      "44 번째 url : http://ticketimage.interpark.com/Play/image/large/22/22018000_p.gif\n",
      "45 번째 url : http://ticketimage.interpark.com/Play/image/large/22/22015532_p.gif\n",
      "46 번째 url : http://ticketimage.interpark.com/Play/image/large/23/23000540_p.gif\n",
      "47 번째 url : http://ticketimage.interpark.com/Play/image/large/21/21003218_p.gif\n",
      "48 번째 url : http://ticketimage.interpark.com/Play/image/large/23/23000077_p.gif\n",
      "49 번째 url : http://ticketimage.interpark.com/Play/image/large/22/22017419_p.gif\n",
      "50 번째 url : http://ticketimage.interpark.com/Play/image/large/22/22012767_p.gif\n",
      "51 번째 url : http://ticketimage.interpark.com/Play/image/large/23/23000029_p.gif\n",
      "52 번째 url : http://ticketimage.interpark.com/Play/image/large/22/22016664_p.gif\n",
      "53 번째 url : http://ticketimage.interpark.com/Play/image/large/22/22014873_p.gif\n",
      "54 번째 url : http://ticketimage.interpark.com/Play/image/large/23/23000032_p.gif\n",
      "55 번째 url : http://ticketimage.interpark.com/Play/image/large/22/22012142_p.gif\n",
      "56 번째 url : http://ticketimage.interpark.com/Play/image/large/22/22012936_p.gif\n",
      "57 번째 url : http://ticketimage.interpark.com/Play/image/large/22/22006050_p.gif\n",
      "58 번째 url : http://ticketimage.interpark.com/Play/image/large/22/22017846_p.gif\n",
      "59 번째 url : http://ticketimage.interpark.com/Play/image/large/23/23000053_p.gif\n",
      "60 번째 url : http://ticketimage.interpark.com/Play/image/large/22/22012197_p.gif\n",
      "61 번째 url : http://ticketimage.interpark.com/Play/image/large/22/22014844_p.gif\n",
      "62 번째 url : http://ticketimage.interpark.com/Play/image/large/22/22008751_p.gif\n",
      "63 번째 url : http://ticketimage.interpark.com/Play/image/large/21/21013135_p.gif\n",
      "64 번째 url : http://ticketimage.interpark.com/Play/image/large/22/22001095_p.gif\n",
      "65 번째 url : http://ticketimage.interpark.com/Play/image/large/21/21009109_p.gif\n",
      "66 번째 url : http://ticketimage.interpark.com/Play/image/large/18/18002765_p.gif\n",
      "67 번째 url : http://ticketimage.interpark.com/Play/image/large/21/21009108_p.gif\n",
      "68 번째 url : http://ticketimage.interpark.com/Play/image/large/22/22013596_p.gif\n",
      "69 번째 url : http://ticketimage.interpark.com/Play/image/large/22/22009042_p.gif\n",
      "70 번째 url : http://ticketimage.interpark.com/Play/image/large/22/22011341_p.gif\n",
      "71 번째 url : http://ticketimage.interpark.com/Play/image/large/22/22016445_p.gif\n",
      "72 번째 url : http://ticketimage.interpark.com/Play/image/large/22/22016475_p.gif\n",
      "73 번째 url : http://ticketimage.interpark.com/Play/image/large/22/22015487_p.gif\n",
      "74 번째 url : http://ticketimage.interpark.com/Play/image/large/22/22006119_p.gif\n",
      "75 번째 url : http://ticketimage.interpark.com/Play/image/large/22/22017502_p.gif\n",
      "76 번째 url : http://ticketimage.interpark.com/Play/image/large/22/22016228_p.gif\n",
      "77 번째 url : http://ticketimage.interpark.com/Play/image/large/23/23000526_p.gif\n",
      "78 번째 url : http://ticketimage.interpark.com/Play/image/large/18/18008401_p.gif\n",
      "79 번째 url : http://ticketimage.interpark.com/Play/image/large/22/22009178_p.gif\n",
      "80 번째 url : http://ticketimage.interpark.com/Play/image/large/22/22017409_p.gif\n",
      "81 번째 url : http://ticketimage.interpark.com/Play/image/large/22/22016556_p.gif\n",
      "82 번째 url : http://ticketimage.interpark.com/Play/image/large/22/22004358_p.gif\n",
      "83 번째 url : http://ticketimage.interpark.com/Play/image/large/18/18011706_p.gif\n",
      "84 번째 url : http://ticketimage.interpark.com/Play/image/large/22/22003070_p.gif\n",
      "85 번째 url : http://ticketimage.interpark.com/Play/image/large/19/19018168_p.gif\n",
      "86 번째 url : http://ticketimage.interpark.com/Play/image/large/22/22000408_p.gif\n",
      "87 번째 url : http://ticketimage.interpark.com/Play/image/large/22/22004749_p.gif\n",
      "88 번째 url : http://ticketimage.interpark.com/Play/image/large/19/19000210_p.gif\n",
      "89 번째 url : http://ticketimage.interpark.com/Play/image/large/22/22000534_p.gif\n",
      "90 번째 url : http://ticketimage.interpark.com/Play/image/large/20/20004961_p.gif\n",
      "91 번째 url : http://ticketimage.interpark.com/Play/image/large/21/21001539_p.gif\n",
      "92 번째 url : http://ticketimage.interpark.com/Play/image/large/22/22017925_p.gif\n",
      "93 번째 url : http://ticketimage.interpark.com/Play/image/large/22/22012982_p.gif\n",
      "94 번째 url : http://ticketimage.interpark.com/Play/image/large/21/21001570_p.gif\n",
      "95 번째 url : http://ticketimage.interpark.com/Play/image/large/18/18018388_p.gif\n",
      "96 번째 url : http://ticketimage.interpark.com/Play/image/large/18/18008385_p.gif\n",
      "97 번째 url : http://ticketimage.interpark.com/Play/image/large/21/21002426_p.gif\n",
      "98 번째 url : http://ticketimage.interpark.com/Play/image/large/21/21001601_p.gif\n",
      "99 번째 url : http://ticketimage.interpark.com/Play/image/large/21/21001270_p.gif\n",
      "100 번째 url : http://ticketimage.interpark.com/Play/image/large/21/21003487_p.gif\n",
      "101 번째 url : http://ticketimage.interpark.com/Play/image/large/21/21001649_p.gif\n",
      "102 번째 url : http://ticketimage.interpark.com/Play/image/large/22/22002108_p.gif\n",
      "103 번째 url : http://ticketimage.interpark.com/Play/image/large/22/22008956_p.gif\n",
      "104 번째 url : http://ticketimage.interpark.com/Play/image/large/22/22013626_p.gif\n"
     ]
    }
   ],
   "source": [
    "### 크롤링한 image url 을 이용하여 이미지 저장\n",
    "\n",
    "for idx, url in enumerate(main_img_url_list) :\n",
    "    print(f'{idx} 번째 url : {url}')\n",
    "    urlretrieve(url, f'./img/{idx}.jpg')\n",
    "    time.sleep(3)"
   ]
  },
  {
   "cell_type": "code",
   "execution_count": null,
   "metadata": {},
   "outputs": [],
   "source": [
    "df.to_csv('exhibition.csv', index=False, encoding='utf-8-sig')"
   ]
  },
  {
   "attachments": {},
   "cell_type": "markdown",
   "metadata": {},
   "source": [
    "---"
   ]
  }
 ],
 "metadata": {
  "kernelspec": {
   "display_name": "mume",
   "language": "python",
   "name": "python3"
  },
  "language_info": {
   "codemirror_mode": {
    "name": "ipython",
    "version": 3
   },
   "file_extension": ".py",
   "mimetype": "text/x-python",
   "name": "python",
   "nbconvert_exporter": "python",
   "pygments_lexer": "ipython3",
   "version": "3.8.15 (default, Nov 24 2022, 09:04:07) \n[Clang 14.0.6 ]"
  },
  "orig_nbformat": 4,
  "vscode": {
   "interpreter": {
    "hash": "1de4d2b8119a5b668e6c3712f88e66cada3e0604da4dcc3ccef75a084703d294"
   }
  }
 },
 "nbformat": 4,
 "nbformat_minor": 2
}
