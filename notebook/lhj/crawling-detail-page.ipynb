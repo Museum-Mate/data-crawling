{
 "cells": [
  {
   "cell_type": "code",
   "execution_count": null,
   "metadata": {},
   "outputs": [],
   "source": [
    "import numpy as np\n",
    "import pandas as pd\n",
    "import requests\n",
    "import time\n",
    "import os\n",
    "\n",
    "from bs4 import BeautifulSoup\n",
    "from urllib.parse import quote\n",
    "from selenium import webdriver\n",
    "from collections import Counter"
   ]
  },
  {
   "cell_type": "code",
   "execution_count": null,
   "metadata": {},
   "outputs": [],
   "source": [
    "# /Users/hyeonju/data-crawling/chromedriver\n",
    "driver = webdriver.Chrome(executable_path = '/Users/hyeonju/data-crawling/chromedriver')"
   ]
  },
  {
   "cell_type": "code",
   "execution_count": null,
   "metadata": {},
   "outputs": [],
   "source": [
    "# url 설정\n",
    "url = f'http://ticket.interpark.com/TPGoodsList.asp?Ca=Eve&SubCa=Eve_O&tid4=Eve_O&smid1=gnb&smid2=008&smid3=1'\n",
    "\n",
    "# requests로 데이터 요청하기\n",
    "resp = requests.get(url)\n",
    "\n",
    "# 설정한 url 로 데이터 get 함수 요청\n",
    "driver.get(url)"
   ]
  },
  {
   "cell_type": "code",
   "execution_count": null,
   "metadata": {},
   "outputs": [],
   "source": [
    "# # 화면상에서 스크롤 끝까지 내리기\n",
    "# SCROLL_PAUSE_SEC = 1\n",
    "\n",
    "# # 스크롤 높이 가져옴\n",
    "# last_height = driver.execute_script(\"return document.body.scrollHeight\")\n",
    "\n",
    "# while True:\n",
    "#     # 끝까지 스크롤 다운\n",
    "#     driver.execute_script(\"window.scrollTo(0, document.body.scrollHeight);\")\n",
    "\n",
    "#     # 1초 대기\n",
    "#     time.sleep(SCROLL_PAUSE_SEC)\n",
    "\n",
    "#     # 스크롤 다운 후 스크롤 높이 다시 가져옴\n",
    "#     new_height = driver.execute_script(\"return document.body.scrollHeight\")\n",
    "#     if new_height == last_height:\n",
    "#         break\n",
    "#     last_height = new_height"
   ]
  },
  {
   "cell_type": "code",
   "execution_count": null,
   "metadata": {},
   "outputs": [],
   "source": [
    "# 접근한 페이지의 소스코드를 텍스트로 저장 (Str)\n",
    "page_text = driver.page_source\n",
    "\n",
    "# page_text를 html list로 변환 \n",
    "html = BeautifulSoup(page_text, 'html.parser')"
   ]
  },
  {
   "cell_type": "code",
   "execution_count": null,
   "metadata": {},
   "outputs": [],
   "source": [
    "# body > table > tbody > tr:nth-child(2) > td:nth-child(3) > div > div > div.con > div > table > tbody > tr:nth-child(1) > td.RKtxt > span > a\n",
    "\n",
    "# blog_url\n",
    "url=[]\n",
    "\n",
    "for i in html.select('td.RKtxt > span > a') :\n",
    "    urls = i.attrs['href']\n",
    "    url.append(urls)\n",
    "    \n",
    "print(f\"전시회{len(url)}개 의 주소입니다.\")\n",
    "\n",
    "print(url)"
   ]
  },
  {
   "cell_type": "code",
   "execution_count": null,
   "metadata": {},
   "outputs": [],
   "source": [
    "goods_num_list = []\n",
    "\n",
    "for i in url :\n",
    "    goods_num = i.split('=')[1]\n",
    "    goods_num_list.append(goods_num)\n",
    "    \n",
    "print(f\"전시회 {len(url)} 개의 goods_num_list 입니다.\")\n",
    "\n",
    "print(goods_num_list)"
   ]
  },
  {
   "cell_type": "code",
   "execution_count": null,
   "metadata": {},
   "outputs": [],
   "source": [
    "exhibition_url = []\n",
    "\n",
    "for i in goods_num_list :\n",
    "    exhibition_url.append(f'http://ticket.interpark.com/Ticket/Goods/GoodsInfo.asp?GoodsCode={i}')\n",
    "    \n",
    "print(f\"전시회 {len(exhibition_url)} 개의 exhibition_url 입니다.\")\n",
    "\n",
    "print(exhibition_url)"
   ]
  },
  {
   "attachments": {},
   "cell_type": "markdown",
   "metadata": {},
   "source": [
    "# 전시회 세부페이지"
   ]
  },
  {
   "cell_type": "code",
   "execution_count": null,
   "metadata": {},
   "outputs": [],
   "source": [
    "\n",
    "# 이후 상세페이지 조회시 for문으로 접근하여 데이터 수집\n",
    "# 우선 한개만\n",
    "\n",
    "detail_url_1 = 'http://ticket.interpark.com/Ticket/Goods/GoodsInfo.asp?GoodsCode=22015433'\n",
    "\n",
    "request = requests.get(detail_url_1)\n",
    "\n",
    "driver.get(detail_url_1)\n"
   ]
  },
  {
   "cell_type": "code",
   "execution_count": null,
   "metadata": {},
   "outputs": [],
   "source": [
    "try:\n",
    "    driver.find_element_by_xpath('//*[@id=\"popup-prdGuide\"]/div/div[3]/div/a').click()\n",
    "except:\n",
    "    pass"
   ]
  },
  {
   "cell_type": "code",
   "execution_count": null,
   "metadata": {},
   "outputs": [],
   "source": [
    "# 접근한 페이지의 소스코드를 텍스트로 저장 (Str)\n",
    "page_text = driver.page_source\n",
    "\n",
    "# page_text를 html list로 변환 \n",
    "html = BeautifulSoup(page_text, 'html.parser')"
   ]
  },
  {
   "cell_type": "code",
   "execution_count": null,
   "metadata": {},
   "outputs": [],
   "source": [
    "# title\n",
    "\n",
    "title_1 = html.select_one('div.summaryTop > h2').text\n",
    "print(title_1)"
   ]
  },
  {
   "cell_type": "code",
   "execution_count": null,
   "metadata": {},
   "outputs": [],
   "source": [
    "# Place\n",
    "#container > div.contents > div.productWrapper > div.productMain > div.productMainTop > div > div.summaryBody > ul > li:nth-child(1) > div > a\n",
    "\n",
    "place_1 = html.select_one('li:nth-child(1) > div > a').text\n",
    "place_1 = place_1.split('(')[0]\n",
    "print(place_1)"
   ]
  },
  {
   "cell_type": "code",
   "execution_count": null,
   "metadata": {},
   "outputs": [],
   "source": [
    "# date\n",
    "#container > div.contents > div.productWrapper > div.productMain > div.productMainTop > div > div.summaryBody > ul > li:nth-child(2) > div > p\n",
    "\n",
    "date_1 = html.select_one('li:nth-child(2) > div > p').text\n",
    "print(f'전체 기간: {date_1}')\n",
    "\n",
    "startAt = date_1.split(' ~')[0]\n",
    "print(f'전시 시작일 : {startAt}')\n",
    "\n",
    "endAt = date_1.split(' ~')[1]\n",
    "print(f'전시 종료일 : {endAt}')\n"
   ]
  },
  {
   "cell_type": "code",
   "execution_count": null,
   "metadata": {},
   "outputs": [],
   "source": [
    "# ageLimit\n",
    "#container > div.contents > div.productWrapper > div.productMain > div.productMainTop > div > div.summaryBody > ul > li:nth-child(4) > div > p\n",
    "\n",
    "ageLimit_1 = html.select_one('li:nth-child(4) > div > p').text\n",
    "print(f'관람 가능 연령 : {ageLimit_1}')\n"
   ]
  },
  {
   "cell_type": "code",
   "execution_count": null,
   "metadata": {},
   "outputs": [],
   "source": [
    "# price \n",
    "#container > div.contents > div.productWrapper > div.productMain > div.productMainTop > div > div.summaryBody > ul > li.infoItem.infoPrice > div > ul > li:nth-child(2) > span.price\n",
    "\n",
    "price_1 = html.select_one('li:nth-child(2) > span.price').text\n",
    "\n",
    "print(f'가격 : {price_1}')"
   ]
  },
  {
   "cell_type": "code",
   "execution_count": null,
   "metadata": {},
   "outputs": [],
   "source": [
    "# main_img\n",
    "#container > div.contents > div.productWrapper > div.productMain > div.productMainTop > div > div.summaryBody > div > div.posterBoxTop > img\n",
    "\n",
    "main_img_1 = html.select_one('div.posterBoxTop > img').attrs['src']\n",
    "main_img_1 = 'http:' + main_img_1\n",
    "\n",
    "main_img_1"
   ]
  },
  {
   "attachments": {},
   "cell_type": "markdown",
   "metadata": {},
   "source": [
    "# LHJ 작성"
   ]
  },
  {
   "cell_type": "code",
   "execution_count": 101,
   "metadata": {},
   "outputs": [],
   "source": [
    "# test_url = 'http://ticket.interpark.com/Ticket/Goods/GoodsInfo.asp?GoodsCode=22015433' # 합스부르크\n",
    "# test_url = 'http://ticket.interpark.com/Ticket/Goods/GoodsInfo.asp?GoodsCode=22005831' #에바 알머슨\n",
    "test_url = 'https://tickets.interpark.com/goods/22012710'\n",
    "# test_url = 'https://tickets.interpark.com/goods/22014814' # 외규장각 의궤\n",
    "\n",
    "request = requests.get(test_url)\n",
    "\n",
    "driver.get(test_url)\n",
    "\n",
    "driver.implicitly_wait(3)\n",
    "\n",
    "# //*[@id=\"popup-prdGuide\"]/div/div[3]/div/a\n",
    "# 팝업페이지가 뜬다면 '오늘 하루동안 닫기' 버튼 클릭\n",
    "# error: 팝업창 뜰 때는 닫아준다. 팝업창 닫은 다음에 크롤링하면 객체가 없어서 찾지 못한다. \n",
    "\n",
    "try:\n",
    "    driver.find_element_by_xpath('//*[@id=\"popup-prdGuide\"]/div/div[3]/div/a').click()\n",
    "except:\n",
    "    pass\n",
    "\n",
    "# 접근한 페이지의 소스코드를 텍스트로 저장\n",
    "page_text = driver.page_source\n",
    "\n",
    "# page_text를 html 리스트로 파싱\n",
    "exhibition_html = BeautifulSoup(page_text, 'html.parser')"
   ]
  },
  {
   "cell_type": "code",
   "execution_count": 102,
   "metadata": {},
   "outputs": [
    {
     "name": "stdout",
     "output_type": "stream",
     "text": [
      "['예매가능시간: 관람 5분 전까지', '* 오픈일\\u3000ㆍ수-일요일: 10:00-19:00 (입장시간 기준)* 휴관일ㆍ월·화요일\\xa0ㆍ공휴일\\u3000\\u3000- 1월 1일(일) 신정\\u3000\\u3000- 1월 22일(일)-1월 24일(화) 설연휴* 소요시간: 100분(1시간 40분)* 관람인원: 1회차 1명-8명* 대표번호: 1877-6145']\n"
     ]
    }
   ],
   "source": [
    "# 공연시간 정보 text 추출\n",
    "# 공통 path: productMainBody > div > div:nth-child(1) > div.class=\"contentDetail”\n",
    "# 개별 path\n",
    "#   p.contentDetailText\n",
    "#   ul.contentDetailList\n",
    "\n",
    "# 📌 ISSUE\n",
    "# [ ] 추출 데이터 정제하기\n",
    "# [ ] empty element 문제 고민 필요\n",
    "\n",
    "texts = []\n",
    "block_1 = exhibition_html.select_one('div:nth-child(1) > div.contentDetail > p').text\n",
    "block_2 = exhibition_html.select_one('div:nth-child(1) > div > ul > div').text\n",
    "texts.append(block_1)\n",
    "texts.append(block_2)\n",
    "print(texts)\n",
    "\n"
   ]
  },
  {
   "cell_type": "code",
   "execution_count": 103,
   "metadata": {},
   "outputs": [
    {
     "name": "stdout",
     "output_type": "stream",
     "text": [
      "[]\n"
     ]
    }
   ],
   "source": [
    "# (공지사항 case 1) img 추출\n",
    "# productMainBody > div > div:nth-child(2) > div.contentDetail\n",
    "# 📌 ISSUE\n",
    "# [ ] 데이터 정제하기\n",
    "# [ ] empty element 제거\n",
    "\n",
    "notice_image_list = exhibition_html.select('div:nth-child(2) > div.contentDetail > img')\n",
    "images = []\n",
    "\n",
    "for i in notice_image_list:\n",
    "  i = 'http:' + i.get('src') #type: ignore\n",
    "  images.append(i)\n",
    "\n",
    "print(images)"
   ]
  },
  {
   "cell_type": "code",
   "execution_count": 104,
   "metadata": {},
   "outputs": [
    {
     "name": "stdout",
     "output_type": "stream",
     "text": [
      "* 중도입장불가　예매한 시간 15분 전까지 도착해주시기 바랍니다. * 사전 예매 및 문의 대상　ㆍ단체 20인 이상　ㆍ스페셜 이벤트, 워크샵 투어　ㆍ장애인, 임산부, 노약자, 외국인* 관람연령안내　입장 가능 연령은 8세이상 70세이하입니다.　만14세 미만 청소년은 법정 대리인 동의서가 필수입니다.　(페이지 하단부 개인정보 처리 방침 동의서를 확인 바랍니다.)\n"
     ]
    }
   ],
   "source": [
    "# (공지사항 case 2) text 추출\n",
    "# productMainBody > div > div:nth-child(2) > div.contentDetail\n",
    "# 📌 ISSUE\n",
    "# [ ] 데이터 정제하기\n",
    "# [ ] empty element 제거\n",
    "\n",
    "notice_text_list = exhibition_html.select_one('div:nth-child(2) > div.contentDetail').text\n",
    "print(notice_text_list)\n",
    "\n",
    "# texts = []\n",
    "# for i in notice_text_list:\n",
    "#   texts.append(i)\n",
    "# print(texts)"
   ]
  },
  {
   "cell_type": "code",
   "execution_count": null,
   "metadata": {},
   "outputs": [],
   "source": [
    "# 상세정보 이미지 추출 (완료)\n",
    "# detail image url list\n",
    "# productMainBody > div > div.content.description > div.contentDetail\n",
    "\n",
    "image_url_list = exhibition_html.select('div.content.description > div.contentDetail > img')\n",
    "images = []\n",
    "\n",
    "for i in image_url_list:\n",
    "  i = 'http:' + i.get('src') #type: ignore\n",
    "  images.append(i)\n",
    "\n",
    "print(images)"
   ]
  },
  {
   "cell_type": "code",
   "execution_count": null,
   "metadata": {},
   "outputs": [],
   "source": [
    "# 예매자 통계 (재근님 크롤링중)\n",
    "# 1. 성별 통계\n",
    "# productMainBody > div > div.content.prdStat > div > div.statGender\n",
    "# - 컬럼: (남) #productMainBody > div > div.content.prdStat > div > div.statGender > div.statGenderType.is-male > div.statGenderName\n",
    "# - 컬럼: (여) #productMainBody > div > div.content.prdStat > div > div.statGender > div.statGenderType.is-female > div.statGenderName\n",
    "# -- 데이터: (남) #productMainBody > div > div.content.prdStat > div > div.statGender > div.statGenderType.is-male > div.statGenderValue\n",
    "# -- 데이터: (여) #productMainBody > div > div.content.prdStat > div > div.statGender > div.statGenderType.is-female > div.statGenderValue\n",
    "\n",
    "# gender_stat_list = []\n",
    "\n",
    "# gender_index1 = exhibition_html.find_all('div.statGenderType.is-male > div.statGenderName').text\n",
    "# gender_stat_list.append(gender_index1)\n",
    "\n",
    "# for i in exhibition_html.select('div.content.prdStat > div > div.statGender'):\n",
    "#   gender_stat_list.append(i.text)\n",
    "\n",
    "# print(gender_stat_list)\n",
    "\n",
    "# 2. 연령 통계\n",
    "# productMainBody > div > div.content.prdStat > div > div.statAge\n",
    "# 연령별 수치: #productMainBody > div > div.content.prdStat > div > div.statAge > div > div:nth-child(1) > div.statAgePercent\n",
    "# 연령 범주: #productMainBody > div > div.content.prdStat > div > div.statAge > div > div:nth-child(1) > div.statAgeName"
   ]
  },
  {
   "attachments": {},
   "cell_type": "markdown",
   "metadata": {},
   "source": [
    "---"
   ]
  },
  {
   "attachments": {},
   "cell_type": "markdown",
   "metadata": {},
   "source": [
    "### 자동화"
   ]
  },
  {
   "attachments": {},
   "cell_type": "markdown",
   "metadata": {},
   "source": [
    "### 세부 메서드"
   ]
  },
  {
   "cell_type": "code",
   "execution_count": null,
   "metadata": {},
   "outputs": [],
   "source": [
    "def get_exhibition_info(url) :\n",
    "        resp = requests.get(url)\n",
    "        driver.get (url)\n",
    "        driver.find_element_by_xpath('//*[@id=\"popup-prdGuide\"]/div/div[3]/div/a').click()\n",
    "        page_text = driver.page_source\n",
    "        html = BeautifulSoup(resp.text, 'html.parser')\n",
    "        return html, resp"
   ]
  },
  {
   "cell_type": "code",
   "execution_count": null,
   "metadata": {},
   "outputs": [],
   "source": [
    "def get_exhibition_title(html) :\n",
    "    title = html.select_one('div.summaryTop > h2').text\n",
    "    return title"
   ]
  },
  {
   "cell_type": "code",
   "execution_count": null,
   "metadata": {},
   "outputs": [],
   "source": [
    "def get_exhibition_place(html) :\n",
    "    place = html.select_one('li:nth-child(1) > div > a').text\n",
    "    place = place.split('(')[0]\n",
    "    return place"
   ]
  },
  {
   "cell_type": "code",
   "execution_count": null,
   "metadata": {},
   "outputs": [],
   "source": [
    "def get_exhibition_date(html) :\n",
    "    date = html.select_one('li:nth-child(2) > div > p').text\n",
    "    startAt = date.split(' ~')[0]\n",
    "    endAt = date.split(' ~')[1]\n",
    "    return startAt, endAt"
   ]
  },
  {
   "cell_type": "code",
   "execution_count": null,
   "metadata": {},
   "outputs": [],
   "source": [
    "def get_ageLimit(html) :\n",
    "    ageLimit = html.select_one('li:nth-child(4) > div > p').text\n",
    "    return ageLimit"
   ]
  },
  {
   "cell_type": "code",
   "execution_count": null,
   "metadata": {},
   "outputs": [],
   "source": [
    "def get_price(html) :\n",
    "    price = html.select_one('li:nth-child(2) > span.price').text\n",
    "    return price"
   ]
  },
  {
   "cell_type": "code",
   "execution_count": null,
   "metadata": {},
   "outputs": [],
   "source": [
    "def get_main_img(html) :\n",
    "    main_img = html.select_one('div.posterBoxTop > img').attrs['src']\n",
    "    main_img_url = 'http:' + main_img\n",
    "    return main_img_url"
   ]
  },
  {
   "cell_type": "code",
   "execution_count": 82,
   "metadata": {},
   "outputs": [],
   "source": [
    "# (Method) 공연시간 정보 text 추출 \n",
    "def get_exhibition_detail_info(html) :\n",
    "  \n",
    "  block_1 = html.select_one('div:nth-child(1) > div.contentDetail > p').text\n",
    "  block_2 = html.select_one('div:nth-child(1) > div > ul > div').text\n",
    "  \n",
    "  return block_1, block_2"
   ]
  },
  {
   "cell_type": "code",
   "execution_count": null,
   "metadata": {},
   "outputs": [],
   "source": [
    "# (Method) 공지사항 imgs 추출\n",
    "def get_notice_img(html) :\n",
    "  \n",
    "  notice_image_list = html.select('div:nth-child(2) > div.contentDetail > img')\n",
    "  images = []\n",
    "\n",
    "  for i in notice_image_list:\n",
    "    i = 'http:' + i.get('src')\n",
    "    images.append(i)\n",
    "\n",
    "  return images"
   ]
  },
  {
   "cell_type": "code",
   "execution_count": null,
   "metadata": {},
   "outputs": [],
   "source": [
    "# (Method) 공지사항 texts 추출\n",
    "def get_notice_txt(html) :\n",
    "\n",
    "  notice_text_list = html.select_one('div:nth-child(2) > div.contentDetail').text\n",
    "\n",
    "  return notice_text_list"
   ]
  },
  {
   "cell_type": "code",
   "execution_count": null,
   "metadata": {},
   "outputs": [],
   "source": [
    "# (Method) 상세정보 imgs 추출\n",
    "def get_exhibition_detail_info_img() :\n",
    "\n",
    "  image_url_list = html.select('div.content.description > div.contentDetail > img') \n",
    "  images = []\n",
    "\n",
    "  for i in image_url_list:\n",
    "    i = 'http:' + i.get('src')\n",
    "    images.append(i)\n",
    "\n",
    "  return images"
   ]
  },
  {
   "attachments": {},
   "cell_type": "markdown",
   "metadata": {},
   "source": [
    "### 통합 메서드"
   ]
  },
  {
   "cell_type": "code",
   "execution_count": 87,
   "metadata": {},
   "outputs": [],
   "source": [
    "def get_crawling_exhibition_info(url):\n",
    "    \n",
    "    print(f'url : {url}')\n",
    "    \n",
    "    resp = requests.get(url)\n",
    "    \n",
    "    print(f'resp : {resp}')\n",
    "    \n",
    "    driver.get (url)\n",
    "    try:\n",
    "        driver.find_element_by_xpath('//*[@id=\"popup-prdGuide\"]/div/div[3]/div/a').click()\n",
    "    except:\n",
    "        pass\n",
    "    \n",
    "    page_text = driver.page_source\n",
    "    \n",
    "    # 접근한 페이지의 소스코드를 텍스트로 저장 (Str)\n",
    "    page_text = driver.page_source\n",
    "\n",
    "    # page_text를 html list로 변환 \n",
    "    html = BeautifulSoup(page_text, 'html.parser')\n",
    "    \n",
    "    # print(f'html : \\n {html}')\n",
    "    \n",
    "    title = html.select_one('div.summaryTop > h2').text\n",
    "    \n",
    "    # get title\n",
    "    title = html.select_one('div.summaryTop > h2').text\n",
    "    \n",
    "    # get place name\n",
    "    place = html.select_one('li:nth-child(1) > div > a').text\n",
    "    place = place.split('(')[0]\n",
    "    \n",
    "    # get date (startAt, endAt)\n",
    "    date = html.select_one('li:nth-child(2) > div > p').text\n",
    "    startAt = date.split(' ~')[0]\n",
    "    endAt = date.split(' ~')[1]\n",
    "    \n",
    "    # get ageLimit\n",
    "    # li:nth-child(4) > div > p \n",
    "    # or li:nth-child(3) > div > p\n",
    "    try:\n",
    "        ageLimit = html.select_one('li:nth-child(4) > div > p').text\n",
    "    except:\n",
    "        ageLimit = html.select_one('li:nth-child(3) > div > p').text\n",
    "    \n",
    "    # get price\n",
    "    try:\n",
    "        price = html.select_one('li:nth-child(2) > span.price').text\n",
    "    except:\n",
    "        price = '가격 정보 없음'\n",
    "    \n",
    "    # get main_img_url\n",
    "    main_img = html.select_one('div.posterBoxTop > img').attrs['src']\n",
    "    main_img_url = 'http:' + main_img\n",
    "    \n",
    "    # get exhibition_datail_info \n",
    "    # 작성 예정\n",
    "    \n",
    "    # get exhibition_datail_info \n",
    "    # 작성 예정\n",
    "    \n",
    "    # get notice(img or text)\n",
    "    # 작성 예정 (try - except 사용)\n",
    "\n",
    "    # get detail_info(img)\n",
    "    # 작성 예정\n",
    "\n",
    "    # append\n",
    "    title_list.append(title)\n",
    "    place_list.append(place)\n",
    "    startAt_list.append(startAt)\n",
    "    endAt_list.append(endAt)\n",
    "    ageLimit_list.append(ageLimit)\n",
    "    price_list.append(price)\n",
    "    main_img_url_list.append(main_img_url)\n",
    "    "
   ]
  },
  {
   "cell_type": "code",
   "execution_count": 86,
   "metadata": {},
   "outputs": [
    {
     "name": "stdout",
     "output_type": "stream",
     "text": [
      "url : http://ticket.interpark.com/Ticket/Goods/GoodsInfo.asp?GoodsCode=22015433\n",
      "resp : <Response [200]>\n",
      "url : http://ticket.interpark.com/Ticket/Goods/GoodsInfo.asp?GoodsCode=22012659\n",
      "resp : <Response [200]>\n",
      "url : http://ticket.interpark.com/Ticket/Goods/GoodsInfo.asp?GoodsCode=23000216\n",
      "resp : <Response [200]>\n",
      "url : http://ticket.interpark.com/Ticket/Goods/GoodsInfo.asp?GoodsCode=22015987\n",
      "resp : <Response [200]>\n"
     ]
    },
    {
     "ename": "KeyboardInterrupt",
     "evalue": "",
     "output_type": "error",
     "traceback": [
      "\u001b[0;31m---------------------------------------------------------------------------\u001b[0m",
      "\u001b[0;31mKeyboardInterrupt\u001b[0m                         Traceback (most recent call last)",
      "Cell \u001b[0;32mIn[86], line 21\u001b[0m\n\u001b[1;32m     18\u001b[0m main_img_url_list \u001b[39m=\u001b[39m []\n\u001b[1;32m     20\u001b[0m \u001b[39mfor\u001b[39;00m url \u001b[39min\u001b[39;00m exhibition_url :\n\u001b[0;32m---> 21\u001b[0m     get_crawling_exhibition_info(url)\n\u001b[1;32m     22\u001b[0m     time\u001b[39m.\u001b[39msleep(\u001b[39m3\u001b[39m)\n",
      "Cell \u001b[0;32mIn[85], line 9\u001b[0m, in \u001b[0;36mget_crawling_exhibition_info\u001b[0;34m(url)\u001b[0m\n\u001b[1;32m      5\u001b[0m resp \u001b[39m=\u001b[39m requests\u001b[39m.\u001b[39mget(url)\n\u001b[1;32m      7\u001b[0m \u001b[39mprint\u001b[39m(\u001b[39mf\u001b[39m\u001b[39m'\u001b[39m\u001b[39mresp : \u001b[39m\u001b[39m{\u001b[39;00mresp\u001b[39m}\u001b[39;00m\u001b[39m'\u001b[39m)\n\u001b[0;32m----> 9\u001b[0m driver\u001b[39m.\u001b[39;49mget (url)\n\u001b[1;32m     10\u001b[0m \u001b[39mtry\u001b[39;00m:\n\u001b[1;32m     11\u001b[0m     driver\u001b[39m.\u001b[39mfind_element_by_xpath(\u001b[39m'\u001b[39m\u001b[39m//*[@id=\u001b[39m\u001b[39m\"\u001b[39m\u001b[39mpopup-prdGuide\u001b[39m\u001b[39m\"\u001b[39m\u001b[39m]/div/div[3]/div/a\u001b[39m\u001b[39m'\u001b[39m)\u001b[39m.\u001b[39mclick()\n",
      "File \u001b[0;32m~/opt/anaconda3/envs/mume/lib/python3.8/site-packages/selenium/webdriver/remote/webdriver.py:333\u001b[0m, in \u001b[0;36mWebDriver.get\u001b[0;34m(self, url)\u001b[0m\n\u001b[1;32m    329\u001b[0m \u001b[39mdef\u001b[39;00m \u001b[39mget\u001b[39m(\u001b[39mself\u001b[39m, url):\n\u001b[1;32m    330\u001b[0m     \u001b[39m\"\"\"\u001b[39;00m\n\u001b[1;32m    331\u001b[0m \u001b[39m    Loads a web page in the current browser session.\u001b[39;00m\n\u001b[1;32m    332\u001b[0m \u001b[39m    \"\"\"\u001b[39;00m\n\u001b[0;32m--> 333\u001b[0m     \u001b[39mself\u001b[39;49m\u001b[39m.\u001b[39;49mexecute(Command\u001b[39m.\u001b[39;49mGET, {\u001b[39m'\u001b[39;49m\u001b[39murl\u001b[39;49m\u001b[39m'\u001b[39;49m: url})\n",
      "File \u001b[0;32m~/opt/anaconda3/envs/mume/lib/python3.8/site-packages/selenium/webdriver/remote/webdriver.py:319\u001b[0m, in \u001b[0;36mWebDriver.execute\u001b[0;34m(self, driver_command, params)\u001b[0m\n\u001b[1;32m    316\u001b[0m         params[\u001b[39m'\u001b[39m\u001b[39msessionId\u001b[39m\u001b[39m'\u001b[39m] \u001b[39m=\u001b[39m \u001b[39mself\u001b[39m\u001b[39m.\u001b[39msession_id\n\u001b[1;32m    318\u001b[0m params \u001b[39m=\u001b[39m \u001b[39mself\u001b[39m\u001b[39m.\u001b[39m_wrap_value(params)\n\u001b[0;32m--> 319\u001b[0m response \u001b[39m=\u001b[39m \u001b[39mself\u001b[39;49m\u001b[39m.\u001b[39;49mcommand_executor\u001b[39m.\u001b[39;49mexecute(driver_command, params)\n\u001b[1;32m    320\u001b[0m \u001b[39mif\u001b[39;00m response:\n\u001b[1;32m    321\u001b[0m     \u001b[39mself\u001b[39m\u001b[39m.\u001b[39merror_handler\u001b[39m.\u001b[39mcheck_response(response)\n",
      "File \u001b[0;32m~/opt/anaconda3/envs/mume/lib/python3.8/site-packages/selenium/webdriver/remote/remote_connection.py:374\u001b[0m, in \u001b[0;36mRemoteConnection.execute\u001b[0;34m(self, command, params)\u001b[0m\n\u001b[1;32m    372\u001b[0m data \u001b[39m=\u001b[39m utils\u001b[39m.\u001b[39mdump_json(params)\n\u001b[1;32m    373\u001b[0m url \u001b[39m=\u001b[39m \u001b[39m'\u001b[39m\u001b[39m%s\u001b[39;00m\u001b[39m%s\u001b[39;00m\u001b[39m'\u001b[39m \u001b[39m%\u001b[39m (\u001b[39mself\u001b[39m\u001b[39m.\u001b[39m_url, path)\n\u001b[0;32m--> 374\u001b[0m \u001b[39mreturn\u001b[39;00m \u001b[39mself\u001b[39;49m\u001b[39m.\u001b[39;49m_request(command_info[\u001b[39m0\u001b[39;49m], url, body\u001b[39m=\u001b[39;49mdata)\n",
      "File \u001b[0;32m~/opt/anaconda3/envs/mume/lib/python3.8/site-packages/selenium/webdriver/remote/remote_connection.py:397\u001b[0m, in \u001b[0;36mRemoteConnection._request\u001b[0;34m(self, method, url, body)\u001b[0m\n\u001b[1;32m    394\u001b[0m     body \u001b[39m=\u001b[39m \u001b[39mNone\u001b[39;00m\n\u001b[1;32m    396\u001b[0m \u001b[39mif\u001b[39;00m \u001b[39mself\u001b[39m\u001b[39m.\u001b[39mkeep_alive:\n\u001b[0;32m--> 397\u001b[0m     resp \u001b[39m=\u001b[39m \u001b[39mself\u001b[39;49m\u001b[39m.\u001b[39;49m_conn\u001b[39m.\u001b[39;49mrequest(method, url, body\u001b[39m=\u001b[39;49mbody, headers\u001b[39m=\u001b[39;49mheaders)\n\u001b[1;32m    399\u001b[0m     statuscode \u001b[39m=\u001b[39m resp\u001b[39m.\u001b[39mstatus\n\u001b[1;32m    400\u001b[0m \u001b[39melse\u001b[39;00m:\n",
      "File \u001b[0;32m~/opt/anaconda3/envs/mume/lib/python3.8/site-packages/urllib3/request.py:78\u001b[0m, in \u001b[0;36mRequestMethods.request\u001b[0;34m(self, method, url, fields, headers, **urlopen_kw)\u001b[0m\n\u001b[1;32m     74\u001b[0m     \u001b[39mreturn\u001b[39;00m \u001b[39mself\u001b[39m\u001b[39m.\u001b[39mrequest_encode_url(\n\u001b[1;32m     75\u001b[0m         method, url, fields\u001b[39m=\u001b[39mfields, headers\u001b[39m=\u001b[39mheaders, \u001b[39m*\u001b[39m\u001b[39m*\u001b[39murlopen_kw\n\u001b[1;32m     76\u001b[0m     )\n\u001b[1;32m     77\u001b[0m \u001b[39melse\u001b[39;00m:\n\u001b[0;32m---> 78\u001b[0m     \u001b[39mreturn\u001b[39;00m \u001b[39mself\u001b[39;49m\u001b[39m.\u001b[39;49mrequest_encode_body(\n\u001b[1;32m     79\u001b[0m         method, url, fields\u001b[39m=\u001b[39;49mfields, headers\u001b[39m=\u001b[39;49mheaders, \u001b[39m*\u001b[39;49m\u001b[39m*\u001b[39;49murlopen_kw\n\u001b[1;32m     80\u001b[0m     )\n",
      "File \u001b[0;32m~/opt/anaconda3/envs/mume/lib/python3.8/site-packages/urllib3/request.py:170\u001b[0m, in \u001b[0;36mRequestMethods.request_encode_body\u001b[0;34m(self, method, url, fields, headers, encode_multipart, multipart_boundary, **urlopen_kw)\u001b[0m\n\u001b[1;32m    167\u001b[0m extra_kw[\u001b[39m\"\u001b[39m\u001b[39mheaders\u001b[39m\u001b[39m\"\u001b[39m]\u001b[39m.\u001b[39mupdate(headers)\n\u001b[1;32m    168\u001b[0m extra_kw\u001b[39m.\u001b[39mupdate(urlopen_kw)\n\u001b[0;32m--> 170\u001b[0m \u001b[39mreturn\u001b[39;00m \u001b[39mself\u001b[39;49m\u001b[39m.\u001b[39;49murlopen(method, url, \u001b[39m*\u001b[39;49m\u001b[39m*\u001b[39;49mextra_kw)\n",
      "File \u001b[0;32m~/opt/anaconda3/envs/mume/lib/python3.8/site-packages/urllib3/poolmanager.py:376\u001b[0m, in \u001b[0;36mPoolManager.urlopen\u001b[0;34m(self, method, url, redirect, **kw)\u001b[0m\n\u001b[1;32m    374\u001b[0m     response \u001b[39m=\u001b[39m conn\u001b[39m.\u001b[39murlopen(method, url, \u001b[39m*\u001b[39m\u001b[39m*\u001b[39mkw)\n\u001b[1;32m    375\u001b[0m \u001b[39melse\u001b[39;00m:\n\u001b[0;32m--> 376\u001b[0m     response \u001b[39m=\u001b[39m conn\u001b[39m.\u001b[39;49murlopen(method, u\u001b[39m.\u001b[39;49mrequest_uri, \u001b[39m*\u001b[39;49m\u001b[39m*\u001b[39;49mkw)\n\u001b[1;32m    378\u001b[0m redirect_location \u001b[39m=\u001b[39m redirect \u001b[39mand\u001b[39;00m response\u001b[39m.\u001b[39mget_redirect_location()\n\u001b[1;32m    379\u001b[0m \u001b[39mif\u001b[39;00m \u001b[39mnot\u001b[39;00m redirect_location:\n",
      "File \u001b[0;32m~/opt/anaconda3/envs/mume/lib/python3.8/site-packages/urllib3/connectionpool.py:703\u001b[0m, in \u001b[0;36mHTTPConnectionPool.urlopen\u001b[0;34m(self, method, url, body, headers, retries, redirect, assert_same_host, timeout, pool_timeout, release_conn, chunked, body_pos, **response_kw)\u001b[0m\n\u001b[1;32m    700\u001b[0m     \u001b[39mself\u001b[39m\u001b[39m.\u001b[39m_prepare_proxy(conn)\n\u001b[1;32m    702\u001b[0m \u001b[39m# Make the request on the httplib connection object.\u001b[39;00m\n\u001b[0;32m--> 703\u001b[0m httplib_response \u001b[39m=\u001b[39m \u001b[39mself\u001b[39;49m\u001b[39m.\u001b[39;49m_make_request(\n\u001b[1;32m    704\u001b[0m     conn,\n\u001b[1;32m    705\u001b[0m     method,\n\u001b[1;32m    706\u001b[0m     url,\n\u001b[1;32m    707\u001b[0m     timeout\u001b[39m=\u001b[39;49mtimeout_obj,\n\u001b[1;32m    708\u001b[0m     body\u001b[39m=\u001b[39;49mbody,\n\u001b[1;32m    709\u001b[0m     headers\u001b[39m=\u001b[39;49mheaders,\n\u001b[1;32m    710\u001b[0m     chunked\u001b[39m=\u001b[39;49mchunked,\n\u001b[1;32m    711\u001b[0m )\n\u001b[1;32m    713\u001b[0m \u001b[39m# If we're going to release the connection in ``finally:``, then\u001b[39;00m\n\u001b[1;32m    714\u001b[0m \u001b[39m# the response doesn't need to know about the connection. Otherwise\u001b[39;00m\n\u001b[1;32m    715\u001b[0m \u001b[39m# it will also try to release it and we'll have a double-release\u001b[39;00m\n\u001b[1;32m    716\u001b[0m \u001b[39m# mess.\u001b[39;00m\n\u001b[1;32m    717\u001b[0m response_conn \u001b[39m=\u001b[39m conn \u001b[39mif\u001b[39;00m \u001b[39mnot\u001b[39;00m release_conn \u001b[39melse\u001b[39;00m \u001b[39mNone\u001b[39;00m\n",
      "File \u001b[0;32m~/opt/anaconda3/envs/mume/lib/python3.8/site-packages/urllib3/connectionpool.py:449\u001b[0m, in \u001b[0;36mHTTPConnectionPool._make_request\u001b[0;34m(self, conn, method, url, timeout, chunked, **httplib_request_kw)\u001b[0m\n\u001b[1;32m    444\u001b[0m             httplib_response \u001b[39m=\u001b[39m conn\u001b[39m.\u001b[39mgetresponse()\n\u001b[1;32m    445\u001b[0m         \u001b[39mexcept\u001b[39;00m \u001b[39mBaseException\u001b[39;00m \u001b[39mas\u001b[39;00m e:\n\u001b[1;32m    446\u001b[0m             \u001b[39m# Remove the TypeError from the exception chain in\u001b[39;00m\n\u001b[1;32m    447\u001b[0m             \u001b[39m# Python 3 (including for exceptions like SystemExit).\u001b[39;00m\n\u001b[1;32m    448\u001b[0m             \u001b[39m# Otherwise it looks like a bug in the code.\u001b[39;00m\n\u001b[0;32m--> 449\u001b[0m             six\u001b[39m.\u001b[39;49mraise_from(e, \u001b[39mNone\u001b[39;49;00m)\n\u001b[1;32m    450\u001b[0m \u001b[39mexcept\u001b[39;00m (SocketTimeout, BaseSSLError, SocketError) \u001b[39mas\u001b[39;00m e:\n\u001b[1;32m    451\u001b[0m     \u001b[39mself\u001b[39m\u001b[39m.\u001b[39m_raise_timeout(err\u001b[39m=\u001b[39me, url\u001b[39m=\u001b[39murl, timeout_value\u001b[39m=\u001b[39mread_timeout)\n",
      "File \u001b[0;32m<string>:3\u001b[0m, in \u001b[0;36mraise_from\u001b[0;34m(value, from_value)\u001b[0m\n",
      "File \u001b[0;32m~/opt/anaconda3/envs/mume/lib/python3.8/site-packages/urllib3/connectionpool.py:444\u001b[0m, in \u001b[0;36mHTTPConnectionPool._make_request\u001b[0;34m(self, conn, method, url, timeout, chunked, **httplib_request_kw)\u001b[0m\n\u001b[1;32m    441\u001b[0m \u001b[39mexcept\u001b[39;00m \u001b[39mTypeError\u001b[39;00m:\n\u001b[1;32m    442\u001b[0m     \u001b[39m# Python 3\u001b[39;00m\n\u001b[1;32m    443\u001b[0m     \u001b[39mtry\u001b[39;00m:\n\u001b[0;32m--> 444\u001b[0m         httplib_response \u001b[39m=\u001b[39m conn\u001b[39m.\u001b[39;49mgetresponse()\n\u001b[1;32m    445\u001b[0m     \u001b[39mexcept\u001b[39;00m \u001b[39mBaseException\u001b[39;00m \u001b[39mas\u001b[39;00m e:\n\u001b[1;32m    446\u001b[0m         \u001b[39m# Remove the TypeError from the exception chain in\u001b[39;00m\n\u001b[1;32m    447\u001b[0m         \u001b[39m# Python 3 (including for exceptions like SystemExit).\u001b[39;00m\n\u001b[1;32m    448\u001b[0m         \u001b[39m# Otherwise it looks like a bug in the code.\u001b[39;00m\n\u001b[1;32m    449\u001b[0m         six\u001b[39m.\u001b[39mraise_from(e, \u001b[39mNone\u001b[39;00m)\n",
      "File \u001b[0;32m~/opt/anaconda3/envs/mume/lib/python3.8/http/client.py:1348\u001b[0m, in \u001b[0;36mHTTPConnection.getresponse\u001b[0;34m(self)\u001b[0m\n\u001b[1;32m   1346\u001b[0m \u001b[39mtry\u001b[39;00m:\n\u001b[1;32m   1347\u001b[0m     \u001b[39mtry\u001b[39;00m:\n\u001b[0;32m-> 1348\u001b[0m         response\u001b[39m.\u001b[39;49mbegin()\n\u001b[1;32m   1349\u001b[0m     \u001b[39mexcept\u001b[39;00m \u001b[39mConnectionError\u001b[39;00m:\n\u001b[1;32m   1350\u001b[0m         \u001b[39mself\u001b[39m\u001b[39m.\u001b[39mclose()\n",
      "File \u001b[0;32m~/opt/anaconda3/envs/mume/lib/python3.8/http/client.py:316\u001b[0m, in \u001b[0;36mHTTPResponse.begin\u001b[0;34m(self)\u001b[0m\n\u001b[1;32m    314\u001b[0m \u001b[39m# read until we get a non-100 response\u001b[39;00m\n\u001b[1;32m    315\u001b[0m \u001b[39mwhile\u001b[39;00m \u001b[39mTrue\u001b[39;00m:\n\u001b[0;32m--> 316\u001b[0m     version, status, reason \u001b[39m=\u001b[39m \u001b[39mself\u001b[39;49m\u001b[39m.\u001b[39;49m_read_status()\n\u001b[1;32m    317\u001b[0m     \u001b[39mif\u001b[39;00m status \u001b[39m!=\u001b[39m CONTINUE:\n\u001b[1;32m    318\u001b[0m         \u001b[39mbreak\u001b[39;00m\n",
      "File \u001b[0;32m~/opt/anaconda3/envs/mume/lib/python3.8/http/client.py:277\u001b[0m, in \u001b[0;36mHTTPResponse._read_status\u001b[0;34m(self)\u001b[0m\n\u001b[1;32m    276\u001b[0m \u001b[39mdef\u001b[39;00m \u001b[39m_read_status\u001b[39m(\u001b[39mself\u001b[39m):\n\u001b[0;32m--> 277\u001b[0m     line \u001b[39m=\u001b[39m \u001b[39mstr\u001b[39m(\u001b[39mself\u001b[39;49m\u001b[39m.\u001b[39;49mfp\u001b[39m.\u001b[39;49mreadline(_MAXLINE \u001b[39m+\u001b[39;49m \u001b[39m1\u001b[39;49m), \u001b[39m\"\u001b[39m\u001b[39miso-8859-1\u001b[39m\u001b[39m\"\u001b[39m)\n\u001b[1;32m    278\u001b[0m     \u001b[39mif\u001b[39;00m \u001b[39mlen\u001b[39m(line) \u001b[39m>\u001b[39m _MAXLINE:\n\u001b[1;32m    279\u001b[0m         \u001b[39mraise\u001b[39;00m LineTooLong(\u001b[39m\"\u001b[39m\u001b[39mstatus line\u001b[39m\u001b[39m\"\u001b[39m)\n",
      "File \u001b[0;32m~/opt/anaconda3/envs/mume/lib/python3.8/socket.py:669\u001b[0m, in \u001b[0;36mSocketIO.readinto\u001b[0;34m(self, b)\u001b[0m\n\u001b[1;32m    667\u001b[0m \u001b[39mwhile\u001b[39;00m \u001b[39mTrue\u001b[39;00m:\n\u001b[1;32m    668\u001b[0m     \u001b[39mtry\u001b[39;00m:\n\u001b[0;32m--> 669\u001b[0m         \u001b[39mreturn\u001b[39;00m \u001b[39mself\u001b[39;49m\u001b[39m.\u001b[39;49m_sock\u001b[39m.\u001b[39;49mrecv_into(b)\n\u001b[1;32m    670\u001b[0m     \u001b[39mexcept\u001b[39;00m timeout:\n\u001b[1;32m    671\u001b[0m         \u001b[39mself\u001b[39m\u001b[39m.\u001b[39m_timeout_occurred \u001b[39m=\u001b[39m \u001b[39mTrue\u001b[39;00m\n",
      "\u001b[0;31mKeyboardInterrupt\u001b[0m: "
     ]
    }
   ],
   "source": [
    "# title\n",
    "title_list = []\n",
    "\n",
    "# place\n",
    "place_list = []\n",
    "\n",
    "# date\n",
    "startAt_list = []\n",
    "endAt_list = []\n",
    "\n",
    "# price\n",
    "price_list = []\n",
    "\n",
    "# ageLimit\n",
    "ageLimit_list = []\n",
    "\n",
    "# main_img\n",
    "main_img_url_list = []\n",
    "\n",
    "for url in exhibition_url :\n",
    "    get_crawling_exhibition_info(url)\n",
    "    time.sleep(3)"
   ]
  },
  {
   "cell_type": "code",
   "execution_count": 83,
   "metadata": {},
   "outputs": [
    {
     "ename": "NameError",
     "evalue": "name 'title_list' is not defined",
     "output_type": "error",
     "traceback": [
      "\u001b[0;31m---------------------------------------------------------------------------\u001b[0m",
      "\u001b[0;31mNameError\u001b[0m                                 Traceback (most recent call last)",
      "Cell \u001b[0;32mIn[83], line 2\u001b[0m\n\u001b[1;32m      1\u001b[0m \u001b[39m# title\u001b[39;00m\n\u001b[0;32m----> 2\u001b[0m title_list\n",
      "\u001b[0;31mNameError\u001b[0m: name 'title_list' is not defined"
     ]
    }
   ],
   "source": [
    "# title\n",
    "title_list"
   ]
  },
  {
   "cell_type": "code",
   "execution_count": null,
   "metadata": {},
   "outputs": [],
   "source": [
    "# place\n",
    "place_list"
   ]
  },
  {
   "cell_type": "code",
   "execution_count": null,
   "metadata": {},
   "outputs": [],
   "source": [
    "# date\n",
    "startAt_list\n",
    "endAt_list"
   ]
  },
  {
   "cell_type": "code",
   "execution_count": null,
   "metadata": {},
   "outputs": [],
   "source": [
    "# price\n",
    "price_list"
   ]
  },
  {
   "cell_type": "code",
   "execution_count": null,
   "metadata": {},
   "outputs": [],
   "source": [
    "# ageLimit\n",
    "ageLimit_list"
   ]
  },
  {
   "cell_type": "code",
   "execution_count": null,
   "metadata": {},
   "outputs": [],
   "source": [
    "# main_img\n",
    "main_img_url_list"
   ]
  },
  {
   "cell_type": "code",
   "execution_count": null,
   "metadata": {},
   "outputs": [],
   "source": [
    "data = {\n",
    "        'title' : title_list,\n",
    "        'place' : place_list,\n",
    "        'startAt' : startAt_list,\n",
    "        'endAt' : endAt_list,\n",
    "        'price' : price_list,\n",
    "        'ageLimit' : ageLimit_list,\n",
    "        'main_img_url' : main_img_url_list\n",
    "        }\n",
    "\n",
    "df = pd.DataFrame(data)\n",
    "\n",
    "df"
   ]
  },
  {
   "cell_type": "code",
   "execution_count": null,
   "metadata": {},
   "outputs": [],
   "source": [
    "df.to_csv('exhibition.csv', index=False, encoding='utf-8-sig')"
   ]
  }
 ],
 "metadata": {
  "kernelspec": {
   "display_name": "mume",
   "language": "python",
   "name": "python3"
  },
  "language_info": {
   "codemirror_mode": {
    "name": "ipython",
    "version": 3
   },
   "file_extension": ".py",
   "mimetype": "text/x-python",
   "name": "python",
   "nbconvert_exporter": "python",
   "pygments_lexer": "ipython3",
   "version": "3.8.15"
  },
  "orig_nbformat": 4,
  "vscode": {
   "interpreter": {
    "hash": "0bb236f1bbaf4919c7840bf950b93226adb91e1985f4e4b01fecc02a73d7fe40"
   }
  }
 },
 "nbformat": 4,
 "nbformat_minor": 2
}
