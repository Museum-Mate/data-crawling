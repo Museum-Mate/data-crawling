{
 "cells": [
  {
   "attachments": {},
   "cell_type": "markdown",
   "metadata": {},
   "source": [
    "# Before Setting"
   ]
  },
  {
   "cell_type": "code",
   "execution_count": 4,
   "metadata": {},
   "outputs": [],
   "source": [
    "# 필요 라이브러리 다운로드\n",
    "import numpy as np\n",
    "import pandas as pd\n",
    "import requests\n",
    "import time\n",
    "import os\n",
    "import ssl\n",
    "\n",
    "from bs4 import BeautifulSoup\n",
    "from urllib.parse import quote\n",
    "from selenium import webdriver\n",
    "from collections import Counter"
   ]
  },
  {
   "cell_type": "code",
   "execution_count": 5,
   "metadata": {},
   "outputs": [
    {
     "name": "stdout",
     "output_type": "stream",
     "text": [
      "https://search.naver.com/search.naver?where=nexearch&sm=tab_etc&mra=bjBC&qvt=0&query=무료%20전시회\n"
     ]
    }
   ],
   "source": [
    "# 크롬 드라이버 생성\n",
    "driver = webdriver.Chrome(executable_path = '/Users/hyeonju/Desktop/data-crawling/chromedriver')\n",
    "\n",
    "# 크롤링 웹사이트 url 설정\n",
    "url = 'https://search.naver.com/search.naver?where=nexearch&sm=tab_etc&mra=bjBC&qvt=0&query=무료%20전시회'\n",
    "print(url)"
   ]
  },
  {
   "cell_type": "code",
   "execution_count": 6,
   "metadata": {},
   "outputs": [
    {
     "name": "stderr",
     "output_type": "stream",
     "text": [
      "/Users/hyeonju/opt/anaconda3/envs/mume/lib/python3.8/site-packages/urllib3/connectionpool.py:1045: InsecureRequestWarning: Unverified HTTPS request is being made to host 'search.naver.com'. Adding certificate verification is strongly advised. See: https://urllib3.readthedocs.io/en/1.26.x/advanced-usage.html#ssl-warnings\n",
      "  warnings.warn(\n"
     ]
    }
   ],
   "source": [
    "# case 1: requests로 데이터 요청하기\n",
    "# resp = requests.get(url)\n",
    "\n",
    "# case 2: SSL 인증 제외 사이트 요청 시\n",
    "resp = requests.get(url, verify=False)\n",
    "\n",
    "# 설정한 url 로 데이터 get 함수 요청\n",
    "driver.get(url)"
   ]
  },
  {
   "cell_type": "code",
   "execution_count": 132,
   "metadata": {},
   "outputs": [],
   "source": [
    "# # 화면상에서 스크롤 끝까지 내리기\n",
    "# SCROLL_PAUSE_SEC = 1\n",
    "\n",
    "# # 스크롤 높이 가져옴\n",
    "# last_height = driver.execute_script(\"return document.body.scrollHeight\")\n",
    "\n",
    "# while True:\n",
    "#     # 끝까지 스크롤 다운\n",
    "#     driver.execute_script(\"window.scrollTo(0, document.body.scrollHeight);\")\n",
    "\n",
    "#     # 1초 대기\n",
    "#     time.sleep(SCROLL_PAUSE_SEC)\n",
    "\n",
    "#     # 스크롤 다운 후 스크롤 높이 다시 가져옴\n",
    "#     new_height = driver.execute_script(\"return document.body.scrollHeight\")\n",
    "#     if new_height == last_height:\n",
    "#         break\n",
    "#     last_height = new_height\n",
    "\n",
    "# # click next page\n",
    "# # pagination xpath: /html/body/section/div[4]/div/div/form/div[2]/div[2]/ul\n",
    "#     next_page = driver.find_element_by_xpath()\n",
    "#     next_page.click()\n",
    "#     time.sleep(SCROLL_PAUSE_SEC)\n"
   ]
  },
  {
   "cell_type": "code",
   "execution_count": 8,
   "metadata": {},
   "outputs": [],
   "source": [
    "# 접근한 페이지의 소스코드를 텍스트로 저장 (Str)\n",
    "page_text = driver.page_source\n",
    "\n",
    "# page_text를 html list로 변환 \n",
    "html = BeautifulSoup(page_text, 'html.parser')\n",
    "\n",
    "# print(html.prettify(formatter=\"html5\"))"
   ]
  },
  {
   "attachments": {},
   "cell_type": "markdown",
   "metadata": {},
   "source": [
    "# 네이버 무료전시 url 추출 (리팩토링 필요)"
   ]
  },
  {
   "cell_type": "code",
   "execution_count": 14,
   "metadata": {},
   "outputs": [
    {
     "name": "stdout",
     "output_type": "stream",
     "text": [
      "전시회52개의 주소입니다.\n",
      "['?where=nexearch&sm=tab_etc&mra=bjBC&pkid=360&os=29664011&qvt=0&query=%EA%B0%A4%EB%9F%AC%EB%A6%AC%ED%83%9051%EA%B8%B0%EA%B0%90%EC%98%81%EC%A3%BC%EA%B0%9C%EC%9D%B8%EC%A0%84', '?where=nexearch&sm=tab_etc&mra=bjBC&pkid=360&os=29664009&qvt=0&query=%EA%B0%A4%EB%9F%AC%EB%A6%AC%ED%83%9051%EA%B8%B0%ED%86%A0%EC%9D%B4%EC%95%84%EC%B9%98%EA%B0%9C%EC%9D%B8%EC%A0%84', '?where=nexearch&sm=tab_etc&mra=bjBC&pkid=360&os=29664005&qvt=0&query=%EA%B0%A4%EB%9F%AC%EB%A6%AC%ED%83%9051%EA%B8%B0%EC%9D%B4%EC%9D%B4%EC%98%81%EA%B0%9C%EC%9D%B8%EC%A0%84', '?where=nexearch&sm=tab_etc&mra=bjBC&pkid=360&os=29663987&qvt=0&query=%EA%B0%A4%EB%9F%AC%EB%A6%AC%ED%83%9051%EA%B8%B0%EA%B9%80%EC%86%8C%EC%A0%95%EA%B0%9C%EC%9D%B8%EC%A0%84', '?where=nexearch&sm=tab_etc&mra=bjBC&pkid=360&os=29664011&qvt=0&query=%EA%B0%A4%EB%9F%AC%EB%A6%AC%ED%83%9051%EA%B8%B0%EA%B0%90%EC%98%81%EC%A3%BC%EA%B0%9C%EC%9D%B8%EC%A0%84', '?where=nexearch&sm=tab_etc&mra=bjBC&pkid=360&os=29664009&qvt=0&query=%EA%B0%A4%EB%9F%AC%EB%A6%AC%ED%83%9051%EA%B8%B0%ED%86%A0%EC%9D%B4%EC%95%84%EC%B9%98%EA%B0%9C%EC%9D%B8%EC%A0%84', '?where=nexearch&sm=tab_etc&mra=bjBC&pkid=360&os=29664005&qvt=0&query=%EA%B0%A4%EB%9F%AC%EB%A6%AC%ED%83%9051%EA%B8%B0%EC%9D%B4%EC%9D%B4%EC%98%81%EA%B0%9C%EC%9D%B8%EC%A0%84', '?where=nexearch&sm=tab_etc&mra=bjBC&pkid=360&os=29663987&qvt=0&query=%EA%B0%A4%EB%9F%AC%EB%A6%AC%ED%83%9051%EA%B8%B0%EA%B9%80%EC%86%8C%EC%A0%95%EA%B0%9C%EC%9D%B8%EC%A0%84', '?where=nexearch&sm=tab_etc&mra=bjBC&pkid=360&os=29664011&qvt=0&query=%EA%B0%A4%EB%9F%AC%EB%A6%AC%ED%83%9051%EA%B8%B0%EA%B0%90%EC%98%81%EC%A3%BC%EA%B0%9C%EC%9D%B8%EC%A0%84', '?where=nexearch&sm=tab_etc&mra=bjBC&pkid=360&os=29664009&qvt=0&query=%EA%B0%A4%EB%9F%AC%EB%A6%AC%ED%83%9051%EA%B8%B0%ED%86%A0%EC%9D%B4%EC%95%84%EC%B9%98%EA%B0%9C%EC%9D%B8%EC%A0%84', '?where=nexearch&sm=tab_etc&mra=bjBC&pkid=360&os=29664005&qvt=0&query=%EA%B0%A4%EB%9F%AC%EB%A6%AC%ED%83%9051%EA%B8%B0%EC%9D%B4%EC%9D%B4%EC%98%81%EA%B0%9C%EC%9D%B8%EC%A0%84', '?where=nexearch&sm=tab_etc&mra=bjBC&pkid=360&os=29663987&qvt=0&query=%EA%B0%A4%EB%9F%AC%EB%A6%AC%ED%83%9051%EA%B8%B0%EA%B9%80%EC%86%8C%EC%A0%95%EA%B0%9C%EC%9D%B8%EC%A0%84', '?where=nexearch&sm=tab_etc&mra=bjBC&pkid=360&os=29664011&qvt=0&query=%EA%B0%A4%EB%9F%AC%EB%A6%AC%ED%83%9051%EA%B8%B0%EA%B0%90%EC%98%81%EC%A3%BC%EA%B0%9C%EC%9D%B8%EC%A0%84', '?where=nexearch&sm=tab_etc&mra=bjBC&pkid=360&os=29664009&qvt=0&query=%EA%B0%A4%EB%9F%AC%EB%A6%AC%ED%83%9051%EA%B8%B0%ED%86%A0%EC%9D%B4%EC%95%84%EC%B9%98%EA%B0%9C%EC%9D%B8%EC%A0%84', '?where=nexearch&sm=tab_etc&mra=bjBC&pkid=360&os=29664005&qvt=0&query=%EA%B0%A4%EB%9F%AC%EB%A6%AC%ED%83%9051%EA%B8%B0%EC%9D%B4%EC%9D%B4%EC%98%81%EA%B0%9C%EC%9D%B8%EC%A0%84', '?where=nexearch&sm=tab_etc&mra=bjBC&pkid=360&os=29663987&qvt=0&query=%EA%B0%A4%EB%9F%AC%EB%A6%AC%ED%83%9051%EA%B8%B0%EA%B9%80%EC%86%8C%EC%A0%95%EA%B0%9C%EC%9D%B8%EC%A0%84', '?where=nexearch&sm=tab_etc&mra=bjBC&pkid=360&os=29664011&qvt=0&query=%EA%B0%A4%EB%9F%AC%EB%A6%AC%ED%83%9051%EA%B8%B0%EA%B0%90%EC%98%81%EC%A3%BC%EA%B0%9C%EC%9D%B8%EC%A0%84', '?where=nexearch&sm=tab_etc&mra=bjBC&pkid=360&os=29664009&qvt=0&query=%EA%B0%A4%EB%9F%AC%EB%A6%AC%ED%83%9051%EA%B8%B0%ED%86%A0%EC%9D%B4%EC%95%84%EC%B9%98%EA%B0%9C%EC%9D%B8%EC%A0%84', '?where=nexearch&sm=tab_etc&mra=bjBC&pkid=360&os=29664005&qvt=0&query=%EA%B0%A4%EB%9F%AC%EB%A6%AC%ED%83%9051%EA%B8%B0%EC%9D%B4%EC%9D%B4%EC%98%81%EA%B0%9C%EC%9D%B8%EC%A0%84', '?where=nexearch&sm=tab_etc&mra=bjBC&pkid=360&os=29663987&qvt=0&query=%EA%B0%A4%EB%9F%AC%EB%A6%AC%ED%83%9051%EA%B8%B0%EA%B9%80%EC%86%8C%EC%A0%95%EA%B0%9C%EC%9D%B8%EC%A0%84', '?where=nexearch&sm=tab_etc&mra=bjBC&pkid=360&os=29664011&qvt=0&query=%EA%B0%A4%EB%9F%AC%EB%A6%AC%ED%83%9051%EA%B8%B0%EA%B0%90%EC%98%81%EC%A3%BC%EA%B0%9C%EC%9D%B8%EC%A0%84', '?where=nexearch&sm=tab_etc&mra=bjBC&pkid=360&os=29664009&qvt=0&query=%EA%B0%A4%EB%9F%AC%EB%A6%AC%ED%83%9051%EA%B8%B0%ED%86%A0%EC%9D%B4%EC%95%84%EC%B9%98%EA%B0%9C%EC%9D%B8%EC%A0%84', '?where=nexearch&sm=tab_etc&mra=bjBC&pkid=360&os=29664005&qvt=0&query=%EA%B0%A4%EB%9F%AC%EB%A6%AC%ED%83%9051%EA%B8%B0%EC%9D%B4%EC%9D%B4%EC%98%81%EA%B0%9C%EC%9D%B8%EC%A0%84', '?where=nexearch&sm=tab_etc&mra=bjBC&pkid=360&os=29663987&qvt=0&query=%EA%B0%A4%EB%9F%AC%EB%A6%AC%ED%83%9051%EA%B8%B0%EA%B9%80%EC%86%8C%EC%A0%95%EA%B0%9C%EC%9D%B8%EC%A0%84', '?where=nexearch&sm=tab_etc&mra=bjBC&pkid=360&os=29664011&qvt=0&query=%EA%B0%A4%EB%9F%AC%EB%A6%AC%ED%83%9051%EA%B8%B0%EA%B0%90%EC%98%81%EC%A3%BC%EA%B0%9C%EC%9D%B8%EC%A0%84', '?where=nexearch&sm=tab_etc&mra=bjBC&pkid=360&os=29664009&qvt=0&query=%EA%B0%A4%EB%9F%AC%EB%A6%AC%ED%83%9051%EA%B8%B0%ED%86%A0%EC%9D%B4%EC%95%84%EC%B9%98%EA%B0%9C%EC%9D%B8%EC%A0%84', '?where=nexearch&sm=tab_etc&mra=bjBC&pkid=360&os=29664005&qvt=0&query=%EA%B0%A4%EB%9F%AC%EB%A6%AC%ED%83%9051%EA%B8%B0%EC%9D%B4%EC%9D%B4%EC%98%81%EA%B0%9C%EC%9D%B8%EC%A0%84', '?where=nexearch&sm=tab_etc&mra=bjBC&pkid=360&os=29663987&qvt=0&query=%EA%B0%A4%EB%9F%AC%EB%A6%AC%ED%83%9051%EA%B8%B0%EA%B9%80%EC%86%8C%EC%A0%95%EA%B0%9C%EC%9D%B8%EC%A0%84', '?where=nexearch&sm=tab_etc&mra=bjBC&pkid=360&os=29664011&qvt=0&query=%EA%B0%A4%EB%9F%AC%EB%A6%AC%ED%83%9051%EA%B8%B0%EA%B0%90%EC%98%81%EC%A3%BC%EA%B0%9C%EC%9D%B8%EC%A0%84', '?where=nexearch&sm=tab_etc&mra=bjBC&pkid=360&os=29664009&qvt=0&query=%EA%B0%A4%EB%9F%AC%EB%A6%AC%ED%83%9051%EA%B8%B0%ED%86%A0%EC%9D%B4%EC%95%84%EC%B9%98%EA%B0%9C%EC%9D%B8%EC%A0%84', '?where=nexearch&sm=tab_etc&mra=bjBC&pkid=360&os=29664005&qvt=0&query=%EA%B0%A4%EB%9F%AC%EB%A6%AC%ED%83%9051%EA%B8%B0%EC%9D%B4%EC%9D%B4%EC%98%81%EA%B0%9C%EC%9D%B8%EC%A0%84', '?where=nexearch&sm=tab_etc&mra=bjBC&pkid=360&os=29663987&qvt=0&query=%EA%B0%A4%EB%9F%AC%EB%A6%AC%ED%83%9051%EA%B8%B0%EA%B9%80%EC%86%8C%EC%A0%95%EA%B0%9C%EC%9D%B8%EC%A0%84', '?where=nexearch&sm=tab_etc&mra=bjBC&pkid=360&os=29664011&qvt=0&query=%EA%B0%A4%EB%9F%AC%EB%A6%AC%ED%83%9051%EA%B8%B0%EA%B0%90%EC%98%81%EC%A3%BC%EA%B0%9C%EC%9D%B8%EC%A0%84', '?where=nexearch&sm=tab_etc&mra=bjBC&pkid=360&os=29664009&qvt=0&query=%EA%B0%A4%EB%9F%AC%EB%A6%AC%ED%83%9051%EA%B8%B0%ED%86%A0%EC%9D%B4%EC%95%84%EC%B9%98%EA%B0%9C%EC%9D%B8%EC%A0%84', '?where=nexearch&sm=tab_etc&mra=bjBC&pkid=360&os=29664005&qvt=0&query=%EA%B0%A4%EB%9F%AC%EB%A6%AC%ED%83%9051%EA%B8%B0%EC%9D%B4%EC%9D%B4%EC%98%81%EA%B0%9C%EC%9D%B8%EC%A0%84', '?where=nexearch&sm=tab_etc&mra=bjBC&pkid=360&os=29663987&qvt=0&query=%EA%B0%A4%EB%9F%AC%EB%A6%AC%ED%83%9051%EA%B8%B0%EA%B9%80%EC%86%8C%EC%A0%95%EA%B0%9C%EC%9D%B8%EC%A0%84', '?where=nexearch&sm=tab_etc&mra=bjBC&pkid=360&os=29664011&qvt=0&query=%EA%B0%A4%EB%9F%AC%EB%A6%AC%ED%83%9051%EA%B8%B0%EA%B0%90%EC%98%81%EC%A3%BC%EA%B0%9C%EC%9D%B8%EC%A0%84', '?where=nexearch&sm=tab_etc&mra=bjBC&pkid=360&os=29664009&qvt=0&query=%EA%B0%A4%EB%9F%AC%EB%A6%AC%ED%83%9051%EA%B8%B0%ED%86%A0%EC%9D%B4%EC%95%84%EC%B9%98%EA%B0%9C%EC%9D%B8%EC%A0%84', '?where=nexearch&sm=tab_etc&mra=bjBC&pkid=360&os=29664005&qvt=0&query=%EA%B0%A4%EB%9F%AC%EB%A6%AC%ED%83%9051%EA%B8%B0%EC%9D%B4%EC%9D%B4%EC%98%81%EA%B0%9C%EC%9D%B8%EC%A0%84', '?where=nexearch&sm=tab_etc&mra=bjBC&pkid=360&os=29663987&qvt=0&query=%EA%B0%A4%EB%9F%AC%EB%A6%AC%ED%83%9051%EA%B8%B0%EA%B9%80%EC%86%8C%EC%A0%95%EA%B0%9C%EC%9D%B8%EC%A0%84', '?where=nexearch&sm=tab_etc&mra=bjBC&pkid=360&os=29664011&qvt=0&query=%EA%B0%A4%EB%9F%AC%EB%A6%AC%ED%83%9051%EA%B8%B0%EA%B0%90%EC%98%81%EC%A3%BC%EA%B0%9C%EC%9D%B8%EC%A0%84', '?where=nexearch&sm=tab_etc&mra=bjBC&pkid=360&os=29664009&qvt=0&query=%EA%B0%A4%EB%9F%AC%EB%A6%AC%ED%83%9051%EA%B8%B0%ED%86%A0%EC%9D%B4%EC%95%84%EC%B9%98%EA%B0%9C%EC%9D%B8%EC%A0%84', '?where=nexearch&sm=tab_etc&mra=bjBC&pkid=360&os=29664005&qvt=0&query=%EA%B0%A4%EB%9F%AC%EB%A6%AC%ED%83%9051%EA%B8%B0%EC%9D%B4%EC%9D%B4%EC%98%81%EA%B0%9C%EC%9D%B8%EC%A0%84', '?where=nexearch&sm=tab_etc&mra=bjBC&pkid=360&os=29663987&qvt=0&query=%EA%B0%A4%EB%9F%AC%EB%A6%AC%ED%83%9051%EA%B8%B0%EA%B9%80%EC%86%8C%EC%A0%95%EA%B0%9C%EC%9D%B8%EC%A0%84', '?where=nexearch&sm=tab_etc&mra=bjBC&pkid=360&os=29664011&qvt=0&query=%EA%B0%A4%EB%9F%AC%EB%A6%AC%ED%83%9051%EA%B8%B0%EA%B0%90%EC%98%81%EC%A3%BC%EA%B0%9C%EC%9D%B8%EC%A0%84', '?where=nexearch&sm=tab_etc&mra=bjBC&pkid=360&os=29664009&qvt=0&query=%EA%B0%A4%EB%9F%AC%EB%A6%AC%ED%83%9051%EA%B8%B0%ED%86%A0%EC%9D%B4%EC%95%84%EC%B9%98%EA%B0%9C%EC%9D%B8%EC%A0%84', '?where=nexearch&sm=tab_etc&mra=bjBC&pkid=360&os=29664005&qvt=0&query=%EA%B0%A4%EB%9F%AC%EB%A6%AC%ED%83%9051%EA%B8%B0%EC%9D%B4%EC%9D%B4%EC%98%81%EA%B0%9C%EC%9D%B8%EC%A0%84', '?where=nexearch&sm=tab_etc&mra=bjBC&pkid=360&os=29663987&qvt=0&query=%EA%B0%A4%EB%9F%AC%EB%A6%AC%ED%83%9051%EA%B8%B0%EA%B9%80%EC%86%8C%EC%A0%95%EA%B0%9C%EC%9D%B8%EC%A0%84', '?where=nexearch&sm=tab_etc&mra=bjBC&pkid=360&os=29664011&qvt=0&query=%EA%B0%A4%EB%9F%AC%EB%A6%AC%ED%83%9051%EA%B8%B0%EA%B0%90%EC%98%81%EC%A3%BC%EA%B0%9C%EC%9D%B8%EC%A0%84', '?where=nexearch&sm=tab_etc&mra=bjBC&pkid=360&os=29664009&qvt=0&query=%EA%B0%A4%EB%9F%AC%EB%A6%AC%ED%83%9051%EA%B8%B0%ED%86%A0%EC%9D%B4%EC%95%84%EC%B9%98%EA%B0%9C%EC%9D%B8%EC%A0%84', '?where=nexearch&sm=tab_etc&mra=bjBC&pkid=360&os=29664005&qvt=0&query=%EA%B0%A4%EB%9F%AC%EB%A6%AC%ED%83%9051%EA%B8%B0%EC%9D%B4%EC%9D%B4%EC%98%81%EA%B0%9C%EC%9D%B8%EC%A0%84', '?where=nexearch&sm=tab_etc&mra=bjBC&pkid=360&os=29663987&qvt=0&query=%EA%B0%A4%EB%9F%AC%EB%A6%AC%ED%83%9051%EA%B8%B0%EA%B9%80%EC%86%8C%EC%A0%95%EA%B0%9C%EC%9D%B8%EC%A0%84']\n"
     ]
    }
   ],
   "source": [
    "# raw url list\n",
    "# ✅ Selector: mflick > div > div > div > div > div:nth-child(1) > div.data_area > div > div.title > div > strong > a\n",
    "# /html/body/div[3]/div[2]/div/div[1]/div[2]/div[2]/div/div/div[3]/div/a[2]\n",
    "\n",
    "url=[]\n",
    "\n",
    "# 0\n",
    "for i in html.select('div.area_text_box > strong.this_text > a') :\n",
    "    urls = i.attrs['href']\n",
    "    url.append(urls)\n",
    "driver.find_element_by_xpath('//*[@id=\"main_pack\"]/div[2]/div[2]/div/div/div[3]/div/a[2]').click() #2\n",
    "\n",
    "# 1\n",
    "for i in html.select('div.area_text_box > strong.this_text > a') :\n",
    "    urls = i.attrs['href']\n",
    "    url.append(urls)\n",
    "driver.find_element_by_xpath('//*[@id=\"main_pack\"]/div[2]/div[2]/div/div/div[3]/div/a[2]').click() #2\n",
    "\n",
    "# 12, Last Page\n",
    "for i in html.select('div.area_text_box > strong.this_text > a') :\n",
    "    urls = i.attrs['href']\n",
    "    url.append(urls)\n",
    "driver.find_element_by_xpath('//*[@id=\"main_pack\"]/div[2]/div[2]/div/div/div[3]/div/a[2]').click() #2\n",
    "\n",
    "print(f\"전시회{len(url)}개의 주소입니다.\")\n",
    "\n",
    "print(url)"
   ]
  },
  {
   "cell_type": "code",
   "execution_count": 136,
   "metadata": {},
   "outputs": [
    {
     "name": "stdout",
     "output_type": "stream",
     "text": [
      "네이버 무료 전시 페이지의 52개의 주소입니다\n",
      "['https://search.naver.com/search.naver?where=nexearch&sm=tab_etc&mra=bjBC&pkid=360&os=29664011&qvt=0&query=%EA%B0%A4%EB%9F%AC%EB%A6%AC%ED%83%9051%EA%B8%B0%EA%B0%90%EC%98%81%EC%A3%BC%EA%B0%9C%EC%9D%B8%EC%A0%84', 'https://search.naver.com/search.naver?where=nexearch&sm=tab_etc&mra=bjBC&pkid=360&os=29664009&qvt=0&query=%EA%B0%A4%EB%9F%AC%EB%A6%AC%ED%83%9051%EA%B8%B0%ED%86%A0%EC%9D%B4%EC%95%84%EC%B9%98%EA%B0%9C%EC%9D%B8%EC%A0%84', 'https://search.naver.com/search.naver?where=nexearch&sm=tab_etc&mra=bjBC&pkid=360&os=29664005&qvt=0&query=%EA%B0%A4%EB%9F%AC%EB%A6%AC%ED%83%9051%EA%B8%B0%EC%9D%B4%EC%9D%B4%EC%98%81%EA%B0%9C%EC%9D%B8%EC%A0%84', 'https://search.naver.com/search.naver?where=nexearch&sm=tab_etc&mra=bjBC&pkid=360&os=29663987&qvt=0&query=%EA%B0%A4%EB%9F%AC%EB%A6%AC%ED%83%9051%EA%B8%B0%EA%B9%80%EC%86%8C%EC%A0%95%EA%B0%9C%EC%9D%B8%EC%A0%84', 'https://search.naver.com/search.naver?where=nexearch&sm=tab_etc&mra=bjBC&pkid=360&os=29664011&qvt=0&query=%EA%B0%A4%EB%9F%AC%EB%A6%AC%ED%83%9051%EA%B8%B0%EA%B0%90%EC%98%81%EC%A3%BC%EA%B0%9C%EC%9D%B8%EC%A0%84', 'https://search.naver.com/search.naver?where=nexearch&sm=tab_etc&mra=bjBC&pkid=360&os=29664009&qvt=0&query=%EA%B0%A4%EB%9F%AC%EB%A6%AC%ED%83%9051%EA%B8%B0%ED%86%A0%EC%9D%B4%EC%95%84%EC%B9%98%EA%B0%9C%EC%9D%B8%EC%A0%84', 'https://search.naver.com/search.naver?where=nexearch&sm=tab_etc&mra=bjBC&pkid=360&os=29664005&qvt=0&query=%EA%B0%A4%EB%9F%AC%EB%A6%AC%ED%83%9051%EA%B8%B0%EC%9D%B4%EC%9D%B4%EC%98%81%EA%B0%9C%EC%9D%B8%EC%A0%84', 'https://search.naver.com/search.naver?where=nexearch&sm=tab_etc&mra=bjBC&pkid=360&os=29663987&qvt=0&query=%EA%B0%A4%EB%9F%AC%EB%A6%AC%ED%83%9051%EA%B8%B0%EA%B9%80%EC%86%8C%EC%A0%95%EA%B0%9C%EC%9D%B8%EC%A0%84', 'https://search.naver.com/search.naver?where=nexearch&sm=tab_etc&mra=bjBC&pkid=360&os=29664011&qvt=0&query=%EA%B0%A4%EB%9F%AC%EB%A6%AC%ED%83%9051%EA%B8%B0%EA%B0%90%EC%98%81%EC%A3%BC%EA%B0%9C%EC%9D%B8%EC%A0%84', 'https://search.naver.com/search.naver?where=nexearch&sm=tab_etc&mra=bjBC&pkid=360&os=29664009&qvt=0&query=%EA%B0%A4%EB%9F%AC%EB%A6%AC%ED%83%9051%EA%B8%B0%ED%86%A0%EC%9D%B4%EC%95%84%EC%B9%98%EA%B0%9C%EC%9D%B8%EC%A0%84', 'https://search.naver.com/search.naver?where=nexearch&sm=tab_etc&mra=bjBC&pkid=360&os=29664005&qvt=0&query=%EA%B0%A4%EB%9F%AC%EB%A6%AC%ED%83%9051%EA%B8%B0%EC%9D%B4%EC%9D%B4%EC%98%81%EA%B0%9C%EC%9D%B8%EC%A0%84', 'https://search.naver.com/search.naver?where=nexearch&sm=tab_etc&mra=bjBC&pkid=360&os=29663987&qvt=0&query=%EA%B0%A4%EB%9F%AC%EB%A6%AC%ED%83%9051%EA%B8%B0%EA%B9%80%EC%86%8C%EC%A0%95%EA%B0%9C%EC%9D%B8%EC%A0%84', 'https://search.naver.com/search.naver?where=nexearch&sm=tab_etc&mra=bjBC&pkid=360&os=29664011&qvt=0&query=%EA%B0%A4%EB%9F%AC%EB%A6%AC%ED%83%9051%EA%B8%B0%EA%B0%90%EC%98%81%EC%A3%BC%EA%B0%9C%EC%9D%B8%EC%A0%84', 'https://search.naver.com/search.naver?where=nexearch&sm=tab_etc&mra=bjBC&pkid=360&os=29664009&qvt=0&query=%EA%B0%A4%EB%9F%AC%EB%A6%AC%ED%83%9051%EA%B8%B0%ED%86%A0%EC%9D%B4%EC%95%84%EC%B9%98%EA%B0%9C%EC%9D%B8%EC%A0%84', 'https://search.naver.com/search.naver?where=nexearch&sm=tab_etc&mra=bjBC&pkid=360&os=29664005&qvt=0&query=%EA%B0%A4%EB%9F%AC%EB%A6%AC%ED%83%9051%EA%B8%B0%EC%9D%B4%EC%9D%B4%EC%98%81%EA%B0%9C%EC%9D%B8%EC%A0%84', 'https://search.naver.com/search.naver?where=nexearch&sm=tab_etc&mra=bjBC&pkid=360&os=29663987&qvt=0&query=%EA%B0%A4%EB%9F%AC%EB%A6%AC%ED%83%9051%EA%B8%B0%EA%B9%80%EC%86%8C%EC%A0%95%EA%B0%9C%EC%9D%B8%EC%A0%84', 'https://search.naver.com/search.naver?where=nexearch&sm=tab_etc&mra=bjBC&pkid=360&os=29664011&qvt=0&query=%EA%B0%A4%EB%9F%AC%EB%A6%AC%ED%83%9051%EA%B8%B0%EA%B0%90%EC%98%81%EC%A3%BC%EA%B0%9C%EC%9D%B8%EC%A0%84', 'https://search.naver.com/search.naver?where=nexearch&sm=tab_etc&mra=bjBC&pkid=360&os=29664009&qvt=0&query=%EA%B0%A4%EB%9F%AC%EB%A6%AC%ED%83%9051%EA%B8%B0%ED%86%A0%EC%9D%B4%EC%95%84%EC%B9%98%EA%B0%9C%EC%9D%B8%EC%A0%84', 'https://search.naver.com/search.naver?where=nexearch&sm=tab_etc&mra=bjBC&pkid=360&os=29664005&qvt=0&query=%EA%B0%A4%EB%9F%AC%EB%A6%AC%ED%83%9051%EA%B8%B0%EC%9D%B4%EC%9D%B4%EC%98%81%EA%B0%9C%EC%9D%B8%EC%A0%84', 'https://search.naver.com/search.naver?where=nexearch&sm=tab_etc&mra=bjBC&pkid=360&os=29663987&qvt=0&query=%EA%B0%A4%EB%9F%AC%EB%A6%AC%ED%83%9051%EA%B8%B0%EA%B9%80%EC%86%8C%EC%A0%95%EA%B0%9C%EC%9D%B8%EC%A0%84', 'https://search.naver.com/search.naver?where=nexearch&sm=tab_etc&mra=bjBC&pkid=360&os=29664011&qvt=0&query=%EA%B0%A4%EB%9F%AC%EB%A6%AC%ED%83%9051%EA%B8%B0%EA%B0%90%EC%98%81%EC%A3%BC%EA%B0%9C%EC%9D%B8%EC%A0%84', 'https://search.naver.com/search.naver?where=nexearch&sm=tab_etc&mra=bjBC&pkid=360&os=29664009&qvt=0&query=%EA%B0%A4%EB%9F%AC%EB%A6%AC%ED%83%9051%EA%B8%B0%ED%86%A0%EC%9D%B4%EC%95%84%EC%B9%98%EA%B0%9C%EC%9D%B8%EC%A0%84', 'https://search.naver.com/search.naver?where=nexearch&sm=tab_etc&mra=bjBC&pkid=360&os=29664005&qvt=0&query=%EA%B0%A4%EB%9F%AC%EB%A6%AC%ED%83%9051%EA%B8%B0%EC%9D%B4%EC%9D%B4%EC%98%81%EA%B0%9C%EC%9D%B8%EC%A0%84', 'https://search.naver.com/search.naver?where=nexearch&sm=tab_etc&mra=bjBC&pkid=360&os=29663987&qvt=0&query=%EA%B0%A4%EB%9F%AC%EB%A6%AC%ED%83%9051%EA%B8%B0%EA%B9%80%EC%86%8C%EC%A0%95%EA%B0%9C%EC%9D%B8%EC%A0%84', 'https://search.naver.com/search.naver?where=nexearch&sm=tab_etc&mra=bjBC&pkid=360&os=29664011&qvt=0&query=%EA%B0%A4%EB%9F%AC%EB%A6%AC%ED%83%9051%EA%B8%B0%EA%B0%90%EC%98%81%EC%A3%BC%EA%B0%9C%EC%9D%B8%EC%A0%84', 'https://search.naver.com/search.naver?where=nexearch&sm=tab_etc&mra=bjBC&pkid=360&os=29664009&qvt=0&query=%EA%B0%A4%EB%9F%AC%EB%A6%AC%ED%83%9051%EA%B8%B0%ED%86%A0%EC%9D%B4%EC%95%84%EC%B9%98%EA%B0%9C%EC%9D%B8%EC%A0%84', 'https://search.naver.com/search.naver?where=nexearch&sm=tab_etc&mra=bjBC&pkid=360&os=29664005&qvt=0&query=%EA%B0%A4%EB%9F%AC%EB%A6%AC%ED%83%9051%EA%B8%B0%EC%9D%B4%EC%9D%B4%EC%98%81%EA%B0%9C%EC%9D%B8%EC%A0%84', 'https://search.naver.com/search.naver?where=nexearch&sm=tab_etc&mra=bjBC&pkid=360&os=29663987&qvt=0&query=%EA%B0%A4%EB%9F%AC%EB%A6%AC%ED%83%9051%EA%B8%B0%EA%B9%80%EC%86%8C%EC%A0%95%EA%B0%9C%EC%9D%B8%EC%A0%84', 'https://search.naver.com/search.naver?where=nexearch&sm=tab_etc&mra=bjBC&pkid=360&os=29664011&qvt=0&query=%EA%B0%A4%EB%9F%AC%EB%A6%AC%ED%83%9051%EA%B8%B0%EA%B0%90%EC%98%81%EC%A3%BC%EA%B0%9C%EC%9D%B8%EC%A0%84', 'https://search.naver.com/search.naver?where=nexearch&sm=tab_etc&mra=bjBC&pkid=360&os=29664009&qvt=0&query=%EA%B0%A4%EB%9F%AC%EB%A6%AC%ED%83%9051%EA%B8%B0%ED%86%A0%EC%9D%B4%EC%95%84%EC%B9%98%EA%B0%9C%EC%9D%B8%EC%A0%84', 'https://search.naver.com/search.naver?where=nexearch&sm=tab_etc&mra=bjBC&pkid=360&os=29664005&qvt=0&query=%EA%B0%A4%EB%9F%AC%EB%A6%AC%ED%83%9051%EA%B8%B0%EC%9D%B4%EC%9D%B4%EC%98%81%EA%B0%9C%EC%9D%B8%EC%A0%84', 'https://search.naver.com/search.naver?where=nexearch&sm=tab_etc&mra=bjBC&pkid=360&os=29663987&qvt=0&query=%EA%B0%A4%EB%9F%AC%EB%A6%AC%ED%83%9051%EA%B8%B0%EA%B9%80%EC%86%8C%EC%A0%95%EA%B0%9C%EC%9D%B8%EC%A0%84', 'https://search.naver.com/search.naver?where=nexearch&sm=tab_etc&mra=bjBC&pkid=360&os=29664011&qvt=0&query=%EA%B0%A4%EB%9F%AC%EB%A6%AC%ED%83%9051%EA%B8%B0%EA%B0%90%EC%98%81%EC%A3%BC%EA%B0%9C%EC%9D%B8%EC%A0%84', 'https://search.naver.com/search.naver?where=nexearch&sm=tab_etc&mra=bjBC&pkid=360&os=29664009&qvt=0&query=%EA%B0%A4%EB%9F%AC%EB%A6%AC%ED%83%9051%EA%B8%B0%ED%86%A0%EC%9D%B4%EC%95%84%EC%B9%98%EA%B0%9C%EC%9D%B8%EC%A0%84', 'https://search.naver.com/search.naver?where=nexearch&sm=tab_etc&mra=bjBC&pkid=360&os=29664005&qvt=0&query=%EA%B0%A4%EB%9F%AC%EB%A6%AC%ED%83%9051%EA%B8%B0%EC%9D%B4%EC%9D%B4%EC%98%81%EA%B0%9C%EC%9D%B8%EC%A0%84', 'https://search.naver.com/search.naver?where=nexearch&sm=tab_etc&mra=bjBC&pkid=360&os=29663987&qvt=0&query=%EA%B0%A4%EB%9F%AC%EB%A6%AC%ED%83%9051%EA%B8%B0%EA%B9%80%EC%86%8C%EC%A0%95%EA%B0%9C%EC%9D%B8%EC%A0%84', 'https://search.naver.com/search.naver?where=nexearch&sm=tab_etc&mra=bjBC&pkid=360&os=29664011&qvt=0&query=%EA%B0%A4%EB%9F%AC%EB%A6%AC%ED%83%9051%EA%B8%B0%EA%B0%90%EC%98%81%EC%A3%BC%EA%B0%9C%EC%9D%B8%EC%A0%84', 'https://search.naver.com/search.naver?where=nexearch&sm=tab_etc&mra=bjBC&pkid=360&os=29664009&qvt=0&query=%EA%B0%A4%EB%9F%AC%EB%A6%AC%ED%83%9051%EA%B8%B0%ED%86%A0%EC%9D%B4%EC%95%84%EC%B9%98%EA%B0%9C%EC%9D%B8%EC%A0%84', 'https://search.naver.com/search.naver?where=nexearch&sm=tab_etc&mra=bjBC&pkid=360&os=29664005&qvt=0&query=%EA%B0%A4%EB%9F%AC%EB%A6%AC%ED%83%9051%EA%B8%B0%EC%9D%B4%EC%9D%B4%EC%98%81%EA%B0%9C%EC%9D%B8%EC%A0%84', 'https://search.naver.com/search.naver?where=nexearch&sm=tab_etc&mra=bjBC&pkid=360&os=29663987&qvt=0&query=%EA%B0%A4%EB%9F%AC%EB%A6%AC%ED%83%9051%EA%B8%B0%EA%B9%80%EC%86%8C%EC%A0%95%EA%B0%9C%EC%9D%B8%EC%A0%84', 'https://search.naver.com/search.naver?where=nexearch&sm=tab_etc&mra=bjBC&pkid=360&os=29664011&qvt=0&query=%EA%B0%A4%EB%9F%AC%EB%A6%AC%ED%83%9051%EA%B8%B0%EA%B0%90%EC%98%81%EC%A3%BC%EA%B0%9C%EC%9D%B8%EC%A0%84', 'https://search.naver.com/search.naver?where=nexearch&sm=tab_etc&mra=bjBC&pkid=360&os=29664009&qvt=0&query=%EA%B0%A4%EB%9F%AC%EB%A6%AC%ED%83%9051%EA%B8%B0%ED%86%A0%EC%9D%B4%EC%95%84%EC%B9%98%EA%B0%9C%EC%9D%B8%EC%A0%84', 'https://search.naver.com/search.naver?where=nexearch&sm=tab_etc&mra=bjBC&pkid=360&os=29664005&qvt=0&query=%EA%B0%A4%EB%9F%AC%EB%A6%AC%ED%83%9051%EA%B8%B0%EC%9D%B4%EC%9D%B4%EC%98%81%EA%B0%9C%EC%9D%B8%EC%A0%84', 'https://search.naver.com/search.naver?where=nexearch&sm=tab_etc&mra=bjBC&pkid=360&os=29663987&qvt=0&query=%EA%B0%A4%EB%9F%AC%EB%A6%AC%ED%83%9051%EA%B8%B0%EA%B9%80%EC%86%8C%EC%A0%95%EA%B0%9C%EC%9D%B8%EC%A0%84', 'https://search.naver.com/search.naver?where=nexearch&sm=tab_etc&mra=bjBC&pkid=360&os=29664011&qvt=0&query=%EA%B0%A4%EB%9F%AC%EB%A6%AC%ED%83%9051%EA%B8%B0%EA%B0%90%EC%98%81%EC%A3%BC%EA%B0%9C%EC%9D%B8%EC%A0%84', 'https://search.naver.com/search.naver?where=nexearch&sm=tab_etc&mra=bjBC&pkid=360&os=29664009&qvt=0&query=%EA%B0%A4%EB%9F%AC%EB%A6%AC%ED%83%9051%EA%B8%B0%ED%86%A0%EC%9D%B4%EC%95%84%EC%B9%98%EA%B0%9C%EC%9D%B8%EC%A0%84', 'https://search.naver.com/search.naver?where=nexearch&sm=tab_etc&mra=bjBC&pkid=360&os=29664005&qvt=0&query=%EA%B0%A4%EB%9F%AC%EB%A6%AC%ED%83%9051%EA%B8%B0%EC%9D%B4%EC%9D%B4%EC%98%81%EA%B0%9C%EC%9D%B8%EC%A0%84', 'https://search.naver.com/search.naver?where=nexearch&sm=tab_etc&mra=bjBC&pkid=360&os=29663987&qvt=0&query=%EA%B0%A4%EB%9F%AC%EB%A6%AC%ED%83%9051%EA%B8%B0%EA%B9%80%EC%86%8C%EC%A0%95%EA%B0%9C%EC%9D%B8%EC%A0%84', 'https://search.naver.com/search.naver?where=nexearch&sm=tab_etc&mra=bjBC&pkid=360&os=29664011&qvt=0&query=%EA%B0%A4%EB%9F%AC%EB%A6%AC%ED%83%9051%EA%B8%B0%EA%B0%90%EC%98%81%EC%A3%BC%EA%B0%9C%EC%9D%B8%EC%A0%84', 'https://search.naver.com/search.naver?where=nexearch&sm=tab_etc&mra=bjBC&pkid=360&os=29664009&qvt=0&query=%EA%B0%A4%EB%9F%AC%EB%A6%AC%ED%83%9051%EA%B8%B0%ED%86%A0%EC%9D%B4%EC%95%84%EC%B9%98%EA%B0%9C%EC%9D%B8%EC%A0%84', 'https://search.naver.com/search.naver?where=nexearch&sm=tab_etc&mra=bjBC&pkid=360&os=29664005&qvt=0&query=%EA%B0%A4%EB%9F%AC%EB%A6%AC%ED%83%9051%EA%B8%B0%EC%9D%B4%EC%9D%B4%EC%98%81%EA%B0%9C%EC%9D%B8%EC%A0%84', 'https://search.naver.com/search.naver?where=nexearch&sm=tab_etc&mra=bjBC&pkid=360&os=29663987&qvt=0&query=%EA%B0%A4%EB%9F%AC%EB%A6%AC%ED%83%9051%EA%B8%B0%EA%B9%80%EC%86%8C%EC%A0%95%EA%B0%9C%EC%9D%B8%EC%A0%84']\n"
     ]
    }
   ],
   "source": [
    "# https://search.naver.com/search.naver 붙여서 url 만들기\n",
    "# ✅ Selector:\n",
    "\n",
    "free_exhibition_url = []\n",
    "for i in url :\n",
    "  free_exhibition_url.append(f'https://search.naver.com/search.naver{i}')\n",
    "\n",
    "print(f\"네이버 무료 전시 페이지의 {len(free_exhibition_url)}개의 주소입니다\")\n",
    "print(free_exhibition_url)"
   ]
  },
  {
   "attachments": {},
   "cell_type": "markdown",
   "metadata": {},
   "source": [
    "---\n",
    "# 🛠 데이터 추출 테스트"
   ]
  },
  {
   "cell_type": "code",
   "execution_count": 137,
   "metadata": {},
   "outputs": [],
   "source": [
    "# Page 1, first card exhibition data crawling\n",
    "\n",
    "exhibition_url_1_1 = free_exhibition_url[0]\n",
    "\n",
    "request = requests.get(exhibition_url_1_1)\n",
    "\n",
    "driver.get(exhibition_url_1_1)"
   ]
  },
  {
   "cell_type": "code",
   "execution_count": 138,
   "metadata": {},
   "outputs": [],
   "source": [
    "# 접근한 페이지의 소스코드를 텍스트로 저장 (Str)\n",
    "html_text = driver.page_source\n",
    "\n",
    "# page_text를 html list로 변환 \n",
    "html = BeautifulSoup(html_text, 'html.parser')"
   ]
  },
  {
   "cell_type": "code",
   "execution_count": 139,
   "metadata": {},
   "outputs": [
    {
     "name": "stdout",
     "output_type": "stream",
     "text": [
      "갤러리탐 51기 : 감영주 개인전\n"
     ]
    }
   ],
   "source": [
    "# selector: \n",
    "# main_pack > div.sc_new.cs_common_module.case_normal.color_23._kgs_art_exhibition > div.cm_top_wrap._sticky._custom_select._header > div.title_area._title_area > h2 > span.area_text_title > strong > a\n",
    "\n",
    "# 제목\n",
    "title_1_1 = html.select_one('div.title_area._title_area > h2 > span.area_text_title > strong > a').text\n",
    "print(title_1_1)\n"
   ]
  },
  {
   "cell_type": "code",
   "execution_count": 140,
   "metadata": {},
   "outputs": [
    {
     "name": "stdout",
     "output_type": "stream",
     "text": [
      "탐앤탐스 창동본점\n"
     ]
    }
   ],
   "source": [
    "# 장소\n",
    "# main_pack > div.sc_new.cs_common_module.case_normal.color_23._kgs_art_exhibition > div.cm_content_wrap > div.cm_content_area._cm_content_area_info > div > div.detail_info > dl > div:nth-child(4) > dd > a\n",
    "place_1_1 = html.select_one('dl.info > div:nth-child(4) > dd > a').text\n",
    "print(place_1_1)\n"
   ]
  },
  {
   "cell_type": "code",
   "execution_count": 141,
   "metadata": {},
   "outputs": [
    {
     "name": "stdout",
     "output_type": "stream",
     "text": [
      "전체 기간: 2023.01.04.(수) ~ 2023.04.03.(월)\n",
      "전시 시작일 : 2023.01.04.(수)\n",
      "전시 종료일 :  2023.04.03.(월)\n"
     ]
    }
   ],
   "source": [
    "# 날짜\n",
    "# main_pack > div.sc_new.cs_common_module.case_normal.color_23._kgs_art_exhibition > div.cm_content_wrap > div.cm_content_area._cm_content_area_info > div > div.detail_info > dl > div:nth-child(2) > dd\n",
    "data_1_1 = html.select_one('dl.info > div:nth-child(2) > dd').text\n",
    "print(f'전체 기간: {data_1_1}')\n",
    "\n",
    "startAt_1_1 = data_1_1.split(' ~')[0]\n",
    "print(f'전시 시작일 : {startAt_1_1}')\n",
    "\n",
    "endAt_1_1 = data_1_1.split(' ~')[1]\n",
    "print(f'전시 종료일 : {endAt_1_1}')"
   ]
  },
  {
   "cell_type": "code",
   "execution_count": 142,
   "metadata": {},
   "outputs": [],
   "source": [
    "# 연령 제한\n",
    "# 해당 정보 존재하지 않아 pass"
   ]
  },
  {
   "cell_type": "code",
   "execution_count": 143,
   "metadata": {},
   "outputs": [],
   "source": [
    "# price\n",
    "# 무료, 별도로 추출하지 않음"
   ]
  },
  {
   "cell_type": "code",
   "execution_count": 144,
   "metadata": {},
   "outputs": [
    {
     "data": {
      "text/plain": [
       "'https://shopping.naver.com/art/stores/100254411/news/5000163495'"
      ]
     },
     "execution_count": 144,
     "metadata": {},
     "output_type": "execute_result"
    }
   ],
   "source": [
    "# 전시 주최측 제공 url\n",
    "# main_pack > div.sc_new.cs_common_module.case_normal.color_23._kgs_art_exhibition > div.cm_top_wrap._sticky._custom_select._header > div.title_area._title_area > h2 > span.area_text_title > strong > a\n",
    "url_1_1 = html.select_one('span.area_text_title > strong > a').attrs['href']\n",
    "url_1_1\n"
   ]
  },
  {
   "attachments": {},
   "cell_type": "markdown",
   "metadata": {},
   "source": [
    "# 자동화"
   ]
  },
  {
   "attachments": {},
   "cell_type": "markdown",
   "metadata": {},
   "source": [
    "### 1. 세부 메서드"
   ]
  },
  {
   "attachments": {},
   "cell_type": "markdown",
   "metadata": {},
   "source": [
    "### 2. 통합 메서드"
   ]
  },
  {
   "cell_type": "code",
   "execution_count": 145,
   "metadata": {},
   "outputs": [],
   "source": [
    "def get_crawling_exhibition_info(url):\n",
    "\n",
    "  print(f'url : {url}')\n",
    "    \n",
    "  resp = requests.get(url)\n",
    "    \n",
    "  print(f'resp : {resp}')\n",
    "    \n",
    "  driver.get (url)\n",
    "\n",
    "  page_text = driver.page_source\n",
    "\n",
    "  html = BeautifulSoup(page_text, 'html.parser')\n",
    "\n",
    "  # get title\n",
    "  title = html.select_one('div.title_area._title_area > h2 > span.area_text_title > strong > a').text\n",
    "  \n",
    "  # get place\n",
    "  place = html.select_one('dl.info > div:nth-child(4) > dd > a').text\n",
    "  \n",
    "  # get starting date, ending date\n",
    "  date = html.select_one('dl.info > div:nth-child(2) > dd').text\n",
    "  startAt = date.split(' ~')[0]\n",
    "  endAt = date.split(' ~')[1]\n",
    "  \n",
    "  # get detail information url\n",
    "  detail_info_url = html.select_one('span.area_text_title > strong > a').attrs['href']\n",
    "\n",
    "  \n",
    "\n",
    "  # append\n",
    "  title_list.append(title)\n",
    "  place_list.append(place)\n",
    "  startAt_list.append(startAt)\n",
    "  endAt_list.append(endAt)\n",
    "  detail_info_url_list.append(detail_info_url)"
   ]
  },
  {
   "attachments": {},
   "cell_type": "markdown",
   "metadata": {},
   "source": [
    "# 크롤링 실행"
   ]
  },
  {
   "cell_type": "code",
   "execution_count": 146,
   "metadata": {},
   "outputs": [
    {
     "name": "stdout",
     "output_type": "stream",
     "text": [
      "url : https://search.naver.com/search.naver?where=nexearch&sm=tab_etc&mra=bjBC&pkid=360&os=29664011&qvt=0&query=%EA%B0%A4%EB%9F%AC%EB%A6%AC%ED%83%9051%EA%B8%B0%EA%B0%90%EC%98%81%EC%A3%BC%EA%B0%9C%EC%9D%B8%EC%A0%84\n",
      "resp : <Response [200]>\n",
      "url : https://search.naver.com/search.naver?where=nexearch&sm=tab_etc&mra=bjBC&pkid=360&os=29664009&qvt=0&query=%EA%B0%A4%EB%9F%AC%EB%A6%AC%ED%83%9051%EA%B8%B0%ED%86%A0%EC%9D%B4%EC%95%84%EC%B9%98%EA%B0%9C%EC%9D%B8%EC%A0%84\n",
      "resp : <Response [200]>\n",
      "url : https://search.naver.com/search.naver?where=nexearch&sm=tab_etc&mra=bjBC&pkid=360&os=29664005&qvt=0&query=%EA%B0%A4%EB%9F%AC%EB%A6%AC%ED%83%9051%EA%B8%B0%EC%9D%B4%EC%9D%B4%EC%98%81%EA%B0%9C%EC%9D%B8%EC%A0%84\n",
      "resp : <Response [200]>\n"
     ]
    }
   ],
   "source": [
    "# title\n",
    "title_list = []\n",
    "\n",
    "# place\n",
    "place_list = []\n",
    "\n",
    "# date\n",
    "startAt_list = []\n",
    "endAt_list = []\n",
    "\n",
    "# detail_info_url_list\n",
    "detail_info_url_list = []\n",
    "\n",
    "for url in free_exhibition_url :\n",
    "    get_crawling_exhibition_info(url)\n",
    "    time.sleep(3)"
   ]
  },
  {
   "attachments": {},
   "cell_type": "markdown",
   "metadata": {},
   "source": [
    "# 크롤링 데이터 확인"
   ]
  },
  {
   "cell_type": "code",
   "execution_count": null,
   "metadata": {},
   "outputs": [],
   "source": [
    "# Verify title list\n",
    "title_list"
   ]
  },
  {
   "cell_type": "code",
   "execution_count": null,
   "metadata": {},
   "outputs": [],
   "source": [
    "# Verify place list\n",
    "place_list"
   ]
  },
  {
   "cell_type": "code",
   "execution_count": null,
   "metadata": {},
   "outputs": [],
   "source": [
    "# Verify start date list\n",
    "startAt_list"
   ]
  },
  {
   "cell_type": "code",
   "execution_count": null,
   "metadata": {},
   "outputs": [],
   "source": [
    "# Verify end date list \n",
    "endAt_list"
   ]
  },
  {
   "cell_type": "code",
   "execution_count": null,
   "metadata": {},
   "outputs": [],
   "source": [
    "# Verify detail_info_url list\n",
    "detail_info_url_list"
   ]
  },
  {
   "attachments": {},
   "cell_type": "markdown",
   "metadata": {},
   "source": [
    "# DataFrame"
   ]
  },
  {
   "cell_type": "code",
   "execution_count": null,
   "metadata": {},
   "outputs": [],
   "source": [
    "data = {\n",
    "  'title': title_list,\n",
    "  'place': place_list,\n",
    "  'startAt': startAt_list,\n",
    "  'endAt': endAt_list,\n",
    "  'detail_info_url': detail_info_url_list \n",
    "}\n",
    "\n",
    "df = pd.DataFrame(data)\n",
    "\n",
    "df"
   ]
  },
  {
   "attachments": {},
   "cell_type": "markdown",
   "metadata": {},
   "source": [
    "# Save to .csv File"
   ]
  },
  {
   "cell_type": "code",
   "execution_count": null,
   "metadata": {},
   "outputs": [],
   "source": [
    "df.to_csv('not-paid-exhibitions.csv', index = False, encoding = 'utf-8-sig')"
   ]
  }
 ],
 "metadata": {
  "kernelspec": {
   "display_name": "mume",
   "language": "python",
   "name": "python3"
  },
  "language_info": {
   "codemirror_mode": {
    "name": "ipython",
    "version": 3
   },
   "file_extension": ".py",
   "mimetype": "text/x-python",
   "name": "python",
   "nbconvert_exporter": "python",
   "pygments_lexer": "ipython3",
   "version": "3.8.15"
  },
  "orig_nbformat": 4,
  "vscode": {
   "interpreter": {
    "hash": "0bb236f1bbaf4919c7840bf950b93226adb91e1985f4e4b01fecc02a73d7fe40"
   }
  }
 },
 "nbformat": 4,
 "nbformat_minor": 2
}
