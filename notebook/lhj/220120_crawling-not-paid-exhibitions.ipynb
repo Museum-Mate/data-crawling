{
 "cells": [
  {
   "cell_type": "code",
   "execution_count": 4,
   "metadata": {},
   "outputs": [],
   "source": [
    "# 필요 라이브러리\n",
    "import numpy as np\n",
    "import pandas as pd\n",
    "import requests\n",
    "import time\n",
    "import os\n",
    "import ssl\n",
    "\n",
    "from bs4 import BeautifulSoup\n",
    "from urllib.parse import quote\n",
    "from selenium import webdriver\n",
    "from collections import Counter"
   ]
  },
  {
   "cell_type": "code",
   "execution_count": 6,
   "metadata": {},
   "outputs": [
    {
     "name": "stdout",
     "output_type": "stream",
     "text": [
      "https://www.mmca.go.kr/exhibitions/progressList.do\n"
     ]
    },
    {
     "name": "stderr",
     "output_type": "stream",
     "text": [
      "/Users/hyeonju/opt/anaconda3/envs/mume/lib/python3.8/site-packages/urllib3/connectionpool.py:1045: InsecureRequestWarning: Unverified HTTPS request is being made to host 'www.mmca.go.kr'. Adding certificate verification is strongly advised. See: https://urllib3.readthedocs.io/en/1.26.x/advanced-usage.html#ssl-warnings\n",
      "  warnings.warn(\n"
     ]
    }
   ],
   "source": [
    "# 크롬 드라이버 생성\n",
    "driver = webdriver.Chrome(executable_path = '/Users/hyeonju/Desktop/data-crawling/chromedriver')\n",
    "\n",
    "# 크롤링 웹사이트 url 설정\n",
    "urls = [\n",
    "  f'https://www.mmca.go.kr/exhibitions/progressList.do', #국립현대미술관\n",
    "  f'https://culture.seoul.go.kr/culture/culture/cultureEvent/view.do?cultcode=140495&menuNo=200009&searchGcode=&searchHostType=&searchCate=EXHIBITION&searchSubjCd=7&sdate=&edate=&pageIndex=1',\n",
    "  # 서울문화포털 (583건)\n",
    "]\n",
    "url = urls[0]\n",
    "print(url)\n",
    "\n",
    "# case 1: requests로 데이터 요청하기\n",
    "# resp = requests.get(url)\n",
    "\n",
    "# case 2: https 사이트 SSL 인증 제외\n",
    "resp = requests.get(url, verify=False)\n",
    "\n",
    "# 설정한 url 로 데이터 get 함수 요청\n",
    "driver.get(url)"
   ]
  },
  {
   "cell_type": "markdown",
   "metadata": {},
   "source": []
  },
  {
   "cell_type": "code",
   "execution_count": null,
   "metadata": {},
   "outputs": [],
   "source": []
  },
  {
   "cell_type": "code",
   "execution_count": null,
   "metadata": {},
   "outputs": [],
   "source": []
  }
 ],
 "metadata": {
  "kernelspec": {
   "display_name": "mume",
   "language": "python",
   "name": "python3"
  },
  "language_info": {
   "codemirror_mode": {
    "name": "ipython",
    "version": 3
   },
   "file_extension": ".py",
   "mimetype": "text/x-python",
   "name": "python",
   "nbconvert_exporter": "python",
   "pygments_lexer": "ipython3",
   "version": "3.8.15"
  },
  "orig_nbformat": 4,
  "vscode": {
   "interpreter": {
    "hash": "0bb236f1bbaf4919c7840bf950b93226adb91e1985f4e4b01fecc02a73d7fe40"
   }
  }
 },
 "nbformat": 4,
 "nbformat_minor": 2
}
